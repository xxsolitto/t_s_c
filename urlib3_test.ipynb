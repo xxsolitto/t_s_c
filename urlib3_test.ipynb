{
 "cells": [
  {
   "cell_type": "code",
   "execution_count": 5,
   "id": "947f15ae-0458-4a3d-a2e6-5530401cc12b",
   "metadata": {},
   "outputs": [],
   "source": [
    "#ライブラリ\n",
    "import urllib3\n",
    "import json\n",
    "import pandas as pd"
   ]
  },
  {
   "cell_type": "code",
   "execution_count": 6,
   "id": "e24c5464-d942-4daa-a26d-0f000d9e44bc",
   "metadata": {},
   "outputs": [],
   "source": [
    "config = pd.read_csv(\"./config_academic.csv\")\n",
    "twitterAPIBearerToken=config['twitterApiBearerToken'][0]\n",
    "\n",
    "http = urllib3.PoolManager()\n",
    "KEY  = twitterAPIBearerToken"
   ]
  },
  {
   "cell_type": "code",
   "execution_count": 106,
   "id": "4a8fff6f-5d69-41d2-9591-6cd71c4d23cf",
   "metadata": {},
   "outputs": [],
   "source": [
    "def getTweetByText(http,key,searchFeild):\n",
    "    url  = 'https://api.twitter.com/2/tweets/search/all'\n",
    "\n",
    "    req = http.request('GET',\n",
    "                        url,\n",
    "                        headers= {'Authorization': 'Bearer '+key},\n",
    "                        fields = searchFeild\n",
    "                      )\n",
    "\n",
    "    result = json.loads(req.data)\n",
    "    if (req.status == 200):\n",
    "        if ('meta' in result):\n",
    "            print('検索結果は' + str(result['meta']['result_count']) + '件でした')\n",
    "\n",
    "        if ('data' in result):\n",
    "            t_data = []\n",
    "            i=0\n",
    "            for tweet in result['data']:\n",
    "                t_data.append([result['data'][i]['text'],\n",
    "                               result['data'][i]['public_metrics']['like_count'],\n",
    "                               result['data'][i]['public_metrics']['retweet_count'],\n",
    "                               result['data'][i]['created_at']])\n",
    "                i += 1\n",
    "        \n",
    "        if ('includes' in result):\n",
    "            u_data=[]\n",
    "            j=0\n",
    "            for tweet in result['includes']:\n",
    "                u_data.append([result['includes']['users'][j]['name'],\n",
    "                               '@'+result['includes']['users'][j]['username'],\n",
    "                               result['includes']['users'][j]['public_metrics']['following_count'],\n",
    "                               result['includes']['users'][j]['public_metrics']['followers_count']])\n",
    "                j += 1\n",
    "        \n",
    "        print(t_data)\n",
    "        print(u_data)\n",
    "            \n",
    "    else:\n",
    "        print('検索失敗')\n",
    "        print(req.status)\n",
    "        print(result['errors'])"
   ]
  },
  {
   "cell_type": "code",
   "execution_count": 107,
   "id": "76d1c77b-1585-4f0d-aa3f-2acf15e00ba4",
   "metadata": {},
   "outputs": [],
   "source": [
    "params = {'query'        : '(btc OR bitcoin) -giveaway lang:en -is:retweet -is:reply -is:nullcast',\n",
    "          'start_time'   : '2021-05-01T00:00:00Z',\n",
    "          'end_time'     : '2021-05-01T23:59:59Z',\n",
    "          'max_results'  : 10,\n",
    "          'expansions'   : 'author_id',\n",
    "          'tweet.fields' : 'text,created_at,public_metrics',\n",
    "          'user.fields'  : 'name,username,public_metrics'\n",
    "          }"
   ]
  },
  {
   "cell_type": "code",
   "execution_count": 108,
   "id": "60ebec43-07ab-499d-85a4-3fb578995d77",
   "metadata": {},
   "outputs": [
    {
     "name": "stdout",
     "output_type": "stream",
     "text": [
      "検索結果は10件でした\n",
      "[[\"#Investing 67.1% in this optimal #crypto portfolio and 32.9% #cash in the past 24 hours would have given you a 6.7% return rather than #Bitcoin's 0.2%, for the same level of #risk https://t.co/4UWzcXGPRI\", 2, 1, '2021-05-01T23:59:57.000Z'], ['It was about this time last year I was getting horny over my btc investment 😅', 1, 0, '2021-05-01T23:59:51.000Z'], ['Just to $tel you\\n\\nWE ARE HERE...\\n\\nDo you want to sell? Really? \\nJust 20 sat $btc ?\\n\\n#TelOneDollar #Telcoin #telfam #telco #tel #ALTSEASON https://t.co/x96mTW93nt', 66, 15, '2021-05-01T23:59:46.000Z'], [\"It's a good time to send #Bitcoin transactions if needed.\\n\\nFee's are cheap.\", 0, 0, '2021-05-01T23:59:40.000Z'], ['Why is everyone always looking for tips on getting into bitcoin, you just buy it', 0, 1, '2021-05-01T23:59:40.000Z'], ['Maybe his future generations would enter when $btc above 0.5 mil $ https://t.co/u2D1TPliXu', 0, 1, '2021-05-01T23:59:39.000Z'], ['Bitcoin Mining Wallpaper https://t.co/yFJBcWYVBA #Bitcoin #Mining #wallpaper', 0, 0, '2021-05-01T23:59:37.000Z'], ['#Ethereum - good platform of #defy and #nft, #Dogecoin - the global currency...#Bitcoin- just pirce\\U0001f972👀🤣😅 https://t.co/oCtcIizMiY', 0, 0, '2021-05-01T23:59:34.000Z'], ['◄ The sixth installment of my trade journal features one of my best Bitcoin (BTC) swing trades ever, catching much of the 40% move that caught many traders off guard. \\n\\nOpen your Crypto Account Now:\\nhttps://t.co/u5noovK5Wq\\n#Crypto https://t.co/TaYbzSf472', 0, 0, '2021-05-01T23:59:33.000Z'], ['Bitcoin price index https://t.co/o7UcHJUhC6 #USD #EUR #CNY #GBP #RUB https://t.co/uzcIDm1Q8E', 0, 0, '2021-05-01T23:59:31.000Z']]\n",
      "[['Crypto Watch Bot', '@CryptoWatchBot', 2680, 2784]]\n"
     ]
    }
   ],
   "source": [
    "getTweetByText(http, KEY, params)"
   ]
  },
  {
   "cell_type": "code",
   "execution_count": null,
   "id": "0a2d944f-17f7-452e-8417-320ba5e62658",
   "metadata": {},
   "outputs": [],
   "source": [
    "#処理前ツイート出力\n",
    "df = pd.DataFrame(data=t_data, columns=['Name','User Name','Following','Followers','Tweet','Favorite','RT','created at'])\n",
    "    \n",
    "df.to_csv(f'./tweet-of-btc/{dt5} ~ {dt4}.csv')"
   ]
  },
  {
   "cell_type": "code",
   "execution_count": 53,
   "id": "c891f2bb-c7c3-46f5-92b5-66faf2d7201e",
   "metadata": {},
   "outputs": [
    {
     "ename": "NameError",
     "evalue": "name 'req' is not defined",
     "output_type": "error",
     "traceback": [
      "\u001b[1;31m---------------------------------------------------------------------------\u001b[0m",
      "\u001b[1;31mNameError\u001b[0m                                 Traceback (most recent call last)",
      "\u001b[1;32m<ipython-input-53-68c395a1b59f>\u001b[0m in \u001b[0;36m<module>\u001b[1;34m\u001b[0m\n\u001b[1;32m----> 1\u001b[1;33m \u001b[0mresult\u001b[0m \u001b[1;33m=\u001b[0m \u001b[0mjson\u001b[0m\u001b[1;33m.\u001b[0m\u001b[0mloads\u001b[0m\u001b[1;33m(\u001b[0m\u001b[0mreq\u001b[0m\u001b[1;33m.\u001b[0m\u001b[0mdata\u001b[0m\u001b[1;33m)\u001b[0m\u001b[1;33m\u001b[0m\u001b[1;33m\u001b[0m\u001b[0m\n\u001b[0m\u001b[0;32m      2\u001b[0m \u001b[0mprint\u001b[0m\u001b[1;33m(\u001b[0m\u001b[0mresult\u001b[0m\u001b[1;33m[\u001b[0m\u001b[1;34m'meta'\u001b[0m\u001b[1;33m]\u001b[0m\u001b[1;33m)\u001b[0m\u001b[1;33m\u001b[0m\u001b[1;33m\u001b[0m\u001b[0m\n",
      "\u001b[1;31mNameError\u001b[0m: name 'req' is not defined"
     ]
    }
   ],
   "source": []
  },
  {
   "cell_type": "code",
   "execution_count": null,
   "id": "cffc8f16-00d8-4ef0-844b-be0637186a5f",
   "metadata": {},
   "outputs": [],
   "source": []
  },
  {
   "cell_type": "code",
   "execution_count": null,
   "id": "c1c1deb2-9088-44db-acee-5a7c763ff746",
   "metadata": {},
   "outputs": [],
   "source": []
  }
 ],
 "metadata": {
  "kernelspec": {
   "display_name": "Python 3",
   "language": "python",
   "name": "python3"
  },
  "language_info": {
   "codemirror_mode": {
    "name": "ipython",
    "version": 3
   },
   "file_extension": ".py",
   "mimetype": "text/x-python",
   "name": "python",
   "nbconvert_exporter": "python",
   "pygments_lexer": "ipython3",
   "version": "3.8.8"
  }
 },
 "nbformat": 4,
 "nbformat_minor": 5
}
