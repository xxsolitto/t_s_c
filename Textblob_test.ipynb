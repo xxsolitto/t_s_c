{
 "cells": [
  {
   "cell_type": "code",
   "execution_count": 60,
   "id": "f324b118-c497-49f8-a58f-7008ac59c0a5",
   "metadata": {},
   "outputs": [],
   "source": [
    "import tweepy\n",
    "\n",
    "# TextBlob - Python library for processing textual data\n",
    "from textblob import TextBlob\n",
    "\n",
    "# WordCloud - Python linrary for creating image wordclouds\n",
    "from wordcloud import WordCloud\n",
    "\n",
    "# Pandas - Data manipulation and analysis library\n",
    "import pandas as pd\n",
    "\n",
    "# NumPy - mathematical functions on multi-dimensional arrays and matrices\n",
    "import numpy as np\n",
    "\n",
    "# Regular Expression Python module\n",
    "import re\n",
    "\n",
    "# Matplotlib - plotting library to create graphs and charts\n",
    "import matplotlib.pyplot as plt\n",
    "\n",
    "import nltk\n",
    "\n",
    "# Settings for Matplotlib graphs and charts\n",
    "from pylab import rcParams\n",
    "rcParams['figure.figsize'] = 12, 8"
   ]
  },
  {
   "cell_type": "code",
   "execution_count": 61,
   "id": "7d92d928-d52e-4089-86f1-df419c318a91",
   "metadata": {},
   "outputs": [],
   "source": [
    "config = pd.read_csv(\"./config.csv\")"
   ]
  },
  {
   "cell_type": "code",
   "execution_count": 62,
   "id": "e4e0c3a9-5779-47d1-a3ad-be1cae99f1f0",
   "metadata": {},
   "outputs": [],
   "source": [
    "# Twitter API config\n",
    "twitterApiKey = config['twitterApiKey'][0]\n",
    "twitterApiSecret = config['twitterApiSecret'][0]\n",
    "twitterApiAccessToken = config['twitterApiAccessToken'][0]\n",
    "twitterApiAccessTokenSecret = config['twitterApiAccessTokenSecret'][0]"
   ]
  },
  {
   "cell_type": "code",
   "execution_count": 63,
   "id": "eb2402ac-8de5-46f4-bfa6-30e0babe37d1",
   "metadata": {},
   "outputs": [],
   "source": [
    "# Authenticate\n",
    "auth = tweepy.OAuthHandler(twitterApiKey, twitterApiSecret)\n",
    "auth.set_access_token(twitterApiAccessToken, twitterApiAccessTokenSecret)\n",
    "twitterApi = tweepy.API(auth, wait_on_rate_limit = True)"
   ]
  },
  {
   "cell_type": "code",
   "execution_count": 64,
   "id": "b9d656df-42d4-420c-b158-5ef9e6f8a170",
   "metadata": {},
   "outputs": [],
   "source": [
    "# キーワードからツイートを取得\n",
    "tweets = tweepy.Cursor(twitterApi.search,  \n",
    "                        count=1000,\n",
    "                        q='COVID',\n",
    "                        exclude_replies=True,\n",
    "                        lang = 'en',\n",
    "                        since='2021-06-27',\n",
    "                        until='2021-06-28'\n",
    "                        ).items(1000);\n"
   ]
  },
  {
   "cell_type": "code",
   "execution_count": 65,
   "id": "d9f0b566-e3cf-46e0-bd26-c36f359d5217",
   "metadata": {},
   "outputs": [
    {
     "data": {
      "text/html": [
       "<div>\n",
       "<style scoped>\n",
       "    .dataframe tbody tr th:only-of-type {\n",
       "        vertical-align: middle;\n",
       "    }\n",
       "\n",
       "    .dataframe tbody tr th {\n",
       "        vertical-align: top;\n",
       "    }\n",
       "\n",
       "    .dataframe thead th {\n",
       "        text-align: right;\n",
       "    }\n",
       "</style>\n",
       "<table border=\"1\" class=\"dataframe\">\n",
       "  <thead>\n",
       "    <tr style=\"text-align: right;\">\n",
       "      <th></th>\n",
       "      <th>Tweet</th>\n",
       "    </tr>\n",
       "  </thead>\n",
       "  <tbody>\n",
       "    <tr>\n",
       "      <th>0</th>\n",
       "      <td>RT @monteskw: Previous CJI Hon'ble Legand Shri...</td>\n",
       "    </tr>\n",
       "    <tr>\n",
       "      <th>1</th>\n",
       "      <td>Anti-vaxxer mistakes pub beer tent for Covid t...</td>\n",
       "    </tr>\n",
       "    <tr>\n",
       "      <th>2</th>\n",
       "      <td>RT @BrianMitchellMP: So why was the Treasurer ...</td>\n",
       "    </tr>\n",
       "    <tr>\n",
       "      <th>3</th>\n",
       "      <td>RT @RealMattCouch: The average age of death fr...</td>\n",
       "    </tr>\n",
       "    <tr>\n",
       "      <th>4</th>\n",
       "      <td>RT @shark_mendy: @VizagRailways @MP_MvvOfficia...</td>\n",
       "    </tr>\n",
       "    <tr>\n",
       "      <th>...</th>\n",
       "      <td>...</td>\n",
       "    </tr>\n",
       "    <tr>\n",
       "      <th>995</th>\n",
       "      <td>RT @SaludAmerica: Meet these real Latinos who:...</td>\n",
       "    </tr>\n",
       "    <tr>\n",
       "      <th>996</th>\n",
       "      <td>RT @kensleyanne: Every single athlete who made...</td>\n",
       "    </tr>\n",
       "    <tr>\n",
       "      <th>997</th>\n",
       "      <td>RT @angie_rasmussen: This is a huge story. An ...</td>\n",
       "    </tr>\n",
       "    <tr>\n",
       "      <th>998</th>\n",
       "      <td>RT @TheArcofMass: On June 29, learn about comp...</td>\n",
       "    </tr>\n",
       "    <tr>\n",
       "      <th>999</th>\n",
       "      <td>RT @RealMattCouch: The average age of death fr...</td>\n",
       "    </tr>\n",
       "  </tbody>\n",
       "</table>\n",
       "<p>1000 rows × 1 columns</p>\n",
       "</div>"
      ],
      "text/plain": [
       "                                                 Tweet\n",
       "0    RT @monteskw: Previous CJI Hon'ble Legand Shri...\n",
       "1    Anti-vaxxer mistakes pub beer tent for Covid t...\n",
       "2    RT @BrianMitchellMP: So why was the Treasurer ...\n",
       "3    RT @RealMattCouch: The average age of death fr...\n",
       "4    RT @shark_mendy: @VizagRailways @MP_MvvOfficia...\n",
       "..                                                 ...\n",
       "995  RT @SaludAmerica: Meet these real Latinos who:...\n",
       "996  RT @kensleyanne: Every single athlete who made...\n",
       "997  RT @angie_rasmussen: This is a huge story. An ...\n",
       "998  RT @TheArcofMass: On June 29, learn about comp...\n",
       "999  RT @RealMattCouch: The average age of death fr...\n",
       "\n",
       "[1000 rows x 1 columns]"
      ]
     },
     "execution_count": 65,
     "metadata": {},
     "output_type": "execute_result"
    }
   ],
   "source": [
    "df = pd.DataFrame(data=[tweet.text for tweet in tweets], columns=['Tweet'])\n",
    "df.head(1000)"
   ]
  },
  {
   "cell_type": "code",
   "execution_count": 66,
   "id": "03cfe179-d254-4359-8c1e-fe389a31c2fa",
   "metadata": {},
   "outputs": [],
   "source": [
    "# Cleaning the tweets\n",
    "\n",
    "def cleanUpTweet(txt):\n",
    "    # Remove mentions\n",
    "    txt = re.sub(r'@[A-Za-z0-9_]+', '', txt)\n",
    "    # Remove hashtags\n",
    "    txt = re.sub(r'#', '', txt)\n",
    "    # Remove retweets:\n",
    "    txt = re.sub(r'RT : ', '', txt)\n",
    "    # Remove urls\n",
    "    txt = re.sub(r'https?:\\/\\/[A-Za-z0-9\\.\\/]+', '', txt)\n",
    "    return txt"
   ]
  },
  {
   "cell_type": "code",
   "execution_count": 67,
   "id": "2cc0e4fb-11f0-4269-9279-6055324f22a9",
   "metadata": {},
   "outputs": [],
   "source": [
    "def getTextSubjectivity(txt):\n",
    "    return TextBlob(txt).sentiment.subjectivity\n",
    "\n",
    "def getTextPolarity(txt):\n",
    "    return TextBlob(txt).sentiment.polarity"
   ]
  },
  {
   "cell_type": "code",
   "execution_count": 68,
   "id": "d3b26a53-b565-4f3b-8c06-c6d2831116ed",
   "metadata": {
    "tags": []
   },
   "outputs": [],
   "source": [
    "df['Subjectivity'] = df['Tweet'].apply(getTextSubjectivity)\n",
    "df['Polarity'] = df['Tweet'].apply(getTextPolarity)"
   ]
  },
  {
   "cell_type": "code",
   "execution_count": 69,
   "id": "e97c3958-7f5e-4300-9399-33272de16273",
   "metadata": {},
   "outputs": [],
   "source": [
    "def getTextAnalysis(a):\n",
    "    if a < 0:\n",
    "        return \"Negative\"\n",
    "    elif a == 0:\n",
    "        return \"Neutral\"\n",
    "    else:\n",
    "        return \"Positive\""
   ]
  },
  {
   "cell_type": "code",
   "execution_count": 70,
   "id": "48c508ba-d200-4d0d-86df-6fc3c4948d39",
   "metadata": {},
   "outputs": [],
   "source": [
    "df['Sentiment'] = df['Polarity'].apply(getTextAnalysis)"
   ]
  },
  {
   "cell_type": "code",
   "execution_count": 71,
   "id": "8888ae20-56c6-48bb-b358-d739247c2e7f",
   "metadata": {},
   "outputs": [
    {
     "data": {
      "text/html": [
       "<div>\n",
       "<style scoped>\n",
       "    .dataframe tbody tr th:only-of-type {\n",
       "        vertical-align: middle;\n",
       "    }\n",
       "\n",
       "    .dataframe tbody tr th {\n",
       "        vertical-align: top;\n",
       "    }\n",
       "\n",
       "    .dataframe thead th {\n",
       "        text-align: right;\n",
       "    }\n",
       "</style>\n",
       "<table border=\"1\" class=\"dataframe\">\n",
       "  <thead>\n",
       "    <tr style=\"text-align: right;\">\n",
       "      <th></th>\n",
       "      <th>Tweet</th>\n",
       "      <th>Subjectivity</th>\n",
       "      <th>Polarity</th>\n",
       "      <th>Sentiment</th>\n",
       "    </tr>\n",
       "  </thead>\n",
       "  <tbody>\n",
       "    <tr>\n",
       "      <th>0</th>\n",
       "      <td>RT @monteskw: Previous CJI Hon'ble Legand Shri...</td>\n",
       "      <td>0.166667</td>\n",
       "      <td>-0.166667</td>\n",
       "      <td>Negative</td>\n",
       "    </tr>\n",
       "    <tr>\n",
       "      <th>1</th>\n",
       "      <td>Anti-vaxxer mistakes pub beer tent for Covid t...</td>\n",
       "      <td>0.000000</td>\n",
       "      <td>0.000000</td>\n",
       "      <td>Neutral</td>\n",
       "    </tr>\n",
       "    <tr>\n",
       "      <th>2</th>\n",
       "      <td>RT @BrianMitchellMP: So why was the Treasurer ...</td>\n",
       "      <td>0.366667</td>\n",
       "      <td>0.200000</td>\n",
       "      <td>Positive</td>\n",
       "    </tr>\n",
       "    <tr>\n",
       "      <th>3</th>\n",
       "      <td>RT @RealMattCouch: The average age of death fr...</td>\n",
       "      <td>0.400000</td>\n",
       "      <td>-0.150000</td>\n",
       "      <td>Negative</td>\n",
       "    </tr>\n",
       "    <tr>\n",
       "      <th>4</th>\n",
       "      <td>RT @shark_mendy: @VizagRailways @MP_MvvOfficia...</td>\n",
       "      <td>0.050000</td>\n",
       "      <td>-0.100000</td>\n",
       "      <td>Negative</td>\n",
       "    </tr>\n",
       "    <tr>\n",
       "      <th>...</th>\n",
       "      <td>...</td>\n",
       "      <td>...</td>\n",
       "      <td>...</td>\n",
       "      <td>...</td>\n",
       "    </tr>\n",
       "    <tr>\n",
       "      <th>995</th>\n",
       "      <td>RT @SaludAmerica: Meet these real Latinos who:...</td>\n",
       "      <td>0.300000</td>\n",
       "      <td>0.200000</td>\n",
       "      <td>Positive</td>\n",
       "    </tr>\n",
       "    <tr>\n",
       "      <th>996</th>\n",
       "      <td>RT @kensleyanne: Every single athlete who made...</td>\n",
       "      <td>0.157143</td>\n",
       "      <td>-0.085714</td>\n",
       "      <td>Negative</td>\n",
       "    </tr>\n",
       "    <tr>\n",
       "      <th>997</th>\n",
       "      <td>RT @angie_rasmussen: This is a huge story. An ...</td>\n",
       "      <td>0.589286</td>\n",
       "      <td>0.114286</td>\n",
       "      <td>Positive</td>\n",
       "    </tr>\n",
       "    <tr>\n",
       "      <th>998</th>\n",
       "      <td>RT @TheArcofMass: On June 29, learn about comp...</td>\n",
       "      <td>0.000000</td>\n",
       "      <td>0.000000</td>\n",
       "      <td>Neutral</td>\n",
       "    </tr>\n",
       "    <tr>\n",
       "      <th>999</th>\n",
       "      <td>RT @RealMattCouch: The average age of death fr...</td>\n",
       "      <td>0.400000</td>\n",
       "      <td>-0.150000</td>\n",
       "      <td>Negative</td>\n",
       "    </tr>\n",
       "  </tbody>\n",
       "</table>\n",
       "<p>1000 rows × 4 columns</p>\n",
       "</div>"
      ],
      "text/plain": [
       "                                                 Tweet  Subjectivity  \\\n",
       "0    RT @monteskw: Previous CJI Hon'ble Legand Shri...      0.166667   \n",
       "1    Anti-vaxxer mistakes pub beer tent for Covid t...      0.000000   \n",
       "2    RT @BrianMitchellMP: So why was the Treasurer ...      0.366667   \n",
       "3    RT @RealMattCouch: The average age of death fr...      0.400000   \n",
       "4    RT @shark_mendy: @VizagRailways @MP_MvvOfficia...      0.050000   \n",
       "..                                                 ...           ...   \n",
       "995  RT @SaludAmerica: Meet these real Latinos who:...      0.300000   \n",
       "996  RT @kensleyanne: Every single athlete who made...      0.157143   \n",
       "997  RT @angie_rasmussen: This is a huge story. An ...      0.589286   \n",
       "998  RT @TheArcofMass: On June 29, learn about comp...      0.000000   \n",
       "999  RT @RealMattCouch: The average age of death fr...      0.400000   \n",
       "\n",
       "     Polarity Sentiment  \n",
       "0   -0.166667  Negative  \n",
       "1    0.000000   Neutral  \n",
       "2    0.200000  Positive  \n",
       "3   -0.150000  Negative  \n",
       "4   -0.100000  Negative  \n",
       "..        ...       ...  \n",
       "995  0.200000  Positive  \n",
       "996 -0.085714  Negative  \n",
       "997  0.114286  Positive  \n",
       "998  0.000000   Neutral  \n",
       "999 -0.150000  Negative  \n",
       "\n",
       "[1000 rows x 4 columns]"
      ]
     },
     "execution_count": 71,
     "metadata": {},
     "output_type": "execute_result"
    }
   ],
   "source": [
    "df.head(1000)"
   ]
  },
  {
   "cell_type": "code",
   "execution_count": 72,
   "id": "462974c9-3a2d-41eb-bdd2-6238960edddf",
   "metadata": {},
   "outputs": [],
   "source": [
    "df.to_csv(\"COVID_sentiment_textblob.csv\")"
   ]
  },
  {
   "cell_type": "code",
   "execution_count": 73,
   "id": "80f70f91-9e86-4078-bb68-8904b8e0611a",
   "metadata": {},
   "outputs": [
    {
     "name": "stdout",
     "output_type": "stream",
     "text": [
      "36.9 % of positive tweets\n",
      "38.7 % of neutral tweets\n",
      "24.4 % of negative tweets\n"
     ]
    }
   ],
   "source": [
    "positive = df[df['Sentiment'] == 'Positive']\n",
    "neutral = df[df['Sentiment'] == 'Neutral']\n",
    "negative = df[df['Sentiment'] == 'Negative']\n",
    "\n",
    "print(str(positive.shape[0]/(df.shape[0])*100) + \" % of positive tweets\")\n",
    "print(str(neutral.shape[0]/(df.shape[0])*100) + \" % of neutral tweets\")\n",
    "print(str(negative.shape[0]/(df.shape[0])*100) + \" % of negative tweets\")"
   ]
  },
  {
   "cell_type": "code",
   "execution_count": 74,
   "id": "487c5c17-bc5d-4994-a346-e5ec8331bc91",
   "metadata": {},
   "outputs": [
    {
     "data": {
      "text/plain": [
       "<BarContainer object of 3 artists>"
      ]
     },
     "execution_count": 74,
     "metadata": {},
     "output_type": "execute_result"
    },
    {
     "data": {
      "image/png": "[encoded data removed]",
      "text/plain": [
       "<Figure size 864x576 with 1 Axes>"
      ]
     },
     "metadata": {
      "needs_background": "light"
     },
     "output_type": "display_data"
    }
   ],
   "source": [
    "labels = df.groupby('Sentiment').count().index.values\n",
    "\n",
    "values = df.groupby('Sentiment').size().values\n",
    "\n",
    "plt.bar(labels, values)"
   ]
  },
  {
   "cell_type": "code",
   "execution_count": null,
   "id": "076ff0f0-99aa-4ccc-bd10-36fc0790783b",
   "metadata": {},
   "outputs": [],
   "source": []
  }
 ],
 "metadata": {
  "kernelspec": {
   "display_name": "Python 3",
   "language": "python",
   "name": "python3"
  },
  "language_info": {
   "codemirror_mode": {
    "name": "ipython",
    "version": 3
   },
   "file_extension": ".py",
   "mimetype": "text/x-python",
   "name": "python",
   "nbconvert_exporter": "python",
   "pygments_lexer": "ipython3",
   "version": "3.8.1"
  }
 },
 "nbformat": 4,
 "nbformat_minor": 5
}
