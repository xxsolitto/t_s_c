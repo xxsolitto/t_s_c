{
 "cells": [
  {
   "cell_type": "code",
   "execution_count": 1,
   "id": "45283c2a-7954-4846-80af-db28a4a47179",
   "metadata": {},
   "outputs": [],
   "source": [
    "import pandas as pd\n",
    "import requests\n",
    "import json\n",
    "import re\n",
    "import ast\n",
    "import datetime\n",
    "import time"
   ]
  },
  {
   "cell_type": "code",
   "execution_count": null,
   "id": "d263ce2d-24ab-453b-9e25-b9997ba90bd1",
   "metadata": {},
   "outputs": [],
   "source": [
    "def create_url(QUERY, MAX_RESULTS):\n",
    "    # クエリ条件：指定のワードを含む、リツイートを除く、botと思われるユーザーのツイートを除く\n",
    "    query = QUERY\n",
    "    tweet_fields = \"tweet.fields=author_id,id,text,created_at\"\n",
    "    max_results = MAX_RESULTS\n",
    "    url = \"https://api.twitter.com/2/tweets/search/recent?query={}&{}&{}\".format(\n",
    "        query, tweet_fields, max_results\n",
    "    )\n",
    "    return url\n"
   ]
  },
  {
   "cell_type": "code",
   "execution_count": null,
   "id": "5031de5d-5e44-4d1a-9f46-f37f63500c77",
   "metadata": {},
   "outputs": [],
   "source": [
    "def create_headers(bearer_token):\n",
    "    headers = {\"Authorization\": \"Bearer {}\".format(bearer_token)}\n",
    "    return headers"
   ]
  },
  {
   "cell_type": "code",
   "execution_count": null,
   "id": "08e117cb-b49e-4e44-a304-d11a978c8964",
   "metadata": {},
   "outputs": [],
   "source": [
    "def connect_to_endpoint(url, headers):\n",
    "    response = requests.request(\"GET\", url, headers=headers)\n",
    "#     print('status code:', str(response.status_code))\n",
    "    if response.status_code != 200:\n",
    "        raise Exception(response.status_code, response.text)\n",
    "    return response.json()\n"
   ]
  },
  {
   "cell_type": "code",
   "execution_count": null,
   "id": "e3218c6e-1e65-421c-91ae-d6d1d0a895e9",
   "metadata": {},
   "outputs": [],
   "source": [
    "def get_tweet(BEARER_TOKEN, MAX_RESULTS, QUERY):\n",
    "    bearer_token = BEARER_TOKEN\n",
    "    url = create_url(QUERY, MAX_RESULTS)\n",
    "    headers = create_headers(bearer_token)\n",
    "    json_response = connect_to_endpoint(url, headers)\n",
    "    json_dumps = json.dumps(json_response, indent=4, sort_keys=True)\n",
    "    return ast.literal_eval(re.sub('\\\\n\\s+', '', json_dumps))"
   ]
  },
  {
   "cell_type": "code",
   "execution_count": null,
   "id": "80b33ec0-ac39-4abc-8355-436fa0b23b2d",
   "metadata": {},
   "outputs": [],
   "source": [
    "def utc_to_jst(timestamp_utc):\n",
    "    datetime_utc = datetime.datetime.strptime(timestamp_utc + \"+0000\", \"%Y-%m-%d %H:%M:%S.%f%z\")\n",
    "    datetime_jst = datetime_utc.astimezone(datetime.timezone(datetime.timedelta(hours=+9)))\n",
    "    timestamp_jst = datetime.datetime.strftime(datetime_jst, '%Y-%m-%d %H:%M:%S')\n",
    "    return timestamp_jst\n"
   ]
  },
  {
   "cell_type": "code",
   "execution_count": null,
   "id": "3dd05acf-09ac-4cbc-ae0a-45ff689c38f7",
   "metadata": {},
   "outputs": [],
   "source": [
    "def shape_data(data):\n",
    "    for i, d in enumerate(data):\n",
    "        # URLの削除\n",
    "        data[i]['text'] = re.sub('[ 　]https://t\\.co/[a-zA-Z0-9]+', '', d['text'])\n",
    "        # ユーザー名の削除\n",
    "        data[i]['text'] = re.sub('[ 　]?@[a-zA-Z0-9_]+[ 　]', '', d['text'])\n",
    "        # 絵文字の除去\n",
    "        data[i]['text'] = d['text'].encode('cp932',errors='ignore').decode('cp932')\n",
    "#         # ハッシュタグの削除\n",
    "#         data[i]['text'] = re.sub('#.+ ', '', d['text'])\n",
    "        # 全角スペース、タブ、改行を削除\n",
    "        data[i]['text'] = re.sub(r\"[\\u3000\\t\\n]\", \"\", d['text'])\n",
    "        # 日付時刻の変換（UTCからJST）\n",
    "        data[i]['created_at'] = utc_to_jst(d['created_at'].replace('T', ' ')[:-1])\n",
    "    return data"
   ]
  },
  {
   "cell_type": "code",
   "execution_count": null,
   "id": "de0e780c-225e-4d81-8fc6-e5ed284d51cf",
   "metadata": {},
   "outputs": [],
   "source": [
    "BEARER_TOKEN = \"[BEARER_TOKEN]\"\n",
    "MAX_RESULTS = \"max_results=100\" # A number between 10 and 100.\n",
    "\n",
    "TARGET_WORDS = [\n",
    "    \"トヨタ\",\n",
    "    \"日産\"\n",
    "]\n",
    "QUERY_CONDITIONS = [\n",
    "    \" -is:retweet -(from:HOGE OR from:FUGA)\",\n",
    "    \" -is:retweet -(from:FOO OR from:BAR)\"\n",
    "]\n",
    "\n",
    "df = pd.DataFrame()\n",
    "iterator, request_iterator = 0, 0\n"
   ]
  },
  {
   "cell_type": "code",
   "execution_count": null,
   "id": "975d6043-352e-48f7-adb8-a56e465116af",
   "metadata": {},
   "outputs": [],
   "source": [
    "# クエリのlistが終わるまでAPIを叩く\n",
    "for target_word, query_ in zip(TARGET_WORDS, QUERY_CONDITIONS):\n",
    "    next_token = ''\n",
    "    break_flag = False\n",
    "    # 次ページがなくなるまで次ページのクエリを取得\n",
    "    while True:\n",
    "        try:\n",
    "            data['meta']['next_token']\n",
    "        except KeyError: # 次ページがない(next_tokenがない)場合はループを抜ける\n",
    "            del data\n",
    "            break_flag = True\n",
    "        except NameError: # TARGET_WORDS内の各要素で初めてAPIを取得するとき\n",
    "            query = query_\n",
    "        else: # 2ページめ以降の処理\n",
    "            next_token = data['meta']['next_token']\n",
    "            query = query_ + '&next_token=' + next_token\n",
    "        finally:\n",
    "            if break_flag == True: break\n",
    "            QUERY = '{}{}'.format(target_word, query)\n",
    "            data = get_tweet(BEARER_TOKEN, MAX_RESULTS, QUERY)\n",
    "            temp_df = pd.DataFrame(shape_data(data['data']))\n",
    "            temp_df[target_word] = True\n",
    "            df = pd.concat([df, temp_df])\n",
    "\n",
    "            iterator += data['meta']['result_count']\n",
    "\n",
    "            request_iterator += 1\n",
    "            if request_iterator >= 180: # 180requestを超えたら止める\n",
    "                print('180リクエストを超えるため、15分間停止します...')\n",
    "                time.sleep(15.01*60) # 15分間（余裕をみてプラス1秒弱）中断\n",
    "                request_iterator = 0\n"
   ]
  },
  {
   "cell_type": "code",
   "execution_count": null,
   "id": "c4d00c30-a39b-44ba-9dfd-3bd9ebd7f3c3",
   "metadata": {},
   "outputs": [],
   "source": [
    "print(str(iterator) + '件取得しました。')\n",
    "df.reset_index(drop=True, inplace=True)\n",
    "df.to_pickle('./raw_tweetlog.pkl')"
   ]
  }
 ],
 "metadata": {
  "kernelspec": {
   "display_name": "Python 3",
   "language": "python",
   "name": "python3"
  },
  "language_info": {
   "codemirror_mode": {
    "name": "ipython",
    "version": 3
   },
   "file_extension": ".py",
   "mimetype": "text/x-python",
   "name": "python",
   "nbconvert_exporter": "python",
   "pygments_lexer": "ipython3",
   "version": "3.8.8"
  }
 },
 "nbformat": 4,
 "nbformat_minor": 5
}
