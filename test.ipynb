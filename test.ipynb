{
 "cells": [
  {
   "cell_type": "code",
   "execution_count": 28,
   "id": "fdb5fe80-e688-4eef-a240-c1c8a6495fe0",
   "metadata": {
    "tags": []
   },
   "outputs": [],
   "source": [
    "import tweepy\n",
    "from wordcloud import WordCloud\n",
    "import pandas as pd\n",
    "import numpy as np\n",
    "import re\n",
    "import matplotlib.pyplot as plt\n",
    "import nltk\n",
    "from pylab import rcParams\n",
    "rcParams['figure.figsize'] = 12, 8"
   ]
  },
  {
   "cell_type": "code",
   "execution_count": 29,
   "id": "50361529-4337-41a5-b4b2-f3e8ad374739",
   "metadata": {},
   "outputs": [],
   "source": [
    "config = pd.read_csv(\"./config.csv\")"
   ]
  },
  {
   "cell_type": "code",
   "execution_count": 30,
   "id": "3f22723c-e51b-407f-a5b8-53499bb7b645",
   "metadata": {},
   "outputs": [],
   "source": [
    "# Twitter API config\n",
    "twitterApiKey = config['twitterApiKey'][0]\n",
    "twitterApiSecret = config['twitterApiSecret'][0]\n",
    "twitterApiAccessToken = config['twitterApiAccessToken'][0]\n",
    "twitterApiAccessTokenSecret = config['twitterApiAccessTokenSecret'][0]"
   ]
  },
  {
   "cell_type": "code",
   "execution_count": 31,
   "id": "a5588e72-1b9c-4aaa-9114-b862d4657081",
   "metadata": {},
   "outputs": [],
   "source": [
    "# Authenticate\n",
    "auth = tweepy.OAuthHandler(twitterApiKey, twitterApiSecret)\n",
    "auth.set_access_token(twitterApiAccessToken, twitterApiAccessTokenSecret)\n",
    "api = tweepy.API(auth, wait_on_rate_limit = True)"
   ]
  },
  {
   "cell_type": "code",
   "execution_count": 37,
   "id": "d3bd6f93-8e4b-441a-9887-905300878bb9",
   "metadata": {},
   "outputs": [],
   "source": [
    "# キーワードからツイートを取得\n",
    "tweets = tweepy.Cursor(api.search,  \n",
    "                        count=10,\n",
    "                        q='COVID',\n",
    "                        exclude_replies=True,\n",
    "                        tweet_mode='extended',\n",
    "                        show_user=True,\n",
    "                        lang = 'en',\n",
    "                        since='2021-07-07',\n",
    "                        until='2021-07-13',\n",
    "                        ).items(10);"
   ]
  },
  {
   "cell_type": "code",
   "execution_count": 38,
   "id": "25e5ea6e-a718-41f3-8b3f-225116663ad3",
   "metadata": {},
   "outputs": [
    {
     "data": {
      "text/html": [
       "<div>\n",
       "<style scoped>\n",
       "    .dataframe tbody tr th:only-of-type {\n",
       "        vertical-align: middle;\n",
       "    }\n",
       "\n",
       "    .dataframe tbody tr th {\n",
       "        vertical-align: top;\n",
       "    }\n",
       "\n",
       "    .dataframe thead th {\n",
       "        text-align: right;\n",
       "    }\n",
       "</style>\n",
       "<table border=\"1\" class=\"dataframe\">\n",
       "  <thead>\n",
       "    <tr style=\"text-align: right;\">\n",
       "      <th></th>\n",
       "      <th>Tweet</th>\n",
       "    </tr>\n",
       "  </thead>\n",
       "  <tbody>\n",
       "    <tr>\n",
       "      <th>0</th>\n",
       "      <td>RT @manilabulletin: JUST IN: Quezon City Mayor...</td>\n",
       "    </tr>\n",
       "    <tr>\n",
       "      <th>1</th>\n",
       "      <td>@PoliticalGraham @EssexPR Imagine a bar full o...</td>\n",
       "    </tr>\n",
       "    <tr>\n",
       "      <th>2</th>\n",
       "      <td>RT @favfavalore: Newspapers around the world s...</td>\n",
       "    </tr>\n",
       "    <tr>\n",
       "      <th>3</th>\n",
       "      <td>RT @NYHammond: News from the HRI payroll:\\n\\nD...</td>\n",
       "    </tr>\n",
       "    <tr>\n",
       "      <th>4</th>\n",
       "      <td>I told my grandma Covid ain’t real and she sai...</td>\n",
       "    </tr>\n",
       "    <tr>\n",
       "      <th>5</th>\n",
       "      <td>RT @WSJPolitics: “There is still no smoking gu...</td>\n",
       "    </tr>\n",
       "    <tr>\n",
       "      <th>6</th>\n",
       "      <td>RT @jim_duffus: WELL...... WTF are Canadians g...</td>\n",
       "    </tr>\n",
       "    <tr>\n",
       "      <th>7</th>\n",
       "      <td>RT @JoanieReb: Anthony Fauci And Deborah Birx ...</td>\n",
       "    </tr>\n",
       "    <tr>\n",
       "      <th>8</th>\n",
       "      <td>RT @ZareenSejahan: Hi @AzminAli 😊\\n\\nHow does ...</td>\n",
       "    </tr>\n",
       "    <tr>\n",
       "      <th>9</th>\n",
       "      <td>RT @bethxlouisexx: If Instagram can flag up an...</td>\n",
       "    </tr>\n",
       "  </tbody>\n",
       "</table>\n",
       "</div>"
      ],
      "text/plain": [
       "                                               Tweet\n",
       "0  RT @manilabulletin: JUST IN: Quezon City Mayor...\n",
       "1  @PoliticalGraham @EssexPR Imagine a bar full o...\n",
       "2  RT @favfavalore: Newspapers around the world s...\n",
       "3  RT @NYHammond: News from the HRI payroll:\\n\\nD...\n",
       "4  I told my grandma Covid ain’t real and she sai...\n",
       "5  RT @WSJPolitics: “There is still no smoking gu...\n",
       "6  RT @jim_duffus: WELL...... WTF are Canadians g...\n",
       "7  RT @JoanieReb: Anthony Fauci And Deborah Birx ...\n",
       "8  RT @ZareenSejahan: Hi @AzminAli 😊\\n\\nHow does ...\n",
       "9  RT @bethxlouisexx: If Instagram can flag up an..."
      ]
     },
     "execution_count": 38,
     "metadata": {},
     "output_type": "execute_result"
    }
   ],
   "source": [
    "df = pd.DataFrame(data=[tweet.full_text for tweet in tweets], columns=['Tweet'])\n",
    "df.head(10)"
   ]
  },
  {
   "cell_type": "code",
   "execution_count": 20,
   "id": "702c355b-7df0-482f-8cbe-9c617078e298",
   "metadata": {},
   "outputs": [
    {
     "data": {
      "text/html": [
       "<div>\n",
       "<style scoped>\n",
       "    .dataframe tbody tr th:only-of-type {\n",
       "        vertical-align: middle;\n",
       "    }\n",
       "\n",
       "    .dataframe tbody tr th {\n",
       "        vertical-align: top;\n",
       "    }\n",
       "\n",
       "    .dataframe thead th {\n",
       "        text-align: right;\n",
       "    }\n",
       "</style>\n",
       "<table border=\"1\" class=\"dataframe\">\n",
       "  <thead>\n",
       "    <tr style=\"text-align: right;\">\n",
       "      <th></th>\n",
       "      <th>Tweet</th>\n",
       "    </tr>\n",
       "  </thead>\n",
       "  <tbody>\n",
       "    <tr>\n",
       "      <th>0</th>\n",
       "      <td>RT @manilabulletin: JUST IN: Quezon City Mayor...</td>\n",
       "    </tr>\n",
       "    <tr>\n",
       "      <th>1</th>\n",
       "      <td>@PoliticalGraham @EssexPR Imagine a bar full o...</td>\n",
       "    </tr>\n",
       "    <tr>\n",
       "      <th>2</th>\n",
       "      <td>RT @favfavalore: Newspapers around the world s...</td>\n",
       "    </tr>\n",
       "    <tr>\n",
       "      <th>3</th>\n",
       "      <td>RT @NYHammond: News from the HRI payroll:\\n\\nD...</td>\n",
       "    </tr>\n",
       "    <tr>\n",
       "      <th>4</th>\n",
       "      <td>I told my grandma Covid ain’t real and she sai...</td>\n",
       "    </tr>\n",
       "    <tr>\n",
       "      <th>5</th>\n",
       "      <td>RT @WSJPolitics: “There is still no smoking gu...</td>\n",
       "    </tr>\n",
       "    <tr>\n",
       "      <th>6</th>\n",
       "      <td>RT @jim_duffus: WELL...... WTF are Canadians g...</td>\n",
       "    </tr>\n",
       "    <tr>\n",
       "      <th>7</th>\n",
       "      <td>RT @JoanieReb: Anthony Fauci And Deborah Birx ...</td>\n",
       "    </tr>\n",
       "    <tr>\n",
       "      <th>8</th>\n",
       "      <td>RT @ZareenSejahan: Hi @AzminAli 😊\\n\\nHow does ...</td>\n",
       "    </tr>\n",
       "    <tr>\n",
       "      <th>9</th>\n",
       "      <td>RT @bethxlouisexx: If Instagram can flag up an...</td>\n",
       "    </tr>\n",
       "  </tbody>\n",
       "</table>\n",
       "</div>"
      ],
      "text/plain": [
       "                                               Tweet\n",
       "0  RT @manilabulletin: JUST IN: Quezon City Mayor...\n",
       "1  @PoliticalGraham @EssexPR Imagine a bar full o...\n",
       "2  RT @favfavalore: Newspapers around the world s...\n",
       "3  RT @NYHammond: News from the HRI payroll:\\n\\nD...\n",
       "4  I told my grandma Covid ain’t real and she sai...\n",
       "5  RT @WSJPolitics: “There is still no smoking gu...\n",
       "6  RT @jim_duffus: WELL...... WTF are Canadians g...\n",
       "7  RT @JoanieReb: Anthony Fauci And Deborah Birx ...\n",
       "8  RT @ZareenSejahan: Hi @AzminAli 😊\\n\\nHow does ...\n",
       "9  RT @bethxlouisexx: If Instagram can flag up an..."
      ]
     },
     "execution_count": 20,
     "metadata": {},
     "output_type": "execute_result"
    }
   ],
   "source": [
    "df.tail(10)"
   ]
  },
  {
   "cell_type": "code",
   "execution_count": 36,
   "id": "5b71ca6d-b2a8-430e-abb0-a2fdc115cde4",
   "metadata": {},
   "outputs": [
    {
     "name": "stdout",
     "output_type": "stream",
     "text": [
      "Status(_api=<tweepy.api.API object at 0x0000022D1D62BA30>, _json={'created_at': 'Sat Jul 10 04:00:01 +0000 2021', 'id': 1413709569201565701, 'id_str': '1413709569201565701', 'text': '2008年のきょう『ペルソナ4』(Persona 4)発売!!\\n『女神転生』シリーズの流れを組む本作は､グラフィックよし! サウンドよし! シナリオよし! 全てよし!! の無敵ゲーム｡\\nスマブラのステージ\"メメントス\"では､『P4… https://t.co/uvMkVxCbQo', 'truncated': True, 'entities': {'hashtags': [], 'symbols': [], 'user_mentions': [], 'urls': [{'url': 'https://t.co/uvMkVxCbQo', 'expanded_url': 'https://twitter.com/i/web/status/1413709569201565701', 'display_url': 'twitter.com/i/web/status/1…', 'indices': [117, 140]}]}, 'metadata': {'iso_language_code': 'ja', 'result_type': 'recent'}, 'source': '<a href=\"https://mobile.twitter.com\" rel=\"nofollow\">Twitter Web App</a>', 'in_reply_to_status_id': None, 'in_reply_to_status_id_str': None, 'in_reply_to_user_id': None, 'in_reply_to_user_id_str': None, 'in_reply_to_screen_name': None, 'user': {'id': 200965355, 'id_str': '200965355', 'name': '桜井 政博 / Masahiro Sakurai', 'screen_name': 'Sora_Sakurai', 'location': '東京都', 'description': \"ソラ(Sora)代表 ゲームデザイナー/ゲームディレクター 『大乱闘スマッシュブラザーズSPECIAL』(SSBU)DLC制作中。すみませんが、内容に関する質問には一切お答えできません。Please note that I won't be able to answer any questions.\", 'url': 'http://t.co/xs2Xqy2H3K', 'entities': {'url': {'urls': [{'url': 'http://t.co/xs2Xqy2H3K', 'expanded_url': 'http://www.smashbros.com', 'display_url': 'smashbros.com', 'indices': [0, 22]}]}, 'description': {'urls': []}}, 'protected': False, 'followers_count': 780701, 'friends_count': 162, 'listed_count': 4013, 'created_at': 'Sun Oct 10 19:03:25 +0000 2010', 'favourites_count': 0, 'utc_offset': None, 'time_zone': None, 'geo_enabled': False, 'verified': True, 'statuses_count': 11594, 'lang': None, 'contributors_enabled': False, 'is_translator': False, 'is_translation_enabled': False, 'profile_background_color': 'EBEBEB', 'profile_background_image_url': 'http://abs.twimg.com/images/themes/theme7/bg.gif', 'profile_background_image_url_https': 'https://abs.twimg.com/images/themes/theme7/bg.gif', 'profile_background_tile': False, 'profile_image_url': 'http://pbs.twimg.com/profile_images/582206711840133120/ajLwZLZL_normal.jpg', 'profile_image_url_https': 'https://pbs.twimg.com/profile_images/582206711840133120/ajLwZLZL_normal.jpg', 'profile_link_color': '990000', 'profile_sidebar_border_color': 'DFDFDF', 'profile_sidebar_fill_color': 'F3F3F3', 'profile_text_color': '333333', 'profile_use_background_image': True, 'has_extended_profile': False, 'default_profile': False, 'default_profile_image': False, 'following': False, 'follow_request_sent': False, 'notifications': False, 'translator_type': 'none', 'withheld_in_countries': []}, 'geo': None, 'coordinates': None, 'place': None, 'contributors': None, 'is_quote_status': False, 'retweet_count': 4117, 'favorite_count': 19381, 'favorited': False, 'retweeted': False, 'possibly_sensitive': False, 'lang': 'ja'}, created_at=datetime.datetime(2021, 7, 10, 4, 0, 1), id=1413709569201565701, id_str='1413709569201565701', text='2008年のきょう『ペルソナ4』(Persona 4)発売!!\\n『女神転生』シリーズの流れを組む本作は､グラフィックよし! サウンドよし! シナリオよし! 全てよし!! の無敵ゲーム｡\\nスマブラのステージ\"メメントス\"では､『P4… https://t.co/uvMkVxCbQo', truncated=True, entities={'hashtags': [], 'symbols': [], 'user_mentions': [], 'urls': [{'url': 'https://t.co/uvMkVxCbQo', 'expanded_url': 'https://twitter.com/i/web/status/1413709569201565701', 'display_url': 'twitter.com/i/web/status/1…', 'indices': [117, 140]}]}, metadata={'iso_language_code': 'ja', 'result_type': 'recent'}, source='Twitter Web App', source_url='https://mobile.twitter.com', in_reply_to_status_id=None, in_reply_to_status_id_str=None, in_reply_to_user_id=None, in_reply_to_user_id_str=None, in_reply_to_screen_name=None, author=User(_api=<tweepy.api.API object at 0x0000022D1D62BA30>, _json={'id': 200965355, 'id_str': '200965355', 'name': '桜井 政博 / Masahiro Sakurai', 'screen_name': 'Sora_Sakurai', 'location': '東京都', 'description': \"ソラ(Sora)代表 ゲームデザイナー/ゲームディレクター 『大乱闘スマッシュブラザーズSPECIAL』(SSBU)DLC制作中。すみませんが、内容に関する質問には一切お答えできません。Please note that I won't be able to answer any questions.\", 'url': 'http://t.co/xs2Xqy2H3K', 'entities': {'url': {'urls': [{'url': 'http://t.co/xs2Xqy2H3K', 'expanded_url': 'http://www.smashbros.com', 'display_url': 'smashbros.com', 'indices': [0, 22]}]}, 'description': {'urls': []}}, 'protected': False, 'followers_count': 780701, 'friends_count': 162, 'listed_count': 4013, 'created_at': 'Sun Oct 10 19:03:25 +0000 2010', 'favourites_count': 0, 'utc_offset': None, 'time_zone': None, 'geo_enabled': False, 'verified': True, 'statuses_count': 11594, 'lang': None, 'contributors_enabled': False, 'is_translator': False, 'is_translation_enabled': False, 'profile_background_color': 'EBEBEB', 'profile_background_image_url': 'http://abs.twimg.com/images/themes/theme7/bg.gif', 'profile_background_image_url_https': 'https://abs.twimg.com/images/themes/theme7/bg.gif', 'profile_background_tile': False, 'profile_image_url': 'http://pbs.twimg.com/profile_images/582206711840133120/ajLwZLZL_normal.jpg', 'profile_image_url_https': 'https://pbs.twimg.com/profile_images/582206711840133120/ajLwZLZL_normal.jpg', 'profile_link_color': '990000', 'profile_sidebar_border_color': 'DFDFDF', 'profile_sidebar_fill_color': 'F3F3F3', 'profile_text_color': '333333', 'profile_use_background_image': True, 'has_extended_profile': False, 'default_profile': False, 'default_profile_image': False, 'following': False, 'follow_request_sent': False, 'notifications': False, 'translator_type': 'none', 'withheld_in_countries': []}, id=200965355, id_str='200965355', name='桜井 政博 / Masahiro Sakurai', screen_name='Sora_Sakurai', location='東京都', description=\"ソラ(Sora)代表 ゲームデザイナー/ゲームディレクター 『大乱闘スマッシュブラザーズSPECIAL』(SSBU)DLC制作中。すみませんが、内容に関する質問には一切お答えできません。Please note that I won't be able to answer any questions.\", url='http://t.co/xs2Xqy2H3K', entities={'url': {'urls': [{'url': 'http://t.co/xs2Xqy2H3K', 'expanded_url': 'http://www.smashbros.com', 'display_url': 'smashbros.com', 'indices': [0, 22]}]}, 'description': {'urls': []}}, protected=False, followers_count=780701, friends_count=162, listed_count=4013, created_at=datetime.datetime(2010, 10, 10, 19, 3, 25), favourites_count=0, utc_offset=None, time_zone=None, geo_enabled=False, verified=True, statuses_count=11594, lang=None, contributors_enabled=False, is_translator=False, is_translation_enabled=False, profile_background_color='EBEBEB', profile_background_image_url='http://abs.twimg.com/images/themes/theme7/bg.gif', profile_background_image_url_https='https://abs.twimg.com/images/themes/theme7/bg.gif', profile_background_tile=False, profile_image_url='http://pbs.twimg.com/profile_images/582206711840133120/ajLwZLZL_normal.jpg', profile_image_url_https='https://pbs.twimg.com/profile_images/582206711840133120/ajLwZLZL_normal.jpg', profile_link_color='990000', profile_sidebar_border_color='DFDFDF', profile_sidebar_fill_color='F3F3F3', profile_text_color='333333', profile_use_background_image=True, has_extended_profile=False, default_profile=False, default_profile_image=False, following=False, follow_request_sent=False, notifications=False, translator_type='none', withheld_in_countries=[]), user=User(_api=<tweepy.api.API object at 0x0000022D1D62BA30>, _json={'id': 200965355, 'id_str': '200965355', 'name': '桜井 政博 / Masahiro Sakurai', 'screen_name': 'Sora_Sakurai', 'location': '東京都', 'description': \"ソラ(Sora)代表 ゲームデザイナー/ゲームディレクター 『大乱闘スマッシュブラザーズSPECIAL』(SSBU)DLC制作中。すみませんが、内容に関する質問には一切お答えできません。Please note that I won't be able to answer any questions.\", 'url': 'http://t.co/xs2Xqy2H3K', 'entities': {'url': {'urls': [{'url': 'http://t.co/xs2Xqy2H3K', 'expanded_url': 'http://www.smashbros.com', 'display_url': 'smashbros.com', 'indices': [0, 22]}]}, 'description': {'urls': []}}, 'protected': False, 'followers_count': 780701, 'friends_count': 162, 'listed_count': 4013, 'created_at': 'Sun Oct 10 19:03:25 +0000 2010', 'favourites_count': 0, 'utc_offset': None, 'time_zone': None, 'geo_enabled': False, 'verified': True, 'statuses_count': 11594, 'lang': None, 'contributors_enabled': False, 'is_translator': False, 'is_translation_enabled': False, 'profile_background_color': 'EBEBEB', 'profile_background_image_url': 'http://abs.twimg.com/images/themes/theme7/bg.gif', 'profile_background_image_url_https': 'https://abs.twimg.com/images/themes/theme7/bg.gif', 'profile_background_tile': False, 'profile_image_url': 'http://pbs.twimg.com/profile_images/582206711840133120/ajLwZLZL_normal.jpg', 'profile_image_url_https': 'https://pbs.twimg.com/profile_images/582206711840133120/ajLwZLZL_normal.jpg', 'profile_link_color': '990000', 'profile_sidebar_border_color': 'DFDFDF', 'profile_sidebar_fill_color': 'F3F3F3', 'profile_text_color': '333333', 'profile_use_background_image': True, 'has_extended_profile': False, 'default_profile': False, 'default_profile_image': False, 'following': False, 'follow_request_sent': False, 'notifications': False, 'translator_type': 'none', 'withheld_in_countries': []}, id=200965355, id_str='200965355', name='桜井 政博 / Masahiro Sakurai', screen_name='Sora_Sakurai', location='東京都', description=\"ソラ(Sora)代表 ゲームデザイナー/ゲームディレクター 『大乱闘スマッシュブラザーズSPECIAL』(SSBU)DLC制作中。すみませんが、内容に関する質問には一切お答えできません。Please note that I won't be able to answer any questions.\", url='http://t.co/xs2Xqy2H3K', entities={'url': {'urls': [{'url': 'http://t.co/xs2Xqy2H3K', 'expanded_url': 'http://www.smashbros.com', 'display_url': 'smashbros.com', 'indices': [0, 22]}]}, 'description': {'urls': []}}, protected=False, followers_count=780701, friends_count=162, listed_count=4013, created_at=datetime.datetime(2010, 10, 10, 19, 3, 25), favourites_count=0, utc_offset=None, time_zone=None, geo_enabled=False, verified=True, statuses_count=11594, lang=None, contributors_enabled=False, is_translator=False, is_translation_enabled=False, profile_background_color='EBEBEB', profile_background_image_url='http://abs.twimg.com/images/themes/theme7/bg.gif', profile_background_image_url_https='https://abs.twimg.com/images/themes/theme7/bg.gif', profile_background_tile=False, profile_image_url='http://pbs.twimg.com/profile_images/582206711840133120/ajLwZLZL_normal.jpg', profile_image_url_https='https://pbs.twimg.com/profile_images/582206711840133120/ajLwZLZL_normal.jpg', profile_link_color='990000', profile_sidebar_border_color='DFDFDF', profile_sidebar_fill_color='F3F3F3', profile_text_color='333333', profile_use_background_image=True, has_extended_profile=False, default_profile=False, default_profile_image=False, following=False, follow_request_sent=False, notifications=False, translator_type='none', withheld_in_countries=[]), geo=None, coordinates=None, place=None, contributors=None, is_quote_status=False, retweet_count=4117, favorite_count=19381, favorited=False, retweeted=False, possibly_sensitive=False, lang='ja')\n"
     ]
    }
   ],
   "source": [
    "for tweet in tweepy.Cursor(api.search, q='スマブラ min_faves:1000 min_retweets:1000 exclude:retweets').items(10):\n",
    "    print(tweet)"
   ]
  },
  {
   "cell_type": "code",
   "execution_count": null,
   "id": "0032ec5a-1d71-4faf-a1cb-696b3c235730",
   "metadata": {},
   "outputs": [],
   "source": []
  },
  {
   "cell_type": "code",
   "execution_count": null,
   "id": "24b605f0-dedf-465b-bb24-dd62b23c5c94",
   "metadata": {},
   "outputs": [],
   "source": []
  }
 ],
 "metadata": {
  "kernelspec": {
   "display_name": "Python 3",
   "language": "python",
   "name": "python3"
  },
  "language_info": {
   "codemirror_mode": {
    "name": "ipython",
    "version": 3
   },
   "file_extension": ".py",
   "mimetype": "text/x-python",
   "name": "python",
   "nbconvert_exporter": "python",
   "pygments_lexer": "ipython3",
   "version": "3.8.8"
  }
 },
 "nbformat": 4,
 "nbformat_minor": 5
}
