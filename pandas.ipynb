{
 "cells": [
  {
   "cell_type": "code",
   "execution_count": null,
   "id": "8be22f12-1cca-4d61-803f-892eabda6aee",
   "metadata": {},
   "outputs": [],
   "source": [
    "import pandas as pd\n",
    "import numpy as np\n",
    "import re\n",
    "import time\n",
    "import schedule\n",
    "import datetime\n",
    "import gc"
   ]
  },
  {
   "cell_type": "code",
   "execution_count": null,
   "id": "578f37e6-eb3b-4fd2-959e-1bb3214a3183",
   "metadata": {},
   "outputs": [],
   "source": [
    "# neg-1, neu-2, pos-3  \n",
    "def senti_number(txt):\n",
    "    if txt == 'Negative':\n",
    "        txt = re.sub(r'Negative', 1, txt)\n",
    "    elif txt == 'Neutral':\n",
    "        txt = re.sub(r'Neutral', 2, txt)\n",
    "    else:\n",
    "        txt = re.sub(r'Positive', 3, txt)\n",
    "    \n",
    "    return txt"
   ]
  },
  {
   "cell_type": "code",
   "execution_count": null,
   "id": "5ad2f7ee-61b3-40a6-8faf-4b186738d7ab",
   "metadata": {},
   "outputs": [],
   "source": [
    "# 感情の数値化\n",
    "# 引数：slist\n",
    "def assign_section(df,timespan):\n",
    "    df['Sentiment']  = df['Sentiment'].apply(senti_number)\n",
    "    \n",
    "    return df"
   ]
  },
  {
   "cell_type": "code",
   "execution_count": null,
   "id": "f3a7263e-5d2b-40df-aa4a-2b0679fefa98",
   "metadata": {},
   "outputs": [],
   "source": [
    "# UTC -> UNIX\n",
    "def utc_to_unix(txt):\n",
    "    #pythonの挙動により、2021-01-01T00:00:00.000Zを日本時間で読んでしまうので、culcで9hずらす\n",
    "    utc = datetime.datetime.strptime(txt, '%Y-%m-%dT%H:%M:%S.000Z')\n",
    "    \n",
    "    return utc.timestamp()  "
   ]
  },
  {
   "cell_type": "code",
   "execution_count": null,
   "id": "3d71cb27-91fc-4f0b-902a-ef98279a9d0c",
   "metadata": {},
   "outputs": [],
   "source": [
    "# 区間ナンバー計算(2021-01-01T00:00を区間0とする)\n",
    "def culc_section_s(unix,timespan):\n",
    "    section = int((unix - 1609426800)/timespan)\n",
    "    \n",
    "    return section"
   ]
  },
  {
   "cell_type": "code",
   "execution_count": null,
   "id": "1ee305d8-5bf0-4139-9a10-3131d41f415d",
   "metadata": {},
   "outputs": [],
   "source": [
    "# 区間ナンバー計算(2021-01-01T00:00を区間0とする)\n",
    "def culc_section_b(unix,timespan):\n",
    "    section = int((unix - 1609459200)/timespan)\n",
    "    \n",
    "    return section"
   ]
  },
  {
   "cell_type": "code",
   "execution_count": null,
   "id": "d008d4b8-3b86-4f4c-9673-902d35bb563b",
   "metadata": {},
   "outputs": [],
   "source": [
    "# 区間ナンバー計算\n",
    "# 引数：slist\n",
    "def assign_section_s(dfs,timespan):\n",
    "    tlis = {'1d':24*60*60, '12h':12*60*60, '4h':4*60*60, '1h':60*60, '30m':30*60, '15m':15*60, '5m':5*60}\n",
    "\n",
    "    if timespan in tlis:\n",
    "        s = tlis[timespan]\n",
    "    else:\n",
    "        print(\"KeyError\")\n",
    "        \n",
    "    dfs['created_at'] = dfs['created_at'].apply(utc_to_unix)\n",
    "    dfs['created_at'] = dfs['created_at'].apply(culc_section_s,args=(s,))\n",
    "    \n",
    "    return dfs"
   ]
  },
  {
   "cell_type": "code",
   "execution_count": null,
   "id": "7cf648d3-1377-4419-a009-d7751f4d992f",
   "metadata": {},
   "outputs": [],
   "source": [
    "# 区間ナンバー計算\n",
    "# 引数：BTCUSDT\n",
    "def assign_section_b(dfb,timespan):\n",
    "    tlis = {'1d':24*60*60, '12h':12*60*60, '4h':4*60*60, '1h':60*60, '30m':30*60, '15m':15*60, '5m':5*60}\n",
    "\n",
    "    if timespan in tlis:\n",
    "        s = tlis[timespan]\n",
    "    else:\n",
    "        print(\"KeyError\")\n",
    "\n",
    "    dfb['unix'] = dfb['unix'].apply(culc_section_b,args=(s,))\n",
    "    \n",
    "    return dfb"
   ]
  },
  {
   "cell_type": "code",
   "execution_count": null,
   "id": "c53d5480-bbb2-4d2a-b9b6-6095803d9721",
   "metadata": {},
   "outputs": [],
   "source": [
    "# 区間ナンバー\n",
    "# 引数：slist_c,elist\n",
    "def assign_section_e(dfs,dfe):\n",
    "    dfe['section'] = dfs['created_at']\n",
    "    \n",
    "    return dfe"
   ]
  },
  {
   "cell_type": "code",
   "execution_count": null,
   "id": "4aa0a41a-07d0-4e65-9b11-110c2637e318",
   "metadata": {},
   "outputs": [],
   "source": [
    "# 区間ごとにcomの平均をカウント\n",
    "# 引数：slist,elist\n",
    "def com_counter(dfs,dfe):\n",
    "    df_groupby = dfs.groupby(\"created_at\", as_index=False) \n",
    "    dfg = df_groupby.mean()\n",
    "    dfe['com_ave'] = dfg['Compound']\n",
    "    \n",
    "    return dfg, dfe.reset_index(drop=True)"
   ]
  },
  {
   "cell_type": "code",
   "execution_count": null,
   "id": "c2cc812e-fc1a-4074-8f2d-e6797092ea84",
   "metadata": {},
   "outputs": [],
   "source": [
    "# pos,neg,newを区間ごとにカウント\n",
    "# 引数：slist_s,elist\n",
    "def senti_counter(dfs,dfe):    \n",
    "    tmp_df = dfs.value_counts(sort=False).reset_index(name='count')\n",
    "    \n",
    "    n = tmp_df.shape[0]\n",
    "    k = int(n/3)\n",
    "\n",
    "    df3 = [tmp_df.loc[i:i+k-1, :] for i in range(0, n, k)]\n",
    "    df0 = df3[0].reset_index(drop=True)\n",
    "    df1 = df3[1].reset_index(drop=True)\n",
    "    df2 = df3[2].reset_index(drop=True)\n",
    "    \n",
    "    dfe['neg_count'] = df0['count']\n",
    "    dfe['neu_count'] = df1['count']\n",
    "    dfe['pos_count'] = df2['count']\n",
    "    \n",
    "    return dfe"
   ]
  },
  {
   "cell_type": "code",
   "execution_count": null,
   "id": "85c5286b-037c-4257-9e93-2a77a9c71b5c",
   "metadata": {},
   "outputs": [],
   "source": [
    "# Tweet数をカウント\n",
    "# 引数：elist\n",
    "def tweet_counter(dfe):\n",
    "    dfe['tweet_count']=dfe['neg_count']+dfe['neu_count']+dfe['pos_count']\n",
    "    \n",
    "    return dfe"
   ]
  },
  {
   "cell_type": "code",
   "execution_count": null,
   "id": "8ab7a37d-f091-4b36-b350-a401ca87f26b",
   "metadata": {},
   "outputs": [],
   "source": [
    "# 始値、ラベル\n",
    "# 引数：BTCUSDT,elist\n",
    "def merge(dfb,dfe):\n",
    "    dfe = pd.merge(dfe, dfb, left_on = \"section\", right_on = \"unix\", how = 'outer')\n",
    "    \n",
    "    return dfe.drop(columns = 'unix')"
   ]
  },
  {
   "cell_type": "code",
   "execution_count": null,
   "id": "f8beb066-9d88-4bf5-bade-38152e79182d",
   "metadata": {},
   "outputs": [],
   "source": [
    "# ラベル計算\n",
    "# 0:down, 1:stay, 2:up\n",
    "def culc_label(rate,a):\n",
    "    if rate <= a*(-1):\n",
    "        label = 0\n",
    "    elif a <= rate:\n",
    "        label = 2\n",
    "    else:\n",
    "        label = 1\n",
    "        \n",
    "    return label    "
   ]
  },
  {
   "cell_type": "code",
   "execution_count": null,
   "id": "d320c256-09d9-4ce8-b982-e4d796922776",
   "metadata": {},
   "outputs": [],
   "source": [
    "# ラベル付け(トレンド = (Pn+1-Pn)/pn )\n",
    "# 引数：elist\n",
    "def assign_label(dfe,timespan):\n",
    "    alis = {'1d':1.7*0.01, '12h':1.3*0.01, '4h':0.75*0.01, '1h':0.33*0.01, '30m':0.23*0.01, '15m':0.17*0.01, '5m':0.1*0.01}\n",
    "\n",
    "    if timespan in alis:\n",
    "        a = alis[timespan]\n",
    "    else:\n",
    "        print(\"KeyError\")\n",
    "    \n",
    "    dfr = pd.DataFrame(columns = ['open_rate'])\n",
    "    dfr['open_rate'] = dfe['open'].pct_change()\n",
    "    dfr['trend'] = dfr['open_rate'].apply(culc_label,args=(a,))\n",
    "    dfe['trend'] = dfr['trend']\n",
    "    \n",
    "    return dfe"
   ]
  },
  {
   "cell_type": "code",
   "execution_count": null,
   "id": "47a9ee3c-bd94-4401-a2a2-fdc7e68c2eb9",
   "metadata": {},
   "outputs": [],
   "source": [
    "# main\n",
    "month = int(input(\"monthを入力:\"))\n",
    "timespan = str(input(\"timespanを入力:\"))\n",
    "print(\"month:{}\".format(month))\n",
    "\n",
    "# csv読み込み\n",
    "dfe  = pd.DataFrame(columns = ['section','neg_count','neu_count','pos_count','com_ave','tweet_count'])\n",
    "dfs_s = pd.read_csv(f'tweet-sentiment/2021-0{month}_slist.csv',usecols=['Sentiment','created_at'])\n",
    "dfs_c = pd.read_csv(f'tweet-sentiment/2021-0{month}_slist.csv',usecols=['Compound','created_at'])\n",
    "dfb = pd.read_csv(f'binance/BTCUSDT/{timespan}/BTCUSDT-{timespan}-2021-0{month}.csv', usecols = ['unix','open'])\n",
    "print('read')\n",
    "\n",
    "# 区間ナンバー\n",
    "dfs_s = assign_section_s(dfs_s,timespan)\n",
    "dfs_c = assign_section_s(dfs_c,timespan)\n",
    "dfb = assign_section_b(dfb,timespan)\n",
    "print('kukan')\n",
    "\n",
    "# neg,neu,pos,com\n",
    "dfs_c, dfe = com_counter(dfs_c,dfe)\n",
    "dfe = senti_counter(dfs_s,dfe)\n",
    "dfe = tweet_counter(dfe)\n",
    "print('senti')\n",
    "\n",
    "#区間ナンバー \n",
    "dfe = assign_section_e(dfs_c,dfe)\n",
    "print('kukan_e')\n",
    "\n",
    "# merge\n",
    "dfe = merge(dfb,dfe)\n",
    "print('merge')\n",
    "\n",
    "# ラベル(トレンド)\n",
    "dfe = assign_label(dfe,timespan)\n",
    "print('label')\n",
    "\n",
    "# カラム名変更\n",
    "dfe = dfe.rename(columns={'open': 'open_price'})\n",
    "\n",
    "# csv出力\n",
    "dfe.to_csv(f'tweet-sentiment/{timespan}/2021-0{month}.csv',index=False)\n",
    "print(dfe)\n",
    "\n",
    "# メモリ開放\n",
    "del dfs_s,dfs_c,dfb,dfe\n",
    "gc.collect()"
   ]
  },
  {
   "cell_type": "code",
   "execution_count": null,
   "id": "7c4d4aa3-c61f-4ea5-a96f-f3f61cc431e9",
   "metadata": {},
   "outputs": [],
   "source": []
  },
  {
   "cell_type": "code",
   "execution_count": null,
   "id": "9bdce107-b094-4c43-83ef-f224923bfc30",
   "metadata": {},
   "outputs": [],
   "source": [
    "# binanceデータの第一処理\n",
    "    #カラム付け\n",
    "    #時間をUNIX秒に\n",
    "    #close_timeを削除\n",
    "'''\n",
    "def div(unix):\n",
    "    unix = int(unix/1000)\n",
    "    return unix\n",
    "\n",
    "df = pd.read_csv('binance/BTCUSDT/15m/BTCUSDT-15m-2021-01.csv', header=None)\n",
    "df.columns = ['unix',\n",
    "                'open',\n",
    "                'high',\n",
    "                'low',\n",
    "                'close',\n",
    "                'volume',\n",
    "                'close_time',\n",
    "                'quote_asset_volume',\n",
    "                'number_of_trades',\n",
    "                'taker_buy_base_asset_volume',\n",
    "                'taker_buy_quote_asset_volume',\n",
    "                'ignore']\n",
    "df['unix'] = df['unix'].apply(div)\n",
    "df.drop(columns=['close_time'], inplace=True)\n",
    "df.to_csv('binance/BTCUSDT/15m/BTCUSDT-15m-2021-01.csv', index=False)\n",
    "del df\n",
    "gc.collect()\n",
    "\n",
    "'''"
   ]
  },
  {
   "cell_type": "code",
   "execution_count": null,
   "id": "d9a5fb77-56d4-46c1-b45a-8c438e633086",
   "metadata": {},
   "outputs": [],
   "source": [
    "# 閾値判定用\n",
    "\n",
    "'''\n",
    "import numpy as np\n",
    "import pandas as pd\n",
    "import matplotlib.pyplot as plt\n",
    "\n",
    "month = 1\n",
    "timespan = str(input(\"timespanを入力:\"))\n",
    "\n",
    "files = [f'binance/BTCUSDT/{timespan}/BTCUSDT-{timespan}-2021-0{month}.csv',\n",
    "         f'binance/BTCUSDT/{timespan}/BTCUSDT-{timespan}-2021-0{month+1}.csv',\n",
    "         f'binance/BTCUSDT/{timespan}/BTCUSDT-{timespan}-2021-0{month+2}.csv',\n",
    "         f'binance/BTCUSDT/{timespan}/BTCUSDT-{timespan}-2021-0{month+3}.csv',\n",
    "         f'binance/BTCUSDT/{timespan}/BTCUSDT-{timespan}-2021-0{month+4}.csv',\n",
    "         f'binance/BTCUSDT/{timespan}/BTCUSDT-{timespan}-2021-0{month+5}.csv']\n",
    "datas = []\n",
    "df = pd.DataFrame(columns = ['open'])\n",
    "for file in files:\n",
    "    data = pd.read_csv(file, usecols = ['open'])\n",
    "    datas.append(data)\n",
    "\n",
    "df = pd.concat(datas).reset_index(drop=True)\n",
    "\n",
    "dfr = pd.DataFrame(columns = ['open_rate'])\n",
    "dfr['open_rate'] = df['open'].pct_change()\n",
    "\n",
    "print(dfr.describe(percentiles=[0.1,0.2,0.3,0.333,0.4,0.6,0.667,0.7,0.8,0.9]))\n",
    "\n",
    "plt.hist(dfr['open_rate'], bins=100000, ec='navy')\n",
    "plt.title('open_rate1-6')\n",
    "plt.xlabel('rate')\n",
    "plt.ylabel('count')\n",
    "plt.show()\n",
    "\n",
    "'''"
   ]
  },
  {
   "cell_type": "code",
   "execution_count": null,
   "id": "c048d14b-db05-42eb-b43f-b8982192f1ce",
   "metadata": {},
   "outputs": [],
   "source": []
  },
  {
   "cell_type": "code",
   "execution_count": null,
   "id": "ae3b43e5-00b3-4aa7-b5e3-87c6ae035ba3",
   "metadata": {},
   "outputs": [],
   "source": []
  },
  {
   "cell_type": "code",
   "execution_count": null,
   "id": "47b19e4f-bd44-4899-9321-e8e1c1e76e5c",
   "metadata": {},
   "outputs": [],
   "source": []
  },
  {
   "cell_type": "code",
   "execution_count": null,
   "id": "a5cec086-fabc-467e-8fd3-864a09089788",
   "metadata": {},
   "outputs": [],
   "source": []
  }
 ],
 "metadata": {
  "kernelspec": {
   "display_name": "Python 3 (ipykernel)",
   "language": "python",
   "name": "python3"
  },
  "language_info": {
   "codemirror_mode": {
    "name": "ipython",
    "version": 3
   },
   "file_extension": ".py",
   "mimetype": "text/x-python",
   "name": "python",
   "nbconvert_exporter": "python",
   "pygments_lexer": "ipython3",
   "version": "3.9.7"
  }
 },
 "nbformat": 4,
 "nbformat_minor": 5
}
