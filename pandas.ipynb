{
 "cells": [
  {
   "cell_type": "code",
   "execution_count": null,
   "id": "8be22f12-1cca-4d61-803f-892eabda6aee",
   "metadata": {},
   "outputs": [],
   "source": [
    "import pandas as pd\n",
    "import numpy as np\n",
    "import re\n",
    "import time\n",
    "import schedule\n",
    "import datetime\n",
    "import gc"
   ]
  },
  {
   "cell_type": "code",
   "execution_count": null,
   "id": "578f37e6-eb3b-4fd2-959e-1bb3214a3183",
   "metadata": {},
   "outputs": [],
   "source": [
    "# neg-1, neu-2, pos-3  \n",
    "def senti_number(txt):\n",
    "    if txt == 'Negative':\n",
    "        txt = re.sub(r'Negative', 1, txt)\n",
    "    elif txt == 'Neutral':\n",
    "        txt = re.sub(r'Neutral', 2, txt)\n",
    "    else:\n",
    "        txt = re.sub(r'Positive', 3, txt)\n",
    "    \n",
    "    return txt"
   ]
  },
  {
   "cell_type": "code",
   "execution_count": null,
   "id": "f3a7263e-5d2b-40df-aa4a-2b0679fefa98",
   "metadata": {},
   "outputs": [],
   "source": [
    "# UTC -> UNIX\n",
    "def utc_to_unix(txt):\n",
    "    utc = datetime.datetime.strptime(txt, '%Y-%m-%dT%H:%M:%S.000Z')\n",
    "    return utc.timestamp()\n",
    "    "
   ]
  },
  {
   "cell_type": "code",
   "execution_count": null,
   "id": "1ee305d8-5bf0-4139-9a10-3131d41f415d",
   "metadata": {},
   "outputs": [],
   "source": [
    "# 区間ナンバー割り当て(2021-01-01T00:00を区間0とする)\n",
    "def section(unix,timespan):\n",
    "    section = int((unix - 1609426800)/timespan)\n",
    "    return section"
   ]
  },
  {
   "cell_type": "code",
   "execution_count": null,
   "id": "c2cc812e-fc1a-4074-8f2d-e6797092ea84",
   "metadata": {},
   "outputs": [],
   "source": [
    "# pos,neg,newを区間ごとにカウント\n",
    "def senti_counter(df):    \n",
    "    return df.value_counts(sort=False).reset_index(name='count')"
   ]
  },
  {
   "cell_type": "code",
   "execution_count": null,
   "id": "4aa0a41a-07d0-4e65-9b11-110c2637e318",
   "metadata": {},
   "outputs": [],
   "source": [
    "# 区間ごとにcomの平均をカウント\n",
    "def com_counter(df):\n",
    "    df_groupby = df.groupby(\"section\") \n",
    "    return df_groupby.mean()"
   ]
  },
  {
   "cell_type": "code",
   "execution_count": null,
   "id": "e4bbf6d9-ec17-4e78-b23e-cc0e7ce5727d",
   "metadata": {},
   "outputs": [],
   "source": [
    "# ラベル up, down, stay （始値―終値）\n",
    "def trend(timespan)"
   ]
  },
  {
   "cell_type": "code",
   "execution_count": null,
   "id": "47a9ee3c-bd94-4401-a2a2-fdc7e68c2eb9",
   "metadata": {},
   "outputs": [],
   "source": []
  },
  {
   "cell_type": "code",
   "execution_count": null,
   "id": "b2cb6e19-e735-45e5-959f-78508ac59f32",
   "metadata": {},
   "outputs": [],
   "source": [
    "# main\n",
    "df = pd.read_csv('tweet-sentiment/2021-01_slist.csv', usecols = ['Compound','created_at'])\n",
    "#df1 = pd.DataFrame(columns = ['section','neg_count','neu_count','pos_count','com_ave','tweet_count'])\n",
    "df['created_at'] = df['created_at'].apply(utc_to_unix)\n",
    "df['created_at'] = df['created_at'].apply(section,args=(24*60*60,))\n"
   ]
  },
  {
   "cell_type": "code",
   "execution_count": null,
   "id": "ba7d255a-1d22-4f79-a4c9-bb9f19d69bfc",
   "metadata": {},
   "outputs": [],
   "source": [
    "df_groupby = df.groupby(\"created_at\") #Name列で集約されたオブジェクトを作成\n",
    "df_groupby.mean() #Nameのカテゴリー別平均"
   ]
  },
  {
   "cell_type": "code",
   "execution_count": null,
   "id": "b443517e-96db-4fe5-9d0d-7a092d411cdc",
   "metadata": {},
   "outputs": [],
   "source": [
    "tmp_df = df.value_counts(sort=False).reset_index(name='count')"
   ]
  },
  {
   "cell_type": "code",
   "execution_count": null,
   "id": "5aee82ee-ac1f-412b-9683-488748b3ddf5",
   "metadata": {},
   "outputs": [],
   "source": [
    "# メモリ開放\n",
    "del df,tmp_df\n",
    "gc.collect()"
   ]
  },
  {
   "cell_type": "code",
   "execution_count": null,
   "id": "30b5be90-5593-41c1-863f-46fcefc074b4",
   "metadata": {},
   "outputs": [],
   "source": [
    "print(tmp_df)"
   ]
  },
  {
   "cell_type": "code",
   "execution_count": null,
   "id": "c648309d-904f-4b04-a7db-1894c35e3f7e",
   "metadata": {},
   "outputs": [],
   "source": [
    "df.head(10)"
   ]
  },
  {
   "cell_type": "code",
   "execution_count": null,
   "id": "e0f81419-e8aa-4f8a-9f20-d73f6ecade35",
   "metadata": {},
   "outputs": [],
   "source": [
    "print(sorted_df)"
   ]
  },
  {
   "cell_type": "code",
   "execution_count": null,
   "id": "9bdce107-b094-4c43-83ef-f224923bfc30",
   "metadata": {},
   "outputs": [],
   "source": []
  }
 ],
 "metadata": {
  "kernelspec": {
   "display_name": "Python 3",
   "language": "python",
   "name": "python3"
  },
  "language_info": {
   "codemirror_mode": {
    "name": "ipython",
    "version": 3
   },
   "file_extension": ".py",
   "mimetype": "text/x-python",
   "name": "python",
   "nbconvert_exporter": "python",
   "pygments_lexer": "ipython3",
   "version": "3.8.8"
  }
 },
 "nbformat": 4,
 "nbformat_minor": 5
}
