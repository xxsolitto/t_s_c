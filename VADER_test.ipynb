{
 "cells": [
  {
   "cell_type": "code",
   "execution_count": 99,
   "id": "f324b118-c497-49f8-a58f-7008ac59c0a5",
   "metadata": {},
   "outputs": [],
   "source": [
    "import tweepy\n",
    "from wordcloud import WordCloud\n",
    "import pandas as pd\n",
    "import numpy as np\n",
    "import re\n",
    "import matplotlib.pyplot as plt\n",
    "import nltk\n",
    "from pylab import rcParams\n",
    "rcParams['figure.figsize'] = 12, 8"
   ]
  },
  {
   "cell_type": "code",
   "execution_count": 100,
   "id": "7d92d928-d52e-4089-86f1-df419c318a91",
   "metadata": {},
   "outputs": [],
   "source": [
    "config = pd.read_csv(\"./config.csv\")"
   ]
  },
  {
   "cell_type": "code",
   "execution_count": 101,
   "id": "e4e0c3a9-5779-47d1-a3ad-be1cae99f1f0",
   "metadata": {},
   "outputs": [],
   "source": [
    "# Twitter API config\n",
    "twitterApiKey = config['twitterApiKey'][0]\n",
    "twitterApiSecret = config['twitterApiSecret'][0]\n",
    "twitterApiAccessToken = config['twitterApiAccessToken'][0]\n",
    "twitterApiAccessTokenSecret = config['twitterApiAccessTokenSecret'][0]"
   ]
  },
  {
   "cell_type": "code",
   "execution_count": 102,
   "id": "eb2402ac-8de5-46f4-bfa6-30e0babe37d1",
   "metadata": {},
   "outputs": [],
   "source": [
    "# Authenticate\n",
    "auth = tweepy.OAuthHandler(twitterApiKey, twitterApiSecret)\n",
    "auth.set_access_token(twitterApiAccessToken, twitterApiAccessTokenSecret)\n",
    "twitterApi = tweepy.API(auth, wait_on_rate_limit = True)"
   ]
  },
  {
   "cell_type": "code",
   "execution_count": 103,
   "id": "b9d656df-42d4-420c-b158-5ef9e6f8a170",
   "metadata": {},
   "outputs": [],
   "source": [
    "# キーワードからツイートを取得\n",
    "tweets = tweepy.Cursor(twitterApi.search,  \n",
    "                        count=1000,\n",
    "                        q='COVID',\n",
    "                        exclude_replies=True,\n",
    "                        lang = 'en',\n",
    "                        since='2021-06-27',\n",
    "                        until='2021-06-28'\n",
    "                        ).items(1000);\n"
   ]
  },
  {
   "cell_type": "code",
   "execution_count": 104,
   "id": "d9f0b566-e3cf-46e0-bd26-c36f359d5217",
   "metadata": {},
   "outputs": [
    {
     "data": {
      "text/html": [
       "<div>\n",
       "<style scoped>\n",
       "    .dataframe tbody tr th:only-of-type {\n",
       "        vertical-align: middle;\n",
       "    }\n",
       "\n",
       "    .dataframe tbody tr th {\n",
       "        vertical-align: top;\n",
       "    }\n",
       "\n",
       "    .dataframe thead th {\n",
       "        text-align: right;\n",
       "    }\n",
       "</style>\n",
       "<table border=\"1\" class=\"dataframe\">\n",
       "  <thead>\n",
       "    <tr style=\"text-align: right;\">\n",
       "      <th></th>\n",
       "      <th>Tweet</th>\n",
       "    </tr>\n",
       "  </thead>\n",
       "  <tbody>\n",
       "    <tr>\n",
       "      <th>0</th>\n",
       "      <td>RT @monteskw: Previous CJI Hon'ble Legand Shri...</td>\n",
       "    </tr>\n",
       "    <tr>\n",
       "      <th>1</th>\n",
       "      <td>Anti-vaxxer mistakes pub beer tent for Covid t...</td>\n",
       "    </tr>\n",
       "    <tr>\n",
       "      <th>2</th>\n",
       "      <td>RT @BrianMitchellMP: So why was the Treasurer ...</td>\n",
       "    </tr>\n",
       "    <tr>\n",
       "      <th>3</th>\n",
       "      <td>RT @RealMattCouch: The average age of death fr...</td>\n",
       "    </tr>\n",
       "    <tr>\n",
       "      <th>4</th>\n",
       "      <td>RT @shark_mendy: @VizagRailways @MP_MvvOfficia...</td>\n",
       "    </tr>\n",
       "    <tr>\n",
       "      <th>...</th>\n",
       "      <td>...</td>\n",
       "    </tr>\n",
       "    <tr>\n",
       "      <th>995</th>\n",
       "      <td>RT @SaludAmerica: Meet these real Latinos who:...</td>\n",
       "    </tr>\n",
       "    <tr>\n",
       "      <th>996</th>\n",
       "      <td>RT @kensleyanne: Every single athlete who made...</td>\n",
       "    </tr>\n",
       "    <tr>\n",
       "      <th>997</th>\n",
       "      <td>RT @angie_rasmussen: This is a huge story. An ...</td>\n",
       "    </tr>\n",
       "    <tr>\n",
       "      <th>998</th>\n",
       "      <td>RT @TheArcofMass: On June 29, learn about comp...</td>\n",
       "    </tr>\n",
       "    <tr>\n",
       "      <th>999</th>\n",
       "      <td>RT @RealMattCouch: The average age of death fr...</td>\n",
       "    </tr>\n",
       "  </tbody>\n",
       "</table>\n",
       "<p>1000 rows × 1 columns</p>\n",
       "</div>"
      ],
      "text/plain": [
       "                                                 Tweet\n",
       "0    RT @monteskw: Previous CJI Hon'ble Legand Shri...\n",
       "1    Anti-vaxxer mistakes pub beer tent for Covid t...\n",
       "2    RT @BrianMitchellMP: So why was the Treasurer ...\n",
       "3    RT @RealMattCouch: The average age of death fr...\n",
       "4    RT @shark_mendy: @VizagRailways @MP_MvvOfficia...\n",
       "..                                                 ...\n",
       "995  RT @SaludAmerica: Meet these real Latinos who:...\n",
       "996  RT @kensleyanne: Every single athlete who made...\n",
       "997  RT @angie_rasmussen: This is a huge story. An ...\n",
       "998  RT @TheArcofMass: On June 29, learn about comp...\n",
       "999  RT @RealMattCouch: The average age of death fr...\n",
       "\n",
       "[1000 rows x 1 columns]"
      ]
     },
     "execution_count": 104,
     "metadata": {},
     "output_type": "execute_result"
    }
   ],
   "source": [
    "df = pd.DataFrame(data=[tweet.text for tweet in tweets], columns=['Tweet'])\n",
    "df.head(1000)"
   ]
  },
  {
   "cell_type": "code",
   "execution_count": 105,
   "id": "03cfe179-d254-4359-8c1e-fe389a31c2fa",
   "metadata": {},
   "outputs": [],
   "source": [
    "# Cleaning the tweets\n",
    "\n",
    "def cleanUpTweet(txt):\n",
    "    # Remove mentions\n",
    "    txt = re.sub(r'@[A-Za-z0-9_]+', '', txt)\n",
    "    # Remove hashtags\n",
    "    txt = re.sub(r'#', '', txt)\n",
    "    # Remove retweets:\n",
    "    txt = re.sub(r'RT : ', '', txt)\n",
    "    # Remove urls\n",
    "    txt = re.sub(r'https?:\\/\\/[A-Za-z0-9\\.\\/]+', '', txt)\n",
    "    return txt"
   ]
  },
  {
   "cell_type": "code",
   "execution_count": 106,
   "id": "2cc0e4fb-11f0-4269-9279-6055324f22a9",
   "metadata": {},
   "outputs": [
    {
     "name": "stderr",
     "output_type": "stream",
     "text": [
      "[nltk_data] Downloading package vader_lexicon to\n",
      "[nltk_data]     C:\\Users\\zxxxs\\AppData\\Roaming\\nltk_data...\n",
      "[nltk_data]   Package vader_lexicon is already up-to-date!\n"
     ]
    }
   ],
   "source": [
    "nltk.download('vader_lexicon')\n",
    "from nltk.sentiment.vader import SentimentIntensityAnalyzer\n",
    "vader_analyzer = SentimentIntensityAnalyzer()\n"
   ]
  },
  {
   "cell_type": "code",
   "execution_count": 107,
   "id": "d3b26a53-b565-4f3b-8c06-c6d2831116ed",
   "metadata": {
    "tags": []
   },
   "outputs": [],
   "source": [
    "def getTextPolarity(txt):\n",
    "    return vader_analyzer.polarity_scores(txt)\n",
    "def getTextPos(txt):\n",
    "    return txt.get(\"pos\")\n",
    "def getTextNeu(txt):\n",
    "    return txt.get(\"neu\")\n",
    "def getTextNeg(txt):\n",
    "    return txt.get(\"neg\")\n",
    "def getTextCom(txt):\n",
    "    return txt.get(\"compound\")\n",
    "\n",
    "def getTextAnalysis(l):\n",
    "    s = l.get(\"compound\")\n",
    "    if s < 0:\n",
    "        return \"Negative\"\n",
    "    elif s == 0:\n",
    "        return \"Neutral\"\n",
    "    else:\n",
    "        return \"Positive\""
   ]
  },
  {
   "cell_type": "code",
   "execution_count": 108,
   "id": "48c508ba-d200-4d0d-86df-6fc3c4948d39",
   "metadata": {},
   "outputs": [],
   "source": [
    "df['Score'] = df['Tweet'].apply(getTextPolarity)\n",
    "df['neg'] = df['Score'].apply(getTextNeg)\n",
    "df['neu'] = df['Score'].apply(getTextNeu)\n",
    "df['pos'] = df['Score'].apply(getTextPos)\n",
    "df['compound'] = df['Score'].apply(getTextCom)\n",
    "df['Sentiment'] = df['Score'].apply(getTextAnalysis)"
   ]
  },
  {
   "cell_type": "code",
   "execution_count": 109,
   "id": "8888ae20-56c6-48bb-b358-d739247c2e7f",
   "metadata": {},
   "outputs": [
    {
     "data": {
      "text/html": [
       "<div>\n",
       "<style scoped>\n",
       "    .dataframe tbody tr th:only-of-type {\n",
       "        vertical-align: middle;\n",
       "    }\n",
       "\n",
       "    .dataframe tbody tr th {\n",
       "        vertical-align: top;\n",
       "    }\n",
       "\n",
       "    .dataframe thead th {\n",
       "        text-align: right;\n",
       "    }\n",
       "</style>\n",
       "<table border=\"1\" class=\"dataframe\">\n",
       "  <thead>\n",
       "    <tr style=\"text-align: right;\">\n",
       "      <th></th>\n",
       "      <th>Tweet</th>\n",
       "      <th>neg</th>\n",
       "      <th>neu</th>\n",
       "      <th>pos</th>\n",
       "      <th>compound</th>\n",
       "      <th>Sentiment</th>\n",
       "    </tr>\n",
       "  </thead>\n",
       "  <tbody>\n",
       "    <tr>\n",
       "      <th>0</th>\n",
       "      <td>RT @monteskw: Previous CJI Hon'ble Legand Shri...</td>\n",
       "      <td>0.000</td>\n",
       "      <td>0.891</td>\n",
       "      <td>0.109</td>\n",
       "      <td>0.4019</td>\n",
       "      <td>Positive</td>\n",
       "    </tr>\n",
       "    <tr>\n",
       "      <th>1</th>\n",
       "      <td>Anti-vaxxer mistakes pub beer tent for Covid t...</td>\n",
       "      <td>0.143</td>\n",
       "      <td>0.857</td>\n",
       "      <td>0.000</td>\n",
       "      <td>-0.3612</td>\n",
       "      <td>Negative</td>\n",
       "    </tr>\n",
       "    <tr>\n",
       "      <th>2</th>\n",
       "      <td>RT @BrianMitchellMP: So why was the Treasurer ...</td>\n",
       "      <td>0.108</td>\n",
       "      <td>0.692</td>\n",
       "      <td>0.200</td>\n",
       "      <td>0.3400</td>\n",
       "      <td>Positive</td>\n",
       "    </tr>\n",
       "    <tr>\n",
       "      <th>3</th>\n",
       "      <td>RT @RealMattCouch: The average age of death fr...</td>\n",
       "      <td>0.120</td>\n",
       "      <td>0.735</td>\n",
       "      <td>0.145</td>\n",
       "      <td>0.1280</td>\n",
       "      <td>Positive</td>\n",
       "    </tr>\n",
       "    <tr>\n",
       "      <th>4</th>\n",
       "      <td>RT @shark_mendy: @VizagRailways @MP_MvvOfficia...</td>\n",
       "      <td>0.000</td>\n",
       "      <td>1.000</td>\n",
       "      <td>0.000</td>\n",
       "      <td>0.0000</td>\n",
       "      <td>Neutral</td>\n",
       "    </tr>\n",
       "    <tr>\n",
       "      <th>...</th>\n",
       "      <td>...</td>\n",
       "      <td>...</td>\n",
       "      <td>...</td>\n",
       "      <td>...</td>\n",
       "      <td>...</td>\n",
       "      <td>...</td>\n",
       "    </tr>\n",
       "    <tr>\n",
       "      <th>995</th>\n",
       "      <td>RT @SaludAmerica: Meet these real Latinos who:...</td>\n",
       "      <td>0.199</td>\n",
       "      <td>0.686</td>\n",
       "      <td>0.116</td>\n",
       "      <td>-0.3182</td>\n",
       "      <td>Negative</td>\n",
       "    </tr>\n",
       "    <tr>\n",
       "      <th>996</th>\n",
       "      <td>RT @kensleyanne: Every single athlete who made...</td>\n",
       "      <td>0.068</td>\n",
       "      <td>0.932</td>\n",
       "      <td>0.000</td>\n",
       "      <td>-0.1695</td>\n",
       "      <td>Negative</td>\n",
       "    </tr>\n",
       "    <tr>\n",
       "      <th>997</th>\n",
       "      <td>RT @angie_rasmussen: This is a huge story. An ...</td>\n",
       "      <td>0.205</td>\n",
       "      <td>0.709</td>\n",
       "      <td>0.086</td>\n",
       "      <td>-0.4939</td>\n",
       "      <td>Negative</td>\n",
       "    </tr>\n",
       "    <tr>\n",
       "      <th>998</th>\n",
       "      <td>RT @TheArcofMass: On June 29, learn about comp...</td>\n",
       "      <td>0.000</td>\n",
       "      <td>1.000</td>\n",
       "      <td>0.000</td>\n",
       "      <td>0.0000</td>\n",
       "      <td>Neutral</td>\n",
       "    </tr>\n",
       "    <tr>\n",
       "      <th>999</th>\n",
       "      <td>RT @RealMattCouch: The average age of death fr...</td>\n",
       "      <td>0.120</td>\n",
       "      <td>0.735</td>\n",
       "      <td>0.145</td>\n",
       "      <td>0.1280</td>\n",
       "      <td>Positive</td>\n",
       "    </tr>\n",
       "  </tbody>\n",
       "</table>\n",
       "<p>1000 rows × 6 columns</p>\n",
       "</div>"
      ],
      "text/plain": [
       "                                                 Tweet    neg    neu    pos  \\\n",
       "0    RT @monteskw: Previous CJI Hon'ble Legand Shri...  0.000  0.891  0.109   \n",
       "1    Anti-vaxxer mistakes pub beer tent for Covid t...  0.143  0.857  0.000   \n",
       "2    RT @BrianMitchellMP: So why was the Treasurer ...  0.108  0.692  0.200   \n",
       "3    RT @RealMattCouch: The average age of death fr...  0.120  0.735  0.145   \n",
       "4    RT @shark_mendy: @VizagRailways @MP_MvvOfficia...  0.000  1.000  0.000   \n",
       "..                                                 ...    ...    ...    ...   \n",
       "995  RT @SaludAmerica: Meet these real Latinos who:...  0.199  0.686  0.116   \n",
       "996  RT @kensleyanne: Every single athlete who made...  0.068  0.932  0.000   \n",
       "997  RT @angie_rasmussen: This is a huge story. An ...  0.205  0.709  0.086   \n",
       "998  RT @TheArcofMass: On June 29, learn about comp...  0.000  1.000  0.000   \n",
       "999  RT @RealMattCouch: The average age of death fr...  0.120  0.735  0.145   \n",
       "\n",
       "     compound Sentiment  \n",
       "0      0.4019  Positive  \n",
       "1     -0.3612  Negative  \n",
       "2      0.3400  Positive  \n",
       "3      0.1280  Positive  \n",
       "4      0.0000   Neutral  \n",
       "..        ...       ...  \n",
       "995   -0.3182  Negative  \n",
       "996   -0.1695  Negative  \n",
       "997   -0.4939  Negative  \n",
       "998    0.0000   Neutral  \n",
       "999    0.1280  Positive  \n",
       "\n",
       "[1000 rows x 6 columns]"
      ]
     },
     "execution_count": 109,
     "metadata": {},
     "output_type": "execute_result"
    }
   ],
   "source": [
    "df.drop(columns='Score')"
   ]
  },
  {
   "cell_type": "code",
   "execution_count": 110,
   "id": "462974c9-3a2d-41eb-bdd2-6238960edddf",
   "metadata": {},
   "outputs": [],
   "source": [
    "df.to_csv(\"COVID_sentiment_vader.csv\")"
   ]
  },
  {
   "cell_type": "code",
   "execution_count": 111,
   "id": "80f70f91-9e86-4078-bb68-8904b8e0611a",
   "metadata": {},
   "outputs": [
    {
     "name": "stdout",
     "output_type": "stream",
     "text": [
      "34.699999999999996 % of positive tweets\n",
      "25.6 % of neutral tweets\n",
      "39.7 % of negative tweets\n"
     ]
    }
   ],
   "source": [
    "positive = df[df['Sentiment'] == 'Positive']\n",
    "neutral = df[df['Sentiment'] == 'Neutral']\n",
    "negative = df[df['Sentiment'] == 'Negative']\n",
    "\n",
    "print(str(positive.shape[0]/(df.shape[0])*100) + \" % of positive tweets\")\n",
    "print(str(neutral.shape[0]/(df.shape[0])*100) + \" % of neutral tweets\")\n",
    "print(str(negative.shape[0]/(df.shape[0])*100) + \" % of negative tweets\")"
   ]
  },
  {
   "cell_type": "code",
   "execution_count": 112,
   "id": "487c5c17-bc5d-4994-a346-e5ec8331bc91",
   "metadata": {},
   "outputs": [
    {
     "data": {
      "text/plain": [
       "<BarContainer object of 3 artists>"
      ]
     },
     "execution_count": 112,
     "metadata": {},
     "output_type": "execute_result"
    },
    {
     "data": {
      "image/png": "[encoded data removed]",
      "text/plain": [
       "<Figure size 864x576 with 1 Axes>"
      ]
     },
     "metadata": {
      "needs_background": "light"
     },
     "output_type": "display_data"
    }
   ],
   "source": [
    "labels = df.groupby('Sentiment').count().index.values\n",
    "\n",
    "values = df.groupby('Sentiment').size().values\n",
    "\n",
    "plt.bar(labels, values)"
   ]
  },
  {
   "cell_type": "code",
   "execution_count": null,
   "id": "076ff0f0-99aa-4ccc-bd10-36fc0790783b",
   "metadata": {},
   "outputs": [],
   "source": []
  }
 ],
 "metadata": {
  "kernelspec": {
   "display_name": "Python 3",
   "language": "python",
   "name": "python3"
  },
  "language_info": {
   "codemirror_mode": {
    "name": "ipython",
    "version": 3
   },
   "file_extension": ".py",
   "mimetype": "text/x-python",
   "name": "python",
   "nbconvert_exporter": "python",
   "pygments_lexer": "ipython3",
   "version": "3.8.8"
  }
 },
 "nbformat": 4,
 "nbformat_minor": 5
}
