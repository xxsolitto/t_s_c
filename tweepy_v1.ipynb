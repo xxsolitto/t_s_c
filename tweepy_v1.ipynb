{
 "cells": [
  {
   "cell_type": "code",
   "execution_count": 1,
   "id": "326eb587-d550-4073-ade6-03fb33cf3ab6",
   "metadata": {},
   "outputs": [],
   "source": [
    "#ライブラリ\n",
    "import tweepy\n",
    "import nltk\n",
    "import stanza\n",
    "import pandas as pd\n",
    "import numpy as np\n",
    "import re\n",
    "import time\n",
    "import schedule\n",
    "import datetime"
   ]
  },
  {
   "cell_type": "code",
   "execution_count": 2,
   "id": "cfaa67d6-06a4-4c56-b465-dbbfa32d8a60",
   "metadata": {},
   "outputs": [],
   "source": [
    "#Twitter API config読み込み\n",
    "config = pd.read_csv(\"./config.csv\")"
   ]
  },
  {
   "cell_type": "code",
   "execution_count": 3,
   "id": "745ee74a-870e-400a-8326-a60418fd1d9b",
   "metadata": {},
   "outputs": [],
   "source": [
    "# Twitter API config\n",
    "twitterApiKey = config['twitterApiKey'][0]\n",
    "twitterApiSecret = config['twitterApiSecret'][0]\n",
    "twitterApiAccessToken = config['twitterApiAccessToken'][0]\n",
    "twitterApiAccessTokenSecret = config['twitterApiAccessTokenSecret'][0]"
   ]
  },
  {
   "cell_type": "code",
   "execution_count": 4,
   "id": "3392834f-6282-4dee-b959-42502184f8b0",
   "metadata": {},
   "outputs": [],
   "source": [
    "# Authenticate\n",
    "auth = tweepy.OAuthHandler(twitterApiKey, twitterApiSecret)\n",
    "auth.set_access_token(twitterApiAccessToken, twitterApiAccessTokenSecret)\n",
    "api = tweepy.API(auth, wait_on_rate_limit = True)"
   ]
  },
  {
   "cell_type": "code",
   "execution_count": 5,
   "id": "c7e69323-a274-4f84-a886-947cd7f40785",
   "metadata": {
    "tags": []
   },
   "outputs": [],
   "source": [
    "# ツイート収集&出力タスク定義\n",
    "def job():\n",
    "    #検索ワード、条件\n",
    "    s='btc min_faves:3 -filter:retweets'\n",
    "    \n",
    "    #5日前と4日前の時刻を取得\n",
    "    dt  = datetime.date.today()\n",
    "    dt5 = dt + datetime.timedelta(days=-5)\n",
    "    dt4 = dt + datetime.timedelta(days=-4)\n",
    "\n",
    "    #ツイート収集\n",
    "    tweets = tweepy.Cursor(api.search,  \n",
    "                           q=s,\n",
    "                           exclude_replies=True,\n",
    "                           tweet_mode='extended',\n",
    "                           lang = 'en',\n",
    "                           since= dt5,\n",
    "                           until= dt4,\n",
    "                          ).items(10000);\n",
    "    \n",
    "    #ツイートのリスト\n",
    "    t_data = []\n",
    "    for tweet in tweets:\n",
    "        t_data.append([tweet.user.name,\n",
    "                       '@'+tweet.user.screen_name,\n",
    "                       tweet.user.friends_count,\n",
    "                       tweet.user.followers_count,\n",
    "                       tweet.full_text.replace('\\n',''),\n",
    "                       tweet.favorite_count,\n",
    "                       tweet.retweet_count,\n",
    "                       tweet.created_at])\n",
    "\n",
    "\n",
    "              \n",
    "    #処理前ツイート出力\n",
    "    df = pd.DataFrame(data=t_data, columns=['Name','User Name','Following','Followers','Tweet','Favorite','RT','created at'])\n",
    "    \n",
    "    df.to_csv(f'./tweet-of-btc/{dt5} ~ {dt4}.csv')\n",
    "\n",
    "    #件数確認\n",
    "    dt_now = datetime.datetime.now()\n",
    "    print('現在時刻:{}\\n{} ~ {}：{}件収集完了\\n\\n'.format(dt_now,dt5,dt4,len(t_data)))\n",
    "    \n",
    "    #ログファイルに記録\n",
    "    df2 = pd.read_csv('./tweet-of-btc/assembling-log.csv')\n",
    "    s = pd.Series([dt_now,dt5,dt4,len(t_data)], index=['現在時刻', '区間(start)','区間(end)','収集件数'])\n",
    "    df2 = df2.append(s, ignore_index=True)\n",
    "    df2.to_csv('./tweet-of-btc/assembling-log.csv')"
   ]
  },
  {
   "cell_type": "code",
   "execution_count": 6,
   "id": "ce379687-1f5c-4f15-8362-3a8c86cae5a1",
   "metadata": {},
   "outputs": [],
   "source": [
    "# 定時実行\n",
    "def main():\n",
    "    schedule.every().day.at(\"12:00\").do(job)\n",
    "\n",
    "    while True:\n",
    "        schedule.run_pending()\n",
    "        time.sleep(1)"
   ]
  },
  {
   "cell_type": "code",
   "execution_count": null,
   "id": "d2a2c9bd-247c-4d34-9ddb-e3b201d76fba",
   "metadata": {},
   "outputs": [
    {
     "name": "stdout",
     "output_type": "stream",
     "text": [
      "現在時刻:2021-08-06 12:30:29.606516\n",
      "2021-08-01 ~ 2021-08-02：5878件収集完了\n",
      "\n",
      "\n",
      "現在時刻:2021-08-07 12:30:32.039524\n",
      "2021-08-02 ~ 2021-08-03：5973件収集完了\n",
      "\n",
      "\n",
      "現在時刻:2021-08-08 12:30:10.393740\n",
      "2021-08-03 ~ 2021-08-04：5394件収集完了\n",
      "\n",
      "\n",
      "現在時刻:2021-08-09 12:30:22.498061\n",
      "2021-08-04 ~ 2021-08-05：5705件収集完了\n",
      "\n",
      "\n",
      "現在時刻:2021-08-10 12:30:30.140484\n",
      "2021-08-05 ~ 2021-08-06：5947件収集完了\n",
      "\n",
      "\n",
      "現在時刻:2021-08-11 12:30:47.710744\n",
      "2021-08-06 ~ 2021-08-07：6469件収集完了\n",
      "\n",
      "\n"
     ]
    }
   ],
   "source": [
    "# main関数実行\n",
    "if __name__ == \"__main__\":\n",
    "    main()"
   ]
  }
 ],
 "metadata": {
  "kernelspec": {
   "display_name": "Python 3",
   "language": "python",
   "name": "python3"
  },
  "language_info": {
   "codemirror_mode": {
    "name": "ipython",
    "version": 3
   },
   "file_extension": ".py",
   "mimetype": "text/x-python",
   "name": "python",
   "nbconvert_exporter": "python",
   "pygments_lexer": "ipython3",
   "version": "3.8.8"
  }
 },
 "nbformat": 4,
 "nbformat_minor": 5
}
