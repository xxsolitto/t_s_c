{
 "cells": [
  {
   "cell_type": "code",
   "execution_count": 16,
   "id": "326eb587-d550-4073-ade6-03fb33cf3ab6",
   "metadata": {},
   "outputs": [],
   "source": [
    "#ライブラリ\n",
    "import tweepy\n",
    "import nltk\n",
    "import stanza\n",
    "import pandas as pd\n",
    "import numpy as np\n",
    "import re\n",
    "import matplotlib.pyplot as plt"
   ]
  },
  {
   "cell_type": "code",
   "execution_count": 17,
   "id": "cfaa67d6-06a4-4c56-b465-dbbfa32d8a60",
   "metadata": {},
   "outputs": [],
   "source": [
    "#Twitter API config読み込み\n",
    "config = pd.read_csv(\"./config.csv\")"
   ]
  },
  {
   "cell_type": "code",
   "execution_count": 18,
   "id": "745ee74a-870e-400a-8326-a60418fd1d9b",
   "metadata": {},
   "outputs": [],
   "source": [
    "# Twitter API config\n",
    "twitterApiKey = config['twitterApiKey'][0]\n",
    "twitterApiSecret = config['twitterApiSecret'][0]\n",
    "twitterApiAccessToken = config['twitterApiAccessToken'][0]\n",
    "twitterApiAccessTokenSecret = config['twitterApiAccessTokenSecret'][0]"
   ]
  },
  {
   "cell_type": "code",
   "execution_count": 19,
   "id": "3392834f-6282-4dee-b959-42502184f8b0",
   "metadata": {},
   "outputs": [],
   "source": [
    "# Authenticate\n",
    "auth = tweepy.OAuthHandler(twitterApiKey, twitterApiSecret)\n",
    "auth.set_access_token(twitterApiAccessToken, twitterApiAccessTokenSecret)\n",
    "api = tweepy.API(auth, wait_on_rate_limit = True)"
   ]
  },
  {
   "cell_type": "code",
   "execution_count": 20,
   "id": "c7e69323-a274-4f84-a886-947cd7f40785",
   "metadata": {
    "tags": []
   },
   "outputs": [],
   "source": [
    "# キーワードからツイートを取得\n",
    "s='btc min_faves:5 -filter:retweets'\n",
    "t='現在時刻'\n",
    "tweets = tweepy.Cursor(api.search,  \n",
    "#                      count=10,\n",
    "                        q=s,\n",
    "                        exclude_replies=True,\n",
    "                        tweet_mode='extended',\n",
    "                        show_user=True,\n",
    "                        lang = 'en',\n",
    "                        since='2021-07-26',\n",
    "                        until='2021-07-27',\n",
    "                        ).items(10000);"
   ]
  },
  {
   "cell_type": "code",
   "execution_count": 21,
   "id": "ce379687-1f5c-4f15-8362-3a8c86cae5a1",
   "metadata": {},
   "outputs": [],
   "source": [
    "#ツイートのリスト\n",
    "t1_data = []\n",
    "for tweet in tweets:\n",
    "    t1_data.append([tweet.user.name,'@'+tweet.user.screen_name,tweet.user.friends_count,tweet.user.followers_count,tweet.full_text.replace('\\n',''),tweet.favorite_count,tweet.retweet_count,tweet.created_at])"
   ]
  },
  {
   "cell_type": "code",
   "execution_count": 22,
   "id": "77280a45-9815-4ef2-bbc5-ffebf665f1d0",
   "metadata": {
    "tags": []
   },
   "outputs": [],
   "source": [
    "# キーワードからツイートを取得\n",
    "s='btc min_faves:5 -filter:retweets'\n",
    "t='現在時刻'\n",
    "tweets = tweepy.Cursor(api.search,  \n",
    "#                      count=10,\n",
    "                        q=s,\n",
    "                        exclude_replies=True,\n",
    "                        tweet_mode='extended',\n",
    "                        show_user=True,\n",
    "                        lang = 'en',\n",
    "                        since='2021-07-21',\n",
    "                        until='2021-07-22',\n",
    "                        ).items(10000);"
   ]
  },
  {
   "cell_type": "code",
   "execution_count": 23,
   "id": "4695c864-c9ec-4b87-a225-7055df7e99aa",
   "metadata": {},
   "outputs": [],
   "source": [
    "#ツイートのリスト\n",
    "t2_data = []\n",
    "for tweet in tweets:\n",
    "    t2_data.append([tweet.user.name,'@'+tweet.user.screen_name,tweet.user.friends_count,tweet.user.followers_count,tweet.full_text.replace('\\n',''),tweet.favorite_count,tweet.retweet_count,tweet.created_at])"
   ]
  },
  {
   "cell_type": "code",
   "execution_count": 24,
   "id": "363a634a-2571-49ee-b6fd-f359918e8662",
   "metadata": {
    "tags": []
   },
   "outputs": [],
   "source": [
    "# キーワードからツイートを取得\n",
    "s='btc min_faves:5 -filter:retweets'\n",
    "t='現在時刻'\n",
    "tweets = tweepy.Cursor(api.search,  \n",
    "#                      count=10,\n",
    "                        q=s,\n",
    "                        exclude_replies=True,\n",
    "                        tweet_mode='extended',\n",
    "                        show_user=True,\n",
    "                        lang = 'en',\n",
    "                        since='2021-07-22',\n",
    "                        until='2021-07-23',\n",
    "                        ).items(10000);"
   ]
  },
  {
   "cell_type": "code",
   "execution_count": 25,
   "id": "d1e40ede-cd34-4222-bee6-01f9139f50d2",
   "metadata": {},
   "outputs": [],
   "source": [
    "#ツイートのリスト\n",
    "t3_data = []\n",
    "for tweet in tweets:\n",
    "    t3_data.append([tweet.user.name,'@'+tweet.user.screen_name,tweet.user.friends_count,tweet.user.followers_count,tweet.full_text.replace('\\n',''),tweet.favorite_count,tweet.retweet_count,tweet.created_at])"
   ]
  },
  {
   "cell_type": "code",
   "execution_count": 26,
   "id": "d3b24501-4b89-42b5-a52d-51099a8fcaf1",
   "metadata": {
    "tags": []
   },
   "outputs": [],
   "source": [
    "# キーワードからツイートを取得\n",
    "s='btc min_faves:5 -filter:retweets'\n",
    "t='現在時刻'\n",
    "tweets = tweepy.Cursor(api.search,  \n",
    "#                      count=10,\n",
    "                        q=s,\n",
    "                        exclude_replies=True,\n",
    "                        tweet_mode='extended',\n",
    "                        show_user=True,\n",
    "                        lang = 'en',\n",
    "                        since='2021-07-23',\n",
    "                        until='2021-07-24',\n",
    "                        ).items(10000);"
   ]
  },
  {
   "cell_type": "code",
   "execution_count": 27,
   "id": "ce5d992f-7900-4f57-a3a1-c7b300b1230b",
   "metadata": {},
   "outputs": [],
   "source": [
    "#ツイートのリスト\n",
    "t4_data = []\n",
    "for tweet in tweets:\n",
    "    t4_data.append([tweet.user.name,'@'+tweet.user.screen_name,tweet.user.friends_count,tweet.user.followers_count,tweet.full_text.replace('\\n',''),tweet.favorite_count,tweet.retweet_count,tweet.created_at])"
   ]
  },
  {
   "cell_type": "code",
   "execution_count": 28,
   "id": "cd6ada18-3aa0-4e89-a6ef-2fc8591ab4c8",
   "metadata": {
    "tags": []
   },
   "outputs": [],
   "source": [
    "# キーワードからツイートを取得\n",
    "s='btc min_faves:5 -filter:retweets'\n",
    "t='現在時刻'\n",
    "tweets = tweepy.Cursor(api.search,  \n",
    "#                      count=10,\n",
    "                        q=s,\n",
    "                        exclude_replies=True,\n",
    "                        tweet_mode='extended',\n",
    "                        show_user=True,\n",
    "                        lang = 'en',\n",
    "                        since='2021-07-24',\n",
    "                        until='2021-07-25',\n",
    "                        ).items(10000);"
   ]
  },
  {
   "cell_type": "code",
   "execution_count": 29,
   "id": "f8d94b10-4965-4d3c-a412-c9e899eb94b6",
   "metadata": {},
   "outputs": [],
   "source": [
    "#ツイートのリスト\n",
    "t5_data = []\n",
    "for tweet in tweets:\n",
    "    t5_data.append([tweet.user.name,'@'+tweet.user.screen_name,tweet.user.friends_count,tweet.user.followers_count,tweet.full_text.replace('\\n',''),tweet.favorite_count,tweet.retweet_count,tweet.created_at])"
   ]
  },
  {
   "cell_type": "code",
   "execution_count": 30,
   "id": "34c355eb-c9d7-4cc7-ad5d-4520ac72de88",
   "metadata": {
    "tags": []
   },
   "outputs": [],
   "source": [
    "# キーワードからツイートを取得\n",
    "s='btc min_faves:5 -filter:retweets'\n",
    "t='現在時刻'\n",
    "tweets = tweepy.Cursor(api.search,  \n",
    "#                      count=10,\n",
    "                        q=s,\n",
    "                        exclude_replies=True,\n",
    "                        tweet_mode='extended',\n",
    "                        show_user=True,\n",
    "                        lang = 'en',\n",
    "                        since='2021-07-25',\n",
    "                        until='2021-07-26',\n",
    "                        ).items(10000);"
   ]
  },
  {
   "cell_type": "code",
   "execution_count": 31,
   "id": "a91cc8a4-59b5-4122-9d05-a26d60f3c19f",
   "metadata": {},
   "outputs": [],
   "source": [
    "#ツイートのリスト\n",
    "t6_data = []\n",
    "for tweet in tweets:\n",
    "    t6_data.append([tweet.user.name,'@'+tweet.user.screen_name,tweet.user.friends_count,tweet.user.followers_count,tweet.full_text.replace('\\n',''),tweet.favorite_count,tweet.retweet_count,tweet.created_at])"
   ]
  },
  {
   "cell_type": "code",
   "execution_count": 32,
   "id": "604e1e1b-32e6-4685-bc1d-359a9b7c5d5a",
   "metadata": {},
   "outputs": [
    {
     "name": "stdout",
     "output_type": "stream",
     "text": [
      "26-27：6857件\n",
      "21-22：4852件\n",
      "22-23：3489件\n",
      "23-24：3455件\n",
      "24-25：3305件\n",
      "25-26：2934件\n"
     ]
    }
   ],
   "source": [
    "#件数確認\n",
    "print('26-27：{}件\\n21-22：{}件\\n22-23：{}件\\n23-24：{}件\\n24-25：{}件\\n25-26：{}件'.format(len(t1_data),len(t2_data),len(t3_data),len(t4_data),len(t5_data),len(t6_data)))"
   ]
  },
  {
   "cell_type": "code",
   "execution_count": 33,
   "id": "a083d5bc-c228-4d32-9549-c4c069432b98",
   "metadata": {
    "tags": []
   },
   "outputs": [],
   "source": [
    "# キーワードからツイートを取得\n",
    "s='btc min_faves:5 min_retweets:1 -filter:retweets'\n",
    "t='現在時刻'\n",
    "tweets = tweepy.Cursor(api.search,  \n",
    "#                      count=10,\n",
    "                        q=s,\n",
    "                        exclude_replies=True,\n",
    "                        tweet_mode='extended',\n",
    "                        show_user=True,\n",
    "                        lang = 'en',\n",
    "                        since='2021-07-26',\n",
    "                        until='2021-07-27',\n",
    "                        ).items(10000);"
   ]
  },
  {
   "cell_type": "code",
   "execution_count": 34,
   "id": "4a963620-35ac-43b6-9b89-e646b44fb8a9",
   "metadata": {},
   "outputs": [],
   "source": [
    "#ツイートのリスト\n",
    "t1_data = []\n",
    "for tweet in tweets:\n",
    "    t1_data.append([tweet.user.name,'@'+tweet.user.screen_name,tweet.user.friends_count,tweet.user.followers_count,tweet.full_text.replace('\\n',''),tweet.favorite_count,tweet.retweet_count,tweet.created_at])"
   ]
  },
  {
   "cell_type": "code",
   "execution_count": 35,
   "id": "b3685468-8218-4fe4-b2fe-5d79d5ae6a0d",
   "metadata": {
    "tags": []
   },
   "outputs": [],
   "source": [
    "# キーワードからツイートを取得\n",
    "s='btc min_faves:5 min_retweets:1 -filter:retweets'\n",
    "t='現在時刻'\n",
    "tweets = tweepy.Cursor(api.search,  \n",
    "#                      count=10,\n",
    "                        q=s,\n",
    "                        exclude_replies=True,\n",
    "                        tweet_mode='extended',\n",
    "                        show_user=True,\n",
    "                        lang = 'en',\n",
    "                        since='2021-07-21',\n",
    "                        until='2021-07-22',\n",
    "                        ).items(10000);"
   ]
  },
  {
   "cell_type": "code",
   "execution_count": 36,
   "id": "13efc87f-a48c-4452-9095-96825b546c79",
   "metadata": {},
   "outputs": [],
   "source": [
    "#ツイートのリスト\n",
    "t2_data = []\n",
    "for tweet in tweets:\n",
    "    t2_data.append([tweet.user.name,'@'+tweet.user.screen_name,tweet.user.friends_count,tweet.user.followers_count,tweet.full_text.replace('\\n',''),tweet.favorite_count,tweet.retweet_count,tweet.created_at])"
   ]
  },
  {
   "cell_type": "code",
   "execution_count": 37,
   "id": "b2701bf1-d83a-4faa-9c5b-692bdfae72d3",
   "metadata": {
    "tags": []
   },
   "outputs": [],
   "source": [
    "# キーワードからツイートを取得\n",
    "s='btc min_faves:5 min_retweets:1 -filter:retweets'\n",
    "t='現在時刻'\n",
    "tweets = tweepy.Cursor(api.search,  \n",
    "#                      count=10,\n",
    "                        q=s,\n",
    "                        exclude_replies=True,\n",
    "                        tweet_mode='extended',\n",
    "                        show_user=True,\n",
    "                        lang = 'en',\n",
    "                        since='2021-07-22',\n",
    "                        until='2021-07-23',\n",
    "                        ).items(10000);"
   ]
  },
  {
   "cell_type": "code",
   "execution_count": 38,
   "id": "965f0f2f-f811-489f-bbd6-a67cc6e26006",
   "metadata": {},
   "outputs": [],
   "source": [
    "#ツイートのリスト\n",
    "t3_data = []\n",
    "for tweet in tweets:\n",
    "    t3_data.append([tweet.user.name,'@'+tweet.user.screen_name,tweet.user.friends_count,tweet.user.followers_count,tweet.full_text.replace('\\n',''),tweet.favorite_count,tweet.retweet_count,tweet.created_at])"
   ]
  },
  {
   "cell_type": "code",
   "execution_count": 39,
   "id": "e2b4f809-5fd0-4b8d-9999-62dda4d2cfd9",
   "metadata": {
    "tags": []
   },
   "outputs": [],
   "source": [
    "# キーワードからツイートを取得\n",
    "s='btc min_faves:5 min_retweets:1 -filter:retweets'\n",
    "t='現在時刻'\n",
    "tweets = tweepy.Cursor(api.search,  \n",
    "#                      count=10,\n",
    "                        q=s,\n",
    "                        exclude_replies=True,\n",
    "                        tweet_mode='extended',\n",
    "                        show_user=True,\n",
    "                        lang = 'en',\n",
    "                        since='2021-07-23',\n",
    "                        until='2021-07-24',\n",
    "                        ).items(10000);"
   ]
  },
  {
   "cell_type": "code",
   "execution_count": 40,
   "id": "feaf758d-c78b-4cdd-b61e-e73b1168805f",
   "metadata": {},
   "outputs": [],
   "source": [
    "#ツイートのリスト\n",
    "t4_data = []\n",
    "for tweet in tweets:\n",
    "    t4_data.append([tweet.user.name,'@'+tweet.user.screen_name,tweet.user.friends_count,tweet.user.followers_count,tweet.full_text.replace('\\n',''),tweet.favorite_count,tweet.retweet_count,tweet.created_at])"
   ]
  },
  {
   "cell_type": "code",
   "execution_count": 41,
   "id": "f599c7a5-b333-4602-8ebe-23fc79271635",
   "metadata": {
    "tags": []
   },
   "outputs": [],
   "source": [
    "# キーワードからツイートを取得\n",
    "s='btc min_faves:5 min_retweets:1 -filter:retweets'\n",
    "t='現在時刻'\n",
    "tweets = tweepy.Cursor(api.search,  \n",
    "#                      count=10,\n",
    "                        q=s,\n",
    "                        exclude_replies=True,\n",
    "                        tweet_mode='extended',\n",
    "                        show_user=True,\n",
    "                        lang = 'en',\n",
    "                        since='2021-07-24',\n",
    "                        until='2021-07-25',\n",
    "                        ).items(10000);"
   ]
  },
  {
   "cell_type": "code",
   "execution_count": 42,
   "id": "bc7826b7-5b61-416d-b854-af98563eec9f",
   "metadata": {},
   "outputs": [],
   "source": [
    "#ツイートのリスト\n",
    "t5_data = []\n",
    "for tweet in tweets:\n",
    "    t5_data.append([tweet.user.name,'@'+tweet.user.screen_name,tweet.user.friends_count,tweet.user.followers_count,tweet.full_text.replace('\\n',''),tweet.favorite_count,tweet.retweet_count,tweet.created_at])"
   ]
  },
  {
   "cell_type": "code",
   "execution_count": 43,
   "id": "ba606c23-9ef0-4545-9353-9554dae3d3ed",
   "metadata": {
    "tags": []
   },
   "outputs": [],
   "source": [
    "# キーワードからツイートを取得\n",
    "s='btc min_faves:5 min_retweets:1 -filter:retweets'\n",
    "t='現在時刻'\n",
    "tweets = tweepy.Cursor(api.search,  \n",
    "#                      count=10,\n",
    "                        q=s,\n",
    "                        exclude_replies=True,\n",
    "                        tweet_mode='extended',\n",
    "                        show_user=True,\n",
    "                        lang = 'en',\n",
    "                        since='2021-07-25',\n",
    "                        until='2021-07-26',\n",
    "                        ).items(10000);"
   ]
  },
  {
   "cell_type": "code",
   "execution_count": 44,
   "id": "cd3aba09-1309-415c-bdb2-f06bc1eb1927",
   "metadata": {},
   "outputs": [],
   "source": [
    "#ツイートのリスト\n",
    "t6_data = []\n",
    "for tweet in tweets:\n",
    "    t6_data.append([tweet.user.name,'@'+tweet.user.screen_name,tweet.user.friends_count,tweet.user.followers_count,tweet.full_text.replace('\\n',''),tweet.favorite_count,tweet.retweet_count,tweet.created_at])"
   ]
  },
  {
   "cell_type": "code",
   "execution_count": 45,
   "id": "eb5f989e-78da-46e5-9864-be96734d64fb",
   "metadata": {},
   "outputs": [
    {
     "name": "stdout",
     "output_type": "stream",
     "text": [
      "26-27：4394件\n",
      "21-22：3212件\n",
      "22-23：2330件\n",
      "23-24：2236件\n",
      "24-25：2184件\n",
      "25-26：1912件\n"
     ]
    }
   ],
   "source": [
    "#件数確認\n",
    "print('26-27：{}件\\n21-22：{}件\\n22-23：{}件\\n23-24：{}件\\n24-25：{}件\\n25-26：{}件'.format(len(t1_data),len(t2_data),len(t3_data),len(t4_data),len(t5_data),len(t6_data)))"
   ]
  },
  {
   "cell_type": "code",
   "execution_count": null,
   "id": "914888b0-8b6b-4372-9b94-d7a64ac2ba86",
   "metadata": {},
   "outputs": [],
   "source": []
  }
 ],
 "metadata": {
  "kernelspec": {
   "display_name": "Python 3",
   "language": "python",
   "name": "python3"
  },
  "language_info": {
   "codemirror_mode": {
    "name": "ipython",
    "version": 3
   },
   "file_extension": ".py",
   "mimetype": "text/x-python",
   "name": "python",
   "nbconvert_exporter": "python",
   "pygments_lexer": "ipython3",
   "version": "3.8.8"
  }
 },
 "nbformat": 4,
 "nbformat_minor": 5
}
