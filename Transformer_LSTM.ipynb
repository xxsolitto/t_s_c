{
 "cells": [
  {
   "cell_type": "code",
   "execution_count": 58,
   "id": "425ceb85-d9ff-409a-880f-1d0f94c562c2",
   "metadata": {
    "tags": []
   },
   "outputs": [],
   "source": [
    "import math\n",
    "import torch\n",
    "from torch import nn, Tensor\n",
    "from torch.nn import TransformerEncoder, TransformerEncoderLayer\n",
    "from torch.utils.data import Dataset, DataLoader\n",
    "from torchtext import data\n",
    "from torchtext.legacy import data\n",
    "from torchtext.data.utils import get_tokenizer\n",
    "from sklearn.model_selection import train_test_split\n",
    "import torch.nn.functional as F\n",
    "import pandas as pd\n",
    "import random\n",
    "from tqdm import tqdm\n",
    "import time\n",
    "import datetime\n",
    "import copy\n",
    "import gc"
   ]
  },
  {
   "cell_type": "code",
   "execution_count": 7,
   "id": "4e604666-0df1-4b16-9463-2d7f0f8d03c6",
   "metadata": {},
   "outputs": [
    {
     "name": "stdout",
     "output_type": "stream",
     "text": [
      "データ読み込み中\n",
      "データ読み込み完了\n",
      "len(vocab)=646245\n",
      "辞書作成完了\n",
      "334.53 s\n"
     ]
    },
    {
     "data": {
      "text/plain": [
       "3687"
      ]
     },
     "execution_count": 7,
     "metadata": {},
     "output_type": "execute_result"
    }
   ],
   "source": [
    "# vacab作成\n",
    "# テキストを単語で分割\n",
    "v_start = time.time()\n",
    "tokenizer = get_tokenizer('basic_english')\n",
    "\n",
    "# data field定義\n",
    "TEXT  = data.Field(sequential=True,\n",
    "                     lower=True,\n",
    "                     batch_first=True, \n",
    "                     tokenize=tokenizer,\n",
    "                     init_token='<cls>')\n",
    "\n",
    "print(\"データ読み込み中\")\n",
    "# CSVファイルを読み込み、TabularDatasetオブジェクトの作成\n",
    "vocab_data = data.TabularDataset(path ='tweet-transformer/1d/2021-17.csv',\n",
    "                                       format='csv',\n",
    "                                       skip_header = True,\n",
    "                                       fields=[('tweet', TEXT)])\n",
    "print(\"データ読み込み完了\")\n",
    "\n",
    "# 単語辞書の作成\n",
    "TEXT.build_vocab(vocab_data, min_freq=3)\n",
    "vocab = TEXT.vocab\n",
    "print(f'{len(vocab)=}')\n",
    "\n",
    "print('辞書作成完了')\n",
    "print(f'{time.time() - v_start:5.2f} s')\n",
    "\n",
    "# メモリ開放\n",
    "del v_start, vocab_data, tokenizer, TEXT\n",
    "gc.collect()"
   ]
  },
  {
   "cell_type": "code",
   "execution_count": 92,
   "id": "9406e05f-80e9-4f74-92d8-409d156844a6",
   "metadata": {},
   "outputs": [],
   "source": [
    "# Datasetの定義\n",
    "class CreateDataset1(Dataset):\n",
    "    def __init__(self, x, y, tokenizer, vocab, max_len):\n",
    "        self.x = x\n",
    "        self.y = y\n",
    "        self.tokenizer = tokenizer\n",
    "        self.vocab = vocab\n",
    "        self.max_len = max_len\n",
    "\n",
    "    # len(Dataset)で返す値を指定    \n",
    "    def __len__(self):\n",
    "        return len(self.y)\n",
    "\n",
    "    # Dataset[index]で返す値を指定\n",
    "    def __getitem__(self, index):\n",
    "        text = self.x[index]\n",
    "        text = self.tokenizer(text)\n",
    "        ids  = torch.tensor((self.vocab[word] for word in text), dtype=torch.long) # [seq_len]\n",
    "        ids  = F.pad(ids, (0 ,max_len-len(text)), \"constant\", 0) # [max_len]\n",
    "        mask = (ids==0)\n",
    "\n",
    "        section = self.y[index]\n",
    "\n",
    "        return {'ids'   : ids,\n",
    "                'mask'  : mask,\n",
    "                'section': torch.Tensor([section])}"
   ]
  },
  {
   "cell_type": "code",
   "execution_count": 60,
   "id": "dd9d930b-c4e0-497b-838e-32b59adabb5b",
   "metadata": {},
   "outputs": [],
   "source": [
    "def separate_section(dataset, device):\n",
    "    ids_list  = []\n",
    "    mask_list = []\n",
    "    start_time = time.time()\n",
    "    counter = -1\n",
    "    \n",
    "    for k in range(0, len(dataset)):\n",
    "        i = dataset[k]['ids'].squeeze().to(device)\n",
    "        m = dataset[k]['mask'].squeeze().to(device)\n",
    "        if counter != dataset[k]['section']:\n",
    "            ids_list.append([i])\n",
    "            mask_list.append([m])\n",
    "            counter += 1\n",
    "        else:\n",
    "            ids_list[counter].append(i)\n",
    "            mask_list[counter].append(m)\n",
    "            \n",
    "        if k%3000000==0 and k!=0:\n",
    "            print(f'現在{k}件終了')\n",
    "            print(f'経過時間{start_time - time.time()}s')\n",
    "    \n",
    "    print(f'{len(ids_list)=}')\n",
    "    print(f'{len(mask_list)=}')\n",
    "    \n",
    "    del i, m, k, start, counter\n",
    "    gc.collect()\n",
    "    \n",
    "    return ids_list, mask_list"
   ]
  },
  {
   "cell_type": "code",
   "execution_count": 61,
   "id": "70cac4e7-4cf8-4513-9c23-d5d2481c3360",
   "metadata": {},
   "outputs": [],
   "source": [
    "# Datasetの定義\n",
    "class CreateDataset2(Dataset):\n",
    "    def __init__(self, x, y, device):\n",
    "        self.x = x\n",
    "        self.y = y\n",
    "        \n",
    "    # len(Dataset)で返す値を指定\n",
    "    def __len__(self):\n",
    "        return len(self.x)\n",
    "\n",
    "    # Dataset[index]で返す値を指定\n",
    "    def __getitem__(self, index):\n",
    "        ids  = self.x[index]\n",
    "        mask = self.y[index]\n",
    "\n",
    "        return {'ids'   : ids,\n",
    "                'mask'  : mask}"
   ]
  },
  {
   "cell_type": "code",
   "execution_count": 62,
   "id": "d47a3777-0423-4ea8-a3bd-7fd9421abb5d",
   "metadata": {},
   "outputs": [],
   "source": [
    "# Datasetの作成 (ツイート)\n",
    "# 1. CreateDataset1\n",
    "# 2. separate_section\n",
    "# 3. CreateDataset2\n",
    "def data_process(vocab,timespan,device):\n",
    "    max_len = 128\n",
    "    tokenizer = get_tokenizer('basic_english')\n",
    "\n",
    "    df = pd.read_csv(f'tweet-transformer/{timespan}/2021-17.csv')\n",
    "    df = df.dropna(how='any')\n",
    "    df = df.reset_index(drop=True)\n",
    "    dataset = CreateDataset1(df['tweet(n)'],  df['section'],  tokenizer, vocab, max_len)\n",
    "    ids_list, mask_list = separate_section(dataset, device)\n",
    "    \n",
    "    dataset_list = []\n",
    "    for i in range(0, len(ids_list)):\n",
    "        x = CreateDataset2(ids_list[i], mask_list[i], device)\n",
    "        dataset_list.append(x)\n",
    "\n",
    "    print('dataset作成完了')\n",
    "    print(f'{len(dataset)=}')\n",
    "    \n",
    "    del max_len, tokenizer, df, ids_list, mask_list, dataset, x, i\n",
    "    gc.collect()\n",
    "    \n",
    "    return dataset_list"
   ]
  },
  {
   "cell_type": "code",
   "execution_count": null,
   "id": "2da5a352-fff4-4227-8770-91df5e6f9b4e",
   "metadata": {},
   "outputs": [],
   "source": []
  },
  {
   "cell_type": "code",
   "execution_count": null,
   "id": "ecac7c4b-bf7e-49ef-a2a4-b7bcc81e932a",
   "metadata": {},
   "outputs": [],
   "source": [
    "# nごとにバッチ化 \n",
    "def n_batch(sbatches):\n",
    "    "
   ]
  },
  {
   "cell_type": "code",
   "execution_count": 4,
   "id": "83f7afac-54ab-4475-b276-d3b7cd2fa0d3",
   "metadata": {},
   "outputs": [],
   "source": [
    "# parametator for Net\n",
    "ntokens = len(vocab)  # size of vocabulary\n",
    "d_model = 512  # embedding dimension\n",
    "nhead   = 8    # number of heads in nn.MultiheadAttention\n",
    "d_hid   = 2048  # dimension of the feedforward network model in nn.TransformerEncoder\n",
    "nlayers = 6    # number of nn.TransformerEncoderLayer in nn.TransformerEncoder\n",
    "dropout = 0.2  # dropout probability"
   ]
  },
  {
   "cell_type": "code",
   "execution_count": 5,
   "id": "4024d1bf-ade2-4b1a-987c-e759fb32d023",
   "metadata": {},
   "outputs": [],
   "source": [
    "# Transformerモデルの概要\n",
    "class Net(nn.Module):\n",
    "\n",
    "    def __init__(self,\n",
    "                 ntoken: int,\n",
    "                 d_model: int,\n",
    "                 nhead: int,\n",
    "                 d_hid: int,\n",
    "                 nlayers: int,\n",
    "                 dropout: float = 0.5):\n",
    "\n",
    "        super().__init__()\n",
    "        self.model_type = 'Transformer'\n",
    "        self.d_model = d_model\n",
    "        self.emb = nn.Embedding(ntoken,\n",
    "                                d_model,\n",
    "                                padding_idx=0)\n",
    "        self.pos_encoder = PositionalEncoding(d_model,\n",
    "                                              dropout)\n",
    "        encoder_layers = TransformerEncoderLayer(d_model,\n",
    "                                                 nhead,\n",
    "                                                 d_hid,\n",
    "                                                 dropout)\n",
    "        self.transformer_encoder = TransformerEncoder(encoder_layers,\n",
    "                                                      nlayers)\n",
    "        self.classifer = nn.Linear(d_model,3)\n",
    "        #self.softmax = nn.Softmax()\n",
    "        \n",
    "        self.input_dim = lstm_input_dim\n",
    "        self.hidden_dim = lstm_hidden_dim\n",
    "        self.lstm = nn.LSTM(input_size=lstm_input_dim, \n",
    "                            hidden_size=lstm_hidden_dim,\n",
    "                            num_layers=1,\n",
    "                            batch_first=True\n",
    "                            )\n",
    "        \n",
    "        \n",
    "\n",
    "        self.init_weights()\n",
    "\n",
    "    def init_weights(self) -> None:\n",
    "        initrange = 0.1\n",
    "        self.emb.weight.data.uniform_(-initrange, initrange)\n",
    "        self.classifer.bias.data.zero_()\n",
    "        self.classifer.weight.data.uniform_(-initrange, initrange)\n",
    "\n",
    "    #データの流れ\n",
    "    def forward(self, src: Tensor) -> Tensor:\n",
    "        '''\n",
    "        Args:\n",
    "            src: Tensor, shape [batch_size, seq_len]\n",
    "            src_mask: Tensor, shape [seq_len, seq_len]\n",
    "\n",
    "        Returns:\n",
    "            output Tensor of shape [batch_size, nclass:3]\n",
    "        '''\n",
    "# src_key_padding_mask = src_mask\n",
    "        \n",
    "#        for i in range(1,num_batches+1)\n",
    "            embedded = self.emb(src) * math.sqrt(self.d_model)\n",
    "            pos = self.pos_encoder(embedded)\n",
    "            encoder_out = self.transformer_encoder(pos)\n",
    "            x = encoder_out.mean(dim=1)\n",
    "            output = self.classifer(x)\n",
    "            \n",
    "        \n",
    "        #output = self.softmax(output)\n",
    "        return output\n",
    "        "
   ]
  },
  {
   "cell_type": "code",
   "execution_count": 6,
   "id": "0419fd72-cc71-4ea6-9c03-14f8bc8118a2",
   "metadata": {},
   "outputs": [],
   "source": [
    "# PositionalEncodingの概要\n",
    "class PositionalEncoding(nn.Module):\n",
    "\n",
    "    def __init__(self,\n",
    "                 d_model: int,\n",
    "                 dropout: float = 0.1,\n",
    "                 max_len: int = 5000):\n",
    "        super().__init__()\n",
    "        self.dropout = nn.Dropout(p=dropout)\n",
    "\n",
    "        position = torch.arange(max_len).unsqueeze(1)\n",
    "        div_term = torch.exp(torch.arange(0, d_model, 2) * (-math.log(10000.0) / d_model))\n",
    "        pe = torch.zeros(max_len, 1, d_model)\n",
    "        pe[:, 0, 0::2] = torch.sin(position * div_term)\n",
    "        pe[:, 0, 1::2] = torch.cos(position * div_term)\n",
    "        self.register_buffer('pe', pe)\n",
    "\n",
    "    def forward(self, x: Tensor) -> Tensor:\n",
    "        '''\n",
    "        Args:\n",
    "            x: Tensor, shape [batch_size, seq_len, embedding_dim]\n",
    "        '''\n",
    "        x = x + self.pe[:x.size(0)]\n",
    "        return self.dropout(x)"
   ]
  },
  {
   "cell_type": "code",
   "execution_count": null,
   "id": "9367e57a-678c-4d2e-bc15-5fdfd4df01fb",
   "metadata": {},
   "outputs": [],
   "source": [
    "# paramator for training & evaluation\n",
    "device = torch.device('cuda' if torch.cuda.is_available() else 'cpu')\n",
    "model = Net(ntokens, d_model, nhead, d_hid, nlayers, dropout).to(device)\n",
    "lr = 1e-3\n",
    "softmax = nn.Softmax(dim=1)\n",
    "criterion = nn.CrossEntropyLoss()\n",
    "#optimizer = torch.optim.SGD(model.parameters(), lr=lr)\n",
    "optimizer = torch.optim.Adam(model.parameters(), lr=lr)\n",
    "scheduler = torch.optim.lr_scheduler.StepLR(optimizer, 1.0, gamma=0.95)\n",
    "torch.manual_seed(0)"
   ]
  },
  {
   "cell_type": "code",
   "execution_count": 8,
   "id": "a77848dc-a80f-4233-a46d-82d327d1f00f",
   "metadata": {},
   "outputs": [],
   "source": [
    "# training\n",
    "def train(model: nn.Module, train_iter: Tensor):\n",
    "    train_start_time = time.time()\n",
    "    model.train()\n",
    "    num_batches = len(train_iter)\n",
    "    log_interval = math.ceil(num_batches/30)*10\n",
    "    batch_counter = 0\n",
    "    train_loss = 0\n",
    "    train_correct = 0\n",
    "    train_count = 0\n",
    "    \n",
    "    for idx, batch in enumerate(iter(train_iter)):\n",
    "        predictions = model(batch.tweet_n.to(device))\n",
    "        prob = softmax(predictions)\n",
    "        labels = batch.label.to(device)\n",
    "\n",
    "        loss = criterion(predictions, labels)\n",
    "        \n",
    "        correct = prob.argmax(axis=1) == labels\n",
    "        acc = correct.sum().item() / correct.size(0)\n",
    "\n",
    "        train_correct += correct.sum().item()\n",
    "        train_count += correct.size(0)\n",
    "        train_loss += loss.item()\n",
    "\n",
    "        optimizer.zero_grad()\n",
    "        loss.backward()\n",
    "        torch.nn.utils.clip_grad_norm_(model.parameters(), 0.5)\n",
    "        optimizer.step()\n",
    "        \n",
    "        batch_counter += 1\n",
    "        \n",
    "        if batch_counter % log_interval == 0 or batch_counter == num_batches:\n",
    "            lr = scheduler.get_last_lr()[0]\n",
    "            s_per_batch = (time.time() - train_start_time) / log_interval\n",
    "            cur_loss = train_loss / log_interval\n",
    "            cur_acc = train_correct / train_count\n",
    "            print(f'| epoch {epoch:3d} | {batch_counter:5d}/{num_batches:5d} batches | '\n",
    "                  f'lr {lr:1.5f} | s/batch {s_per_batch:5.2f} | '\n",
    "                  f'loss {cur_loss:5.2f} | accuracy {cur_acc:8.2f}')\n",
    "            total_loss = 0\n",
    "            train_start_time = time.time()"
   ]
  },
  {
   "cell_type": "code",
   "execution_count": 9,
   "id": "93f793e1-ba75-49cf-8fe6-3a497f39d63f",
   "metadata": {},
   "outputs": [],
   "source": [
    "# evaluation (val, test)\n",
    "def evaluate(model: nn.Module, eval_iter: Tensor):\n",
    "    model.eval()\n",
    "    eval_loss = 0\n",
    "    eval_correct = 0\n",
    "    eval_count = 0\n",
    "\n",
    "    with torch.no_grad():\n",
    "        for idx, batch in enumerate(iter(eval_iter)):\n",
    "            predictions = model(batch.tweet_n.to(device))\n",
    "            prob = softmax(predictions)\n",
    "            labels = batch.label.to(device)\n",
    "\n",
    "            loss = criterion(predictions, labels)\n",
    "\n",
    "            correct = prob.argmax(axis=1) == labels\n",
    "            acc = correct.sum().item() / correct.size(0)\n",
    "\n",
    "            eval_correct += correct.sum().item()\n",
    "            eval_count += correct.size(0)\n",
    "            eval_loss += loss.item()\n",
    "        \n",
    "    print(f'| loss {eval_loss}| accuracy {eval_correct / ecal_count} ')\n",
    "        \n",
    "    return eval_loss, eval_correct / eval_count"
   ]
  },
  {
   "cell_type": "code",
   "execution_count": null,
   "id": "499797d0-d06b-4c55-8768-3def2b2ee0fd",
   "metadata": {},
   "outputs": [],
   "source": [
    "# main\n",
    "nlist = [1,2,3,4,5,6,7,8,9,10]\n",
    "tlist = ['1d','12h','4h','1h','30m','15m','5m']\n",
    "aculist = {}\n",
    "for timespan in tlist:\n",
    "    print(f'{timespan=} データ読み込み中')\n",
    "    train_iter_list, val_iter_list, test_iter_list = data_process(timespan)\n",
    "    \n",
    "    for n in nlist:\n",
    "        print(f'{n=}')\n",
    "\n",
    "        best_val_loss = float('inf')\n",
    "        epochs = 1\n",
    "        best_model = None\n",
    "\n",
    "        dt_start = datetime.datetime.now()\n",
    "        print(datetime.datetime.now())\n",
    "        print('学習開始')\n",
    "        print('-' * 95)\n",
    "\n",
    "        # training & validation roop\n",
    "        for epoch in range(1, epochs + 1):\n",
    "            epoch_start_time = time.time()\n",
    "            train(model, train_iter_list)\n",
    "            val_loss, val_acc = evaluate(model, val_iter_list)\n",
    "            elapsed = time.time() - epoch_start_time\n",
    "            print('-' * 95)\n",
    "            print(f'| end of epoch {epoch:3d} | time: {elapsed:5.2f}s | '\n",
    "                  f'valid loss {val_loss:5.2f} | valid accuracy {val_acc:8.2f}')\n",
    "            print('-' * 95)\n",
    "\n",
    "            if val_loss < best_val_loss:\n",
    "                best_val_loss = val_loss\n",
    "                best_model = copy.deepcopy(model)\n",
    "\n",
    "            scheduler.step()\n",
    "\n",
    "            del epoch_start_time, elapsed, vall_loss, vall_acc\n",
    "            gc.collect()\n",
    "\n",
    "        dt_end = datetime.datetime.now()\n",
    "        print(datetime.datetime.now())    \n",
    "        print(f'経過時間：{dt_end - dt_start}')\n",
    "        print('学習終了')\n",
    "        \n",
    "        # test\n",
    "        test_loss, test_acc = evaluate(best_model, test_iter_list)\n",
    "        print('=' * 89)\n",
    "        print(f'| End of training | test loss {test_loss:5.2f} | '\n",
    "              f'test accuracy {test_acc:8.2f}')\n",
    "        print('=' * 89)\n",
    "        \n",
    "        del best_val_loss,epochs,best_model,test_loss,test_acc,dt_start,dt_end\n",
    "        gc.collect()\n",
    "        \n",
    "    del train_iter_list, val_iter_list, test_iter_list\n",
    "    gc.collect()\n"
   ]
  },
  {
   "cell_type": "code",
   "execution_count": null,
   "id": "31b9b279-ca38-4d79-a472-ca2529ca9bc0",
   "metadata": {},
   "outputs": [],
   "source": []
  },
  {
   "cell_type": "code",
   "execution_count": null,
   "id": "bc58297e-125a-404c-b1ff-1808669dbed1",
   "metadata": {},
   "outputs": [],
   "source": []
  },
  {
   "cell_type": "code",
   "execution_count": null,
   "id": "465ec3f1-3382-4c73-8e21-b436c35c5e90",
   "metadata": {},
   "outputs": [],
   "source": []
  },
  {
   "cell_type": "code",
   "execution_count": 72,
   "id": "cf691823-0891-4e28-87ea-82a5dff263ad",
   "metadata": {},
   "outputs": [
    {
     "data": {
      "text/plain": [
       "72"
      ]
     },
     "execution_count": 72,
     "metadata": {},
     "output_type": "execute_result"
    }
   ],
   "source": [
    "gc.collect()"
   ]
  },
  {
   "cell_type": "code",
   "execution_count": 9,
   "id": "26b8163e-c26d-4c9d-8b9f-ff6bb147d50f",
   "metadata": {},
   "outputs": [
    {
     "name": "stdout",
     "output_type": "stream",
     "text": [
      "True\n",
      "cuda\n"
     ]
    }
   ],
   "source": [
    "device = torch.device('cuda' if torch.cuda.is_available() else 'cpu')\n",
    "print(torch.cuda.is_available())\n",
    "print(device)"
   ]
  },
  {
   "cell_type": "code",
   "execution_count": 93,
   "id": "95ed96d0-c49f-472a-b945-0a747161b89b",
   "metadata": {},
   "outputs": [
    {
     "name": "stdout",
     "output_type": "stream",
     "text": [
      "len(df)=13146832\n",
      "len(df)=13136901\n",
      "dataset作成完了\n",
      "len(dataset)=13136901\n"
     ]
    }
   ],
   "source": [
    "# テスト用\n",
    "max_len = 128\n",
    "tokenizer = get_tokenizer('basic_english')\n",
    "\n",
    "# CSVファイルを読み込み、データセットを作成\n",
    "df = pd.read_csv(f'tweet-transformer/1d/2021-17.csv')\n",
    "print(f'{len(df)=}')\n",
    "df = df.dropna(how='any')\n",
    "df = df.reset_index(drop=True)\n",
    "print(f'{len(df)=}')\n",
    "dataset = CreateDataset(df['tweet(n)'],  df['section'],  tokenizer, vocab, max_len)\n",
    "\n",
    "print('dataset作成完了')\n",
    "print(f'{len(dataset)=}')"
   ]
  },
  {
   "cell_type": "code",
   "execution_count": 94,
   "id": "825f0db1-3f34-400e-ba42-c81b57584aee",
   "metadata": {},
   "outputs": [
    {
     "data": {
      "text/plain": [
       "81"
      ]
     },
     "execution_count": 94,
     "metadata": {},
     "output_type": "execute_result"
    }
   ],
   "source": [
    "gc.collect()"
   ]
  },
  {
   "cell_type": "code",
   "execution_count": 36,
   "id": "4389bc96-f499-4aaf-bc9a-7f877c498e91",
   "metadata": {},
   "outputs": [
    {
     "name": "stdout",
     "output_type": "stream",
     "text": [
      "tensor([False,  True, False, False,  True])\n",
      "0.4\n",
      "torch.Size([5, 3])\n",
      "torch.Size([5])\n"
     ]
    }
   ],
   "source": [
    "x=torch.tensor([[1,2,3],\n",
    "                [2,3,1],\n",
    "                [3,1,2],\n",
    "                [1,2,3],\n",
    "                [2,3,1]],dtype=torch.float)\n",
    "softmax = nn.Softmax(dim=1)\n",
    "prob = softmax(x)\n",
    "labels = torch.tensor([1,1,1,1,1])\n",
    "correct = prob.argmax(axis=1) == labels\n",
    "acc = correct.sum().item() / correct.size(0)\n",
    "print(correct)\n",
    "print(acc)\n",
    "print(prob.size())\n",
    "print(labels.size())"
   ]
  },
  {
   "cell_type": "code",
   "execution_count": 100,
   "id": "2050add4-2dc5-41fd-98ef-17ce91cebfff",
   "metadata": {},
   "outputs": [
    {
     "name": "stdout",
     "output_type": "stream",
     "text": [
      "現在300000件終了\n",
      "経過時間-48.86335802078247s\n",
      "現在600000件終了\n",
      "経過時間-98.41774201393127s\n",
      "len(ids_list)=11\n",
      "len(mask_list)=11\n"
     ]
    }
   ],
   "source": [
    "ids_list  = []\n",
    "mask_list = []\n",
    "start_time = time.time()\n",
    "counter = -1\n",
    "\n",
    "for k in range(0, len(dataset)):\n",
    "    i = dataset[k]['ids'].squeeze().to(device)\n",
    "    m = dataset[k]['mask'].squeeze().to(device)\n",
    "    if counter != dataset[k]['section']:\n",
    "        ids_list.append([i])\n",
    "        mask_list.append([m])\n",
    "        counter += 1\n",
    "    else:\n",
    "        ids_list[counter].append(i)\n",
    "        mask_list[counter].append(m)\n",
    "\n",
    "    if k%300000==0 and k!=0:\n",
    "        print(f'現在{k}件終了')\n",
    "        print(f'経過時間{start_time - time.time()}s')\n",
    "    if k==600000: break\n",
    "\n",
    "print(f'{len(ids_list)=}')\n",
    "print(f'{len(mask_list)=}')"
   ]
  },
  {
   "cell_type": "code",
   "execution_count": 101,
   "id": "e9381de7-e17a-49de-9305-38404cf03486",
   "metadata": {},
   "outputs": [],
   "source": [
    "dataset_list=[]\n",
    "for i in range(0, len(ids_list)):\n",
    "    x = CreateDataset2(ids_list[i], mask_list[i], device)\n",
    "    dataset_list.append(x)\n",
    "dataloader_train = DataLoader(dataset_list[0], batch_size=1024, shuffle=True)"
   ]
  },
  {
   "cell_type": "code",
   "execution_count": 102,
   "id": "ec7e9c46-7cef-42a4-a8f4-bbc929297715",
   "metadata": {},
   "outputs": [
    {
     "name": "stdout",
     "output_type": "stream",
     "text": [
      "tensor([[  1169,     16,    247,  ...,      0,      0,      0],\n",
      "        [120121,    520,    137,  ...,      0,      0,      0],\n",
      "        [   213,   1556,   3311,  ...,      0,      0,      0],\n",
      "        ...,\n",
      "        [  4773,   1329,     18,  ...,      0,      0,      0],\n",
      "        [     5,   3534,     74,  ...,      0,      0,      0],\n",
      "        [   107,     40,    827,  ...,      0,      0,      0]],\n",
      "       device='cuda:0')\n",
      "torch.Size([1024, 128])\n",
      "torch.Size([1024, 128])\n",
      "\n",
      "\n"
     ]
    }
   ],
   "source": [
    "for data in dataloader_train:\n",
    "    print(data['ids'])\n",
    "    print(data['ids'].size())\n",
    "    print(data['mask'].size())\n",
    "    print('\\n')\n",
    "    break"
   ]
  },
  {
   "cell_type": "code",
   "execution_count": 97,
   "id": "0f659b64-a473-4361-a411-dfb2bb84d5ec",
   "metadata": {},
   "outputs": [
    {
     "name": "stdout",
     "output_type": "stream",
     "text": [
      "tensor([[False, False, False, False, False, False, False, False, False, False,\n",
      "         False, False,  True,  True,  True,  True,  True,  True,  True,  True,\n",
      "          True,  True,  True,  True,  True,  True,  True,  True,  True,  True,\n",
      "          True,  True,  True,  True,  True,  True,  True,  True,  True,  True,\n",
      "          True,  True,  True,  True,  True,  True,  True,  True,  True,  True,\n",
      "          True,  True,  True,  True,  True,  True,  True,  True,  True,  True,\n",
      "          True,  True,  True,  True,  True,  True,  True,  True,  True,  True,\n",
      "          True,  True,  True,  True,  True,  True,  True,  True,  True,  True,\n",
      "          True,  True,  True,  True,  True,  True,  True,  True,  True,  True,\n",
      "          True,  True,  True,  True,  True,  True,  True,  True,  True,  True,\n",
      "          True,  True,  True,  True,  True,  True,  True,  True,  True,  True,\n",
      "          True,  True,  True,  True,  True,  True,  True,  True,  True,  True,\n",
      "          True,  True,  True,  True,  True,  True,  True,  True]])\n",
      "torch.Size([1, 128])\n"
     ]
    }
   ],
   "source": [
    "print(dataset[0]['mask'])\n",
    "print(dataset[1]['ids'].size())"
   ]
  },
  {
   "cell_type": "code",
   "execution_count": null,
   "id": "d77282d6-4f55-48ab-9fab-7dfee079da22",
   "metadata": {},
   "outputs": [],
   "source": []
  }
 ],
 "metadata": {
  "kernelspec": {
   "display_name": "Python 3",
   "language": "python",
   "name": "python3"
  },
  "language_info": {
   "codemirror_mode": {
    "name": "ipython",
    "version": 3
   },
   "file_extension": ".py",
   "mimetype": "text/x-python",
   "name": "python",
   "nbconvert_exporter": "python",
   "pygments_lexer": "ipython3",
   "version": "3.8.5"
  }
 },
 "nbformat": 4,
 "nbformat_minor": 5
}
