{
 "cells": [
  {
   "cell_type": "code",
   "execution_count": 11,
   "id": "425ceb85-d9ff-409a-880f-1d0f94c562c2",
   "metadata": {
    "tags": []
   },
   "outputs": [],
   "source": [
    "import math\n",
    "import torch\n",
    "from torch import nn, Tensor\n",
    "from torch.nn import TransformerEncoder, TransformerEncoderLayer\n",
    "from torch.utils.data import dataset\n",
    "from torchtext import data\n",
    "from torchtext.legacy import data\n",
    "from torchtext.data.utils import get_tokenizer\n",
    "import pandas as pd\n",
    "import time\n",
    "import datetime\n",
    "import copy\n",
    "import gc"
   ]
  },
  {
   "cell_type": "code",
   "execution_count": 12,
   "id": "49ed922d-7105-492e-861f-e3d842113ed7",
   "metadata": {},
   "outputs": [
    {
     "name": "stdout",
     "output_type": "stream",
     "text": [
      "データ読み込み完了\n",
      "辞書作成完了\n",
      "1000\n",
      "8\n",
      "メモリ解放\n"
     ]
    }
   ],
   "source": [
    "# データの前処理（Word Embedding）\n",
    "\n",
    "# テキストを単語で分割\n",
    "tokenizer = get_tokenizer('basic_english')\n",
    "\n",
    "# data field定義\n",
    "TEXT_N  = data.Field(sequential=True,\n",
    "                     lower=True,\n",
    "                     batch_first=True, \n",
    "                     tokenize=tokenizer,\n",
    "                     init_token='<cls>')\n",
    "#SECTION = data.Field(sequential=False, use_vocab=False)\n",
    "#TREND_N = data.Field(sequential=False, use_vocab=False)\n",
    "#PRICE_N = data.Field(sequential=False, use_vocab=False)\n",
    "LABEL = data.Field(sequential=False, use_vocab=False)\n",
    "\n",
    "\n",
    "# CSVファイルを読み込み、TabularDatasetオブジェクトの作成\n",
    "train_data, test_data = data.TabularDataset.splits(path ='tweet-transformer/1h',\n",
    "                                                   train='test7_v4.csv',\n",
    "                                                   test ='test7_v4.csv',\n",
    "                                                   format='csv',\n",
    "                                                   skip_header = True,\n",
    "                                                   fields=[('tweet_n', TEXT_N),\n",
    "                                                           #('section', SECTION),\n",
    "                                                           #('trend_n', TREND_N),\n",
    "                                                           #('price_n', PRICE_N),\n",
    "                                                           ('label', LABEL)])\n",
    "print(\"データ読み込み完了\")\n",
    "\n",
    "# 単語辞書の作成\n",
    "TEXT_N.build_vocab(train_data, min_freq=2)\n",
    "vocab = TEXT_N.vocab\n",
    "print('辞書作成完了')\n",
    "\n",
    "# テキストを数値ベクトル化、バッチに分割\n",
    "batch_size = 128\n",
    "train_iter, test_iter = data.BucketIterator.splits((train_data, test_data),\n",
    "                                                   batch_sizes=(batch_size, batch_size),\n",
    "                                                   shuffle=True)\n",
    "\n",
    "print(len(train_data))\n",
    "print(len(train_iter))\n",
    "\n",
    "# メモリ解放\n",
    "del train_data,test_data\n",
    "gc.collect()\n",
    "print('メモリ解放')"
   ]
  },
  {
   "cell_type": "code",
   "execution_count": 4,
   "id": "83f7afac-54ab-4475-b276-d3b7cd2fa0d3",
   "metadata": {},
   "outputs": [],
   "source": [
    "# parametator for Net\n",
    "ntokens = len(vocab)  # size of vocabulary\n",
    "d_model = 512  # embedding dimension\n",
    "nhead   = 8    # number of heads in nn.MultiheadAttention\n",
    "d_hid   = 2048  # dimension of the feedforward network model in nn.TransformerEncoder\n",
    "nlayers = 6    # number of nn.TransformerEncoderLayer in nn.TransformerEncoder\n",
    "dropout = 0.2  # dropout probability"
   ]
  },
  {
   "cell_type": "code",
   "execution_count": 5,
   "id": "4024d1bf-ade2-4b1a-987c-e759fb32d023",
   "metadata": {},
   "outputs": [],
   "source": [
    "# Transformerモデルの概要\n",
    "class Net(nn.Module):\n",
    "\n",
    "    def __init__(self,\n",
    "                 ntoken: int,\n",
    "                 d_model: int,\n",
    "                 nhead: int,\n",
    "                 d_hid: int,\n",
    "                 nlayers: int,\n",
    "                 dropout: float = 0.5):\n",
    "\n",
    "        super().__init__()\n",
    "        self.model_type = 'Transformer'\n",
    "        self.d_model = d_model\n",
    "        self.emb = nn.Embedding(ntoken,\n",
    "                                d_model,\n",
    "                                padding_idx=0)\n",
    "        self.pos_encoder = PositionalEncoding(d_model,\n",
    "                                              dropout)\n",
    "        encoder_layers = TransformerEncoderLayer(d_model,\n",
    "                                                 nhead,\n",
    "                                                 d_hid,\n",
    "                                                 dropout)\n",
    "        self.transformer_encoder = TransformerEncoder(encoder_layers,\n",
    "                                                      nlayers)\n",
    "        self.classifer = nn.Linear(d_model,\n",
    "                                   3)\n",
    "        #self.softmax = nn.Softmax()\n",
    "        \n",
    "        self.input_dim = lstm_input_dim\n",
    "        self.hidden_dim = lstm_hidden_dim\n",
    "        self.lstm = nn.LSTM(input_size=lstm_input_dim, \n",
    "                            hidden_size=lstm_hidden_dim,\n",
    "                            num_layers=1, #default\n",
    "                            #dropout=0.2,\n",
    "                            batch_first=True\n",
    "                            )\n",
    "        \n",
    "        \n",
    "\n",
    "        self.init_weights()\n",
    "\n",
    "    def init_weights(self) -> None:\n",
    "        initrange = 0.1\n",
    "        self.emb.weight.data.uniform_(-initrange, initrange)\n",
    "        self.classifer.bias.data.zero_()\n",
    "        self.classifer.weight.data.uniform_(-initrange, initrange)\n",
    "\n",
    "    #データの流れ\n",
    "    def forward(self, src: Tensor) -> Tensor:\n",
    "        '''\n",
    "        Args:\n",
    "            src: Tensor, shape [batch_size, seq_len]\n",
    "            src_mask: Tensor, shape [seq_len, seq_len]\n",
    "\n",
    "        Returns:\n",
    "            output Tensor of shape [batch_size, nclass:3]\n",
    "        '''\n",
    "\n",
    "        for i in range(1,num_batches+1)\n",
    "            embedded = self.emb(src) * math.sqrt(self.d_model)\n",
    "            pos = self.pos_encoder(embedded)\n",
    "            encoder_out = self.transformer_encoder(pos)\n",
    "            x = encoder_out.mean(dim=1)\n",
    "            output = self.classifer(x)\n",
    "            \n",
    "        \n",
    "        #output = self.softmax(output)\n",
    "        return output\n",
    "        "
   ]
  },
  {
   "cell_type": "code",
   "execution_count": 6,
   "id": "0419fd72-cc71-4ea6-9c03-14f8bc8118a2",
   "metadata": {},
   "outputs": [],
   "source": [
    "# PositionalEncodingの概要\n",
    "class PositionalEncoding(nn.Module):\n",
    "\n",
    "    def __init__(self,\n",
    "                 d_model: int,\n",
    "                 dropout: float = 0.1,\n",
    "                 max_len: int = 5000):\n",
    "        super().__init__()\n",
    "        self.dropout = nn.Dropout(p=dropout)\n",
    "\n",
    "        position = torch.arange(max_len).unsqueeze(1)\n",
    "        div_term = torch.exp(torch.arange(0, d_model, 2) * (-math.log(10000.0) / d_model))\n",
    "        pe = torch.zeros(max_len, 1, d_model)\n",
    "        pe[:, 0, 0::2] = torch.sin(position * div_term)\n",
    "        pe[:, 0, 1::2] = torch.cos(position * div_term)\n",
    "        self.register_buffer('pe', pe)\n",
    "\n",
    "    def forward(self, x: Tensor) -> Tensor:\n",
    "        '''\n",
    "        Args:\n",
    "            x: Tensor, shape [batch_size, seq_len, embedding_dim]\n",
    "        '''\n",
    "        x = x + self.pe[:x.size(0)]\n",
    "        return self.dropout(x)"
   ]
  },
  {
   "cell_type": "code",
   "execution_count": 7,
   "id": "9367e57a-678c-4d2e-bc15-5fdfd4df01fb",
   "metadata": {},
   "outputs": [
    {
     "data": {
      "text/plain": [
       "<torch._C.Generator at 0x245622117b0>"
      ]
     },
     "execution_count": 7,
     "metadata": {},
     "output_type": "execute_result"
    }
   ],
   "source": [
    "# paramator for training & evaluation\n",
    "device = torch.device('cuda' if torch.cuda.is_available() else 'cpu')\n",
    "model = Net(ntokens, d_model, nhead, d_hid, nlayers, dropout).to(device)\n",
    "lr = 1e-3\n",
    "softmax = nn.Softmax(dim=1)\n",
    "criterion = nn.CrossEntropyLoss()\n",
    "#optimizer = torch.optim.SGD(model.parameters(), lr=lr)\n",
    "optimizer = torch.optim.Adam(model.parameters(), lr=lr)\n",
    "scheduler = torch.optim.lr_scheduler.StepLR(optimizer, 1.0, gamma=0.95)\n",
    "torch.manual_seed(0)"
   ]
  },
  {
   "cell_type": "code",
   "execution_count": 8,
   "id": "a77848dc-a80f-4233-a46d-82d327d1f00f",
   "metadata": {},
   "outputs": [],
   "source": [
    "# training\n",
    "def train(model: nn.Module, train_iter: Tensor):\n",
    "    train_start_time = time.time()\n",
    "    model.train()\n",
    "    num_batches = len(train_iter)\n",
    "    log_interval = math.ceil(num_batches/100)*10\n",
    "    batch_counter = 0\n",
    "    train_loss = 0\n",
    "    train_correct = 0\n",
    "    train_count = 0\n",
    "    \n",
    "    for idx, batch in enumerate(iter(train_iter)):\n",
    "        predictions = model(batch.tweet_n.to(device))\n",
    "        prob = softmax(predictions)\n",
    "        labels = batch.label.to(device)\n",
    "\n",
    "        loss = criterion(predictions, labels)\n",
    "        \n",
    "        '''\n",
    "        print('softmax')\n",
    "        print(prob)\n",
    "        print('予測結果')\n",
    "        print(prob.argmax(axis=1))\n",
    "        print('答え')\n",
    "        print(labels)\n",
    "        '''\n",
    "        \n",
    "        correct = prob.argmax(axis=1) == labels\n",
    "        acc = correct.sum().item() / correct.size(0)\n",
    "\n",
    "        train_correct += correct.sum().item()\n",
    "        train_count += correct.size(0)\n",
    "        train_loss += loss.item()\n",
    "\n",
    "        optimizer.zero_grad()\n",
    "        loss.backward()\n",
    "        torch.nn.utils.clip_grad_norm_(model.parameters(), 0.5)\n",
    "        optimizer.step()\n",
    "        \n",
    "        batch_counter += 1\n",
    "        \n",
    "        if batch_counter % log_interval == 0 or batch_counter == num_batches:\n",
    "            lr = scheduler.get_last_lr()[0]\n",
    "            s_per_batch = (time.time() - train_start_time) / log_interval\n",
    "            cur_loss = train_loss / log_interval\n",
    "            cur_acc = train_correct / train_count\n",
    "            print(f'| epoch {epoch:3d} | {batch_counter:5d}/{num_batches:5d} batches | '\n",
    "                  f'lr {lr:1.5f} | s/batch {s_per_batch:5.2f} | '\n",
    "                  f'loss {cur_loss:5.2f} | accuracy {cur_acc:8.2f}')\n",
    "            total_loss = 0\n",
    "            start_time = time.time()"
   ]
  },
  {
   "cell_type": "code",
   "execution_count": 9,
   "id": "93f793e1-ba75-49cf-8fe6-3a497f39d63f",
   "metadata": {},
   "outputs": [],
   "source": [
    "# evaluation (val, test)\n",
    "def evaluate(model: nn.Module, eval_iter: Tensor):\n",
    "    model.eval()\n",
    "    eval_loss = 0\n",
    "    eval_correct = 0\n",
    "    eval_count = 0\n",
    "\n",
    "    with torch.no_grad():\n",
    "        for idx, batch in enumerate(iter(eval_iter)):\n",
    "            predictions = model(batch.tweet_n.to(device))\n",
    "            prob = softmax(predictions)\n",
    "            labels = batch.label.to(device)\n",
    "\n",
    "            loss = criterion(predictions, labels)\n",
    "\n",
    "            correct = prob.argmax(axis=1) == labels\n",
    "            acc = correct.sum().item() / correct.size(0)\n",
    "\n",
    "            eval_correct += correct.sum().item()\n",
    "            eval_count += correct.size(0)\n",
    "            eval_loss += loss.item()\n",
    "        \n",
    "    print(f'| loss {eval_loss}| accuracy {eval_correct / ecal_count} ')\n",
    "        \n",
    "    return eval_loss, eval_correct / eval_count"
   ]
  },
  {
   "cell_type": "code",
   "execution_count": null,
   "id": "499797d0-d06b-4c55-8768-3def2b2ee0fd",
   "metadata": {},
   "outputs": [],
   "source": [
    "# main\n",
    "# training roop\n",
    "best_val_loss = float('inf')\n",
    "epochs = 1\n",
    "best_model = None\n",
    "\n",
    "dt_start = datetime.datetime.now()\n",
    "print(datetime.datetime.now())\n",
    "print('学習開始')\n",
    "print('-' * 95)\n",
    "\n",
    "for epoch in range(1, epochs + 1):\n",
    "    epoch_start_time = time.time()\n",
    "    train(model, train_iter)\n",
    "#    val_loss, val_acc = evaluate(model, val_iter)\n",
    "    elapsed = time.time() - epoch_start_time\n",
    "    print('-' * 95)\n",
    "    print(f'| end of epoch {epoch:3d} | time: {elapsed:5.2f}s | ')\n",
    "#          f'valid loss {val_loss:5.2f} | valid accuracy {val_acc:8.2f}')\n",
    "    print('-' * 95)\n",
    "\n",
    "#    if val_loss < best_val_loss:\n",
    "#        best_val_loss = val_loss\n",
    "#        best_model = copy.deepcopy(model)\n",
    "\n",
    "    scheduler.step()\n",
    " \n",
    "dt_end = datetime.datetime.now()\n",
    "print(datetime.datetime.now())    \n",
    "print(f'経過時間：{dt_end - dt_start}')\n",
    "print('学習終了')\n"
   ]
  },
  {
   "cell_type": "code",
   "execution_count": null,
   "id": "5d92f130-e955-4ceb-a92b-6db9199de6cb",
   "metadata": {},
   "outputs": [],
   "source": [
    "# main\n",
    "# test\n",
    "test_loss, test_acc = evaluate(best_model, test_iter)\n",
    "\n",
    "print('=' * 89)\n",
    "print(f'| End of training | test loss {test_loss:5.2f} | '\n",
    "      f'test accuracy {test_acc:8.2f}')\n",
    "print('=' * 89)"
   ]
  },
  {
   "cell_type": "code",
   "execution_count": null,
   "id": "31b9b279-ca38-4d79-a472-ca2529ca9bc0",
   "metadata": {},
   "outputs": [],
   "source": []
  },
  {
   "cell_type": "code",
   "execution_count": 25,
   "id": "cf691823-0891-4e28-87ea-82a5dff263ad",
   "metadata": {},
   "outputs": [
    {
     "data": {
      "text/plain": [
       "57"
      ]
     },
     "execution_count": 25,
     "metadata": {},
     "output_type": "execute_result"
    }
   ],
   "source": [
    "gc.collect()"
   ]
  },
  {
   "cell_type": "code",
   "execution_count": 20,
   "id": "3844708a-0b51-4389-8cc0-ea15ea89e9d3",
   "metadata": {},
   "outputs": [
    {
     "name": "stdout",
     "output_type": "stream",
     "text": [
      "\n",
      "[torchtext.legacy.data.batch.Batch of size 128]\n",
      "\t[.tweet_n]:[torch.LongTensor of size 128x61]\n",
      "\t[.label]:[torch.LongTensor of size 128]\n",
      "tensor([[   2,  821,   58,  ...,    1,    1,    1],\n",
      "        [   2,    0,    0,  ...,    1,    1,    1],\n",
      "        [   2,  270,  244,  ...,    1,    1,    1],\n",
      "        ...,\n",
      "        [   2,   11,   23,  ...,    1,    1,    1],\n",
      "        [   2, 1709, 1591,  ...,    1,    1,    1],\n",
      "        [   2,   18,    6,  ...,    1,    1,    1]])\n"
     ]
    }
   ],
   "source": [
    "train_ = next(iter(train_iter))\n",
    "tweet = train_.tweet_n\n",
    "print(train_)\n",
    "print(tweet)"
   ]
  },
  {
   "cell_type": "code",
   "execution_count": 18,
   "id": "6e523285-c4c1-4639-ad5a-de22edcd57bb",
   "metadata": {},
   "outputs": [
    {
     "ename": "TypeError",
     "evalue": "'generator' object is not subscriptable",
     "output_type": "error",
     "traceback": [
      "\u001b[1;31m---------------------------------------------------------------------------\u001b[0m",
      "\u001b[1;31mTypeError\u001b[0m                                 Traceback (most recent call last)",
      "\u001b[1;32m<ipython-input-18-de16c8ae14a3>\u001b[0m in \u001b[0;36m<module>\u001b[1;34m\u001b[0m\n\u001b[0;32m      1\u001b[0m \u001b[0mlen\u001b[0m\u001b[1;33m(\u001b[0m\u001b[0mtrain_iter\u001b[0m\u001b[1;33m)\u001b[0m\u001b[1;33m\u001b[0m\u001b[1;33m\u001b[0m\u001b[0m\n\u001b[1;32m----> 2\u001b[1;33m \u001b[0mprint\u001b[0m\u001b[1;33m(\u001b[0m\u001b[0miter\u001b[0m\u001b[1;33m(\u001b[0m\u001b[0mtrain_iter\u001b[0m\u001b[1;33m)\u001b[0m\u001b[1;33m[\u001b[0m\u001b[1;36m1\u001b[0m\u001b[1;33m]\u001b[0m\u001b[1;33m)\u001b[0m\u001b[1;33m\u001b[0m\u001b[1;33m\u001b[0m\u001b[0m\n\u001b[0m",
      "\u001b[1;31mTypeError\u001b[0m: 'generator' object is not subscriptable"
     ]
    }
   ],
   "source": [
    "len(train_iter)"
   ]
  },
  {
   "cell_type": "code",
   "execution_count": 12,
   "id": "70129a6d-a08e-48e3-9ef6-6df28035de37",
   "metadata": {},
   "outputs": [
    {
     "data": {
      "text/plain": [
       "<torchtext.legacy.data.dataset.TabularDataset at 0x1582845b0>"
      ]
     },
     "execution_count": 12,
     "metadata": {},
     "output_type": "execute_result"
    }
   ],
   "source": [
    "train_data"
   ]
  },
  {
   "cell_type": "code",
   "execution_count": 22,
   "id": "0f4c3dca-aa12-40e2-b75f-259fea071c84",
   "metadata": {},
   "outputs": [
    {
     "name": "stdout",
     "output_type": "stream",
     "text": [
      "0\n",
      "['top50', 'cryptocurrency', 'in/out', 'update', 'last', '12', 'hours', '(', 'crypto', 'bitcoin', 'altcoin', ')', 'in', 'out']\n",
      "0\n",
      "['bitcoin', '.', '39💚', '+159', '.', '43', 'last', '1', 'hour', '(', '+0', '.', '46%', ')', '💚', '+219', '.', '3', 'last', '5', 'hours', '(', '+0', '.', '63%', ')', '💔', '-845', '.', '02', 'last', '24', 'hours', '(', '-2', '.', '35%', ')', 'bitcoinpriceupdates', 'bitcoin', 'hourlycrypto', 'cryptoupdates', 'cryptopowered', 'api']\n",
      "0\n",
      "['bitcoincurrent', 'price', '35060€', '29561', '.', '01cryptocurrencies', 'blockchain', 'btc']\n"
     ]
    }
   ],
   "source": [
    "i=0\n",
    "for example in train_data:\n",
    "    print(example.label)\n",
    "    print(example.tweet_n)\n",
    "    i+=1\n",
    "    if i==3: break"
   ]
  },
  {
   "cell_type": "code",
   "execution_count": 15,
   "id": "47c45f8e-bbca-4afb-9819-989b38d02275",
   "metadata": {},
   "outputs": [
    {
     "name": "stdout",
     "output_type": "stream",
     "text": [
      "0\n",
      "tensor([[   2,   36,    4,  ...,  114,   22,  384],\n",
      "        [   2, 1087,    0,  ...,    1,    1,    1],\n",
      "        [   2,  452, 1408,  ...,    1,    1,    1],\n",
      "        ...,\n",
      "        [   2,  101,    4,  ...,    1,    1,    1],\n",
      "        [   2,    4,   14,  ...,    1,    1,    1],\n",
      "        [   2,  745,    4,  ...,    1,    1,    1]])\n",
      "torch.Size([128, 56])\n",
      "1\n",
      "tensor([[   2,   23,    0,  ...,    1,    1,    1],\n",
      "        [   2, 1204,  299,  ...,    1,    1,    1],\n",
      "        [   2,    8, 1046,  ...,    1,    1,    1],\n",
      "        ...,\n",
      "        [   2,    0,    0,  ...,    1,    1,    1],\n",
      "        [   2,    8,  108,  ...,    1,    1,    1],\n",
      "        [   2,    0,    0,  ...,    1,    1,    1]])\n",
      "torch.Size([128, 84])\n",
      "2\n",
      "tensor([[  2,  23, 553,  ...,   1,   1,   1],\n",
      "        [  2,  19, 161,  ...,   1,   1,   1],\n",
      "        [  2,  60,  31,  ...,   1,   1,   1],\n",
      "        ...,\n",
      "        [  2,  11, 199,  ...,   1,   1,   1],\n",
      "        [  2,   4, 239,  ...,   1,   1,   1],\n",
      "        [  2,   4, 438,  ...,   1,   1,   1]])\n",
      "torch.Size([128, 77])\n",
      "end\n"
     ]
    }
   ],
   "source": [
    "i=0\n",
    "l=len(train_iter)\n",
    "for idx, batch in enumerate(iter(train_iter)):\n",
    "    i+=1\n",
    "    print(idx)\n",
    "#    print(batch.label)\n",
    "    print(batch.tweet_n)\n",
    "    print(batch.tweet_n.size())\n",
    "    if i==3: break\n",
    "print(\"end\")"
   ]
  },
  {
   "cell_type": "code",
   "execution_count": 21,
   "id": "e860cb6c-3257-491e-b82d-e90fcf363141",
   "metadata": {},
   "outputs": [],
   "source": [
    "df = pd.read_csv('tweet-transformer/1h/test7_v2.csv')\n",
    "#df1 = df[:1000]\n",
    "df1 = df.sample(n=1000)\n",
    "df1.head()\n",
    "df1.to_csv('tweet-transformer/1h/test7_v4.csv', index=False)"
   ]
  },
  {
   "cell_type": "code",
   "execution_count": 3,
   "id": "26b8163e-c26d-4c9d-8b9f-ff6bb147d50f",
   "metadata": {},
   "outputs": [
    {
     "name": "stdout",
     "output_type": "stream",
     "text": [
      "cuda\n"
     ]
    }
   ],
   "source": [
    "device = torch.device('cuda' if torch.cuda.is_available() else 'cpu')\n",
    "print(device)"
   ]
  },
  {
   "cell_type": "code",
   "execution_count": 22,
   "id": "810af7d7-cdf9-4b90-8ae2-78bb8d8e3530",
   "metadata": {},
   "outputs": [
    {
     "name": "stdout",
     "output_type": "stream",
     "text": [
      "tensor([[[-1.1258, -1.1524, -0.2506],\n",
      "         [-0.4339,  0.8487,  0.6920],\n",
      "         [-0.3160, -2.1152,  0.3223]],\n",
      "\n",
      "        [[-1.2633,  0.3500,  0.2660],\n",
      "         [ 0.1665,  0.8744, -0.1435],\n",
      "         [-0.1116, -0.6136,  0.0316]],\n",
      "\n",
      "        [[-0.4927,  0.0537,  0.6181],\n",
      "         [-0.4128, -0.8411, -2.3160],\n",
      "         [-0.1023,  0.7924, -0.2897]]])\n",
      "tensor([[-1.2633,  0.3500,  0.2660],\n",
      "        [ 0.1665,  0.8744, -0.1435],\n",
      "        [-0.1116, -0.6136,  0.0316]])\n"
     ]
    }
   ],
   "source": [
    "i = torch.randn(3,3,3)\n",
    "print(i)\n",
    "print(i[1])"
   ]
  },
  {
   "cell_type": "code",
   "execution_count": null,
   "id": "72710f9e-a93f-4a32-b026-2c1783801a69",
   "metadata": {},
   "outputs": [],
   "source": []
  }
 ],
 "metadata": {
  "kernelspec": {
   "display_name": "Python 3",
   "language": "python",
   "name": "python3"
  },
  "language_info": {
   "codemirror_mode": {
    "name": "ipython",
    "version": 3
   },
   "file_extension": ".py",
   "mimetype": "text/x-python",
   "name": "python",
   "nbconvert_exporter": "python",
   "pygments_lexer": "ipython3",
   "version": "3.8.8"
  }
 },
 "nbformat": 4,
 "nbformat_minor": 5
}
