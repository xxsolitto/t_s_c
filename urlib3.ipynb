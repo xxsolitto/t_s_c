{
 "cells": [
  {
   "cell_type": "code",
   "execution_count": 8,
   "id": "947f15ae-0458-4a3d-a2e6-5530401cc12b",
   "metadata": {},
   "outputs": [],
   "source": [
    "import urllib3\n",
    "import json\n",
    "import pandas as pd\n",
    "import numpy  as np\n",
    "import time\n",
    "import datetime"
   ]
  },
  {
   "cell_type": "code",
   "execution_count": 2,
   "id": "6b45dd1a-9aec-4f15-831f-c72550629578",
   "metadata": {},
   "outputs": [],
   "source": [
    "# 検索クエリ\n",
    "def req_params(start, end):\n",
    "    params = {'query'        : '(btc OR bitcoin) -giveaway lang:en -is:retweet -is:reply -is:nullcast',\n",
    "              'start_time'   : '2021-' + start + '-01T00:00:00Z',\n",
    "              'end_time'     : '2021-' + end   + '-01T00:00:00Z',\n",
    "              'max_results'  : 500,\n",
    "              'expansions'   : 'author_id',\n",
    "              'tweet.fields' : 'text,created_at,public_metrics',\n",
    "              'user.fields'  : 'name,username,public_metrics'\n",
    "              }\n",
    "    \n",
    "    return params"
   ]
  },
  {
   "cell_type": "code",
   "execution_count": 3,
   "id": "e24c5464-d942-4daa-a26d-0f000d9e44bc",
   "metadata": {},
   "outputs": [],
   "source": [
    "# http,key\n",
    "config = pd.read_csv(\"./config_academic.csv\")\n",
    "twitterAPIBearerToken=config['twitterApiBearerToken'][0]\n",
    "\n",
    "http = urllib3.PoolManager()\n",
    "key  = twitterAPIBearerToken"
   ]
  },
  {
   "cell_type": "code",
   "execution_count": 4,
   "id": "1af159b5-b9f9-4aa0-9ad0-ed7fbe0f893c",
   "metadata": {
    "tags": []
   },
   "outputs": [],
   "source": [
    "# ツイート収集リクエスト\n",
    "def req_tweet(http, key, searchFeild):\n",
    "    url  = 'https://api.twitter.com/2/tweets/search/all'\n",
    "\n",
    "    req = http.request('GET',\n",
    "                        url,\n",
    "                        headers= {'Authorization': 'Bearer '+key},\n",
    "                        fields = searchFeild\n",
    "                      )\n",
    "\n",
    "    result = json.loads(req.data)\n",
    "    if (req.status != 200):\n",
    "        print('検索失敗')\n",
    "        print(req.status)\n",
    "        print(result['errors'])\n",
    "        \n",
    "    return result"
   ]
  },
  {
   "cell_type": "code",
   "execution_count": 5,
   "id": "60ebec43-07ab-499d-85a4-3fb578995d77",
   "metadata": {},
   "outputs": [],
   "source": [
    "#ツイート収集実行\n",
    "def get_tweet(params):\n",
    "    next_token    = ''\n",
    "    break_flag    = False\n",
    "    request_count = 0\n",
    "    tweet_count   = 0\n",
    "    counter       = 1\n",
    "    t_data        = []  # tweetのリスト\n",
    "    u_data        = []  # userのリスト\n",
    "\n",
    "    # 次ページがなくなるまで次ページのクエリを取得\n",
    "    while True:\n",
    "        try:\n",
    "            data['meta']['next_token']\n",
    "\n",
    "        # n+1回目：次ページがない(next_tokenがない)のでループを抜ける   \n",
    "        except KeyError:\n",
    "            break_flag = True\n",
    "\n",
    "        # 1回目 \n",
    "        except NameError:\n",
    "            query = params\n",
    "\n",
    "        ## 2≦k≦n回目　\n",
    "        else:\n",
    "            next_token = data['meta']['next_token']\n",
    "            params['next_token'] = next_token\n",
    "            query = params\n",
    "\n",
    "        finally:\n",
    "            if break_flag == True:\n",
    "                break\n",
    "\n",
    "            # 1リクエストで収集したデータ\n",
    "            data = req_tweet(http, key, query)\n",
    "\n",
    "            # tweet.fields\n",
    "            if ('data' in data):          \n",
    "                for i in range(data['meta']['result_count']):\n",
    "                    t_data.append([data['data'][i]['text'],\n",
    "                                   data['data'][i]['public_metrics']['like_count'],\n",
    "                                   data['data'][i]['public_metrics']['retweet_count'],\n",
    "                                   data['data'][i]['created_at'],\n",
    "                                   data['data'][i]['author_id']])\n",
    "                    i += 1\n",
    "\n",
    "            # user.fields\n",
    "            if ('includes' in data):\n",
    "                for user in data['includes']['users']:\n",
    "                    u_data.append([user['name'],\n",
    "                                   '@'+user['username'],\n",
    "                                   user['public_metrics']['following_count'],\n",
    "                                   user['public_metrics']['followers_count'],\n",
    "                                   user['id']])\n",
    "\n",
    "            tweet_count += data['meta']['result_count']\n",
    "            request_count += 1\n",
    "            if request_count >= 300: # 300requestを超えたら止める\n",
    "                print('{}.300リクエストを超えるため、15分間停止します...'.format(counter))\n",
    "                time.sleep(15.01*60) # 15分間（余裕をみてプラス1秒弱）中断\n",
    "                print('収集を再開します')\n",
    "                counter += 1\n",
    "                request_count = 0\n",
    "                \n",
    "    return t_data,u_data,tweet_count"
   ]
  },
  {
   "cell_type": "code",
   "execution_count": 6,
   "id": "30a87184-5b4b-4fe7-9cfa-1f277b6c24ef",
   "metadata": {},
   "outputs": [],
   "source": [
    "# csv出力\n",
    "def to_csv(i,start_time, end_time, t_data, u_data, tweet_count):\n",
    "    print(\"2021年{}月のツイート{}件収集完了\".format(i,tweet_count))\n",
    "\n",
    "    # 収集ログ\n",
    "    dt_now = datetime.datetime.now()\n",
    "    df_log = pd.read_csv('./tweet-of-btc/assembling-log.csv')\n",
    "    s = pd.Series([dt_now, start_time, end_time, tweet_count], index=['収集時刻', '区間(start)','区間(end)','収集件数'])\n",
    "    df_log = df_log.append(s, ignore_index=True)\n",
    "    df_log.to_csv('./tweet-of-btc/assembling-log.csv',index=False)\n",
    "\n",
    "    # t_data, u_data\n",
    "    df1 = pd.DataFrame(data=t_data, columns=['Tweet','Favorite','RT','created_at','author_id'])\n",
    "    df1.to_csv(f'./tweet-of-btc/2021-0{i}_tlist.csv', index=False)\n",
    "    df2 = pd.DataFrame(data=u_data, columns=['Name','User_Name','Following','Followers','author_id'])\n",
    "    df2.to_csv(f'./tweet-of-btc/2021-0{i}_ulist.csv', index=False)\n",
    "\n",
    "    # t_data × u_data\n",
    "    df3 = pd.merge(df2 ,df1, on='author_id')\n",
    "\n",
    "    # ツイート時刻順にソート\n",
    "    df3['created_at'] = pd.to_datetime(df3['created_at'], infer_datetime_format= True)\n",
    "    sorted_df = df3.sort_values(by = 'created_at', ascending = True, inplace = True) \n",
    "    df3.to_csv('./tweet-of-btc/2021-0{i}.csv', index=False)"
   ]
  },
  {
   "cell_type": "code",
   "execution_count": 7,
   "id": "11de85b8-6fef-4d60-9856-321568c2fded",
   "metadata": {},
   "outputs": [
    {
     "name": "stdout",
     "output_type": "stream",
     "text": [
      "1.300リクエストを超えるため、15分間停止します...\n"
     ]
    },
    {
     "ename": "NameError",
     "evalue": "name 'time' is not defined",
     "output_type": "error",
     "traceback": [
      "\u001b[1;31m---------------------------------------------------------------------------\u001b[0m",
      "\u001b[1;31mNameError\u001b[0m                                 Traceback (most recent call last)",
      "\u001b[1;32m<ipython-input-7-34d7415411cf>\u001b[0m in \u001b[0;36m<module>\u001b[1;34m\u001b[0m\n\u001b[0;32m      4\u001b[0m     \u001b[0mend\u001b[0m   \u001b[1;33m=\u001b[0m \u001b[1;34m'0'\u001b[0m \u001b[1;33m+\u001b[0m \u001b[0mstr\u001b[0m\u001b[1;33m(\u001b[0m\u001b[0mi\u001b[0m\u001b[1;33m+\u001b[0m\u001b[1;36m1\u001b[0m\u001b[1;33m)\u001b[0m\u001b[1;33m\u001b[0m\u001b[1;33m\u001b[0m\u001b[0m\n\u001b[0;32m      5\u001b[0m     \u001b[0mparams\u001b[0m \u001b[1;33m=\u001b[0m \u001b[0mreq_params\u001b[0m\u001b[1;33m(\u001b[0m\u001b[0mstart\u001b[0m\u001b[1;33m,\u001b[0m \u001b[0mend\u001b[0m\u001b[1;33m)\u001b[0m\u001b[1;33m\u001b[0m\u001b[1;33m\u001b[0m\u001b[0m\n\u001b[1;32m----> 6\u001b[1;33m     \u001b[0mt_data\u001b[0m\u001b[1;33m,\u001b[0m \u001b[0mu_data\u001b[0m\u001b[1;33m,\u001b[0m \u001b[0mtweet_count\u001b[0m \u001b[1;33m=\u001b[0m \u001b[0mget_tweet\u001b[0m\u001b[1;33m(\u001b[0m\u001b[0mparams\u001b[0m\u001b[1;33m)\u001b[0m\u001b[1;33m\u001b[0m\u001b[1;33m\u001b[0m\u001b[0m\n\u001b[0m\u001b[0;32m      7\u001b[0m     \u001b[0mto_csv\u001b[0m\u001b[1;33m(\u001b[0m\u001b[0mi\u001b[0m\u001b[1;33m,\u001b[0m\u001b[0mparams\u001b[0m\u001b[1;33m[\u001b[0m\u001b[1;34m'start_time'\u001b[0m\u001b[1;33m]\u001b[0m\u001b[1;33m,\u001b[0m\u001b[0mparams\u001b[0m\u001b[1;33m[\u001b[0m\u001b[1;34m'end_time'\u001b[0m\u001b[1;33m]\u001b[0m\u001b[1;33m,\u001b[0m\u001b[0mt_data\u001b[0m\u001b[1;33m,\u001b[0m \u001b[0mu_data\u001b[0m\u001b[1;33m,\u001b[0m \u001b[0mtweet_count\u001b[0m\u001b[1;33m)\u001b[0m\u001b[1;33m\u001b[0m\u001b[1;33m\u001b[0m\u001b[0m\n\u001b[0;32m      8\u001b[0m     \u001b[0mi\u001b[0m \u001b[1;33m+=\u001b[0m \u001b[1;36m1\u001b[0m\u001b[1;33m\u001b[0m\u001b[1;33m\u001b[0m\u001b[0m\n",
      "\u001b[1;32m<ipython-input-5-dd016125e9e7>\u001b[0m in \u001b[0;36mget_tweet\u001b[1;34m(params)\u001b[0m\n\u001b[0;32m     58\u001b[0m             \u001b[1;32mif\u001b[0m \u001b[0mrequest_count\u001b[0m \u001b[1;33m>=\u001b[0m \u001b[1;36m300\u001b[0m\u001b[1;33m:\u001b[0m \u001b[1;31m# 180requestを超えたら止める\u001b[0m\u001b[1;33m\u001b[0m\u001b[1;33m\u001b[0m\u001b[0m\n\u001b[0;32m     59\u001b[0m                 \u001b[0mprint\u001b[0m\u001b[1;33m(\u001b[0m\u001b[1;34m'{}.300リクエストを超えるため、15分間停止します...'\u001b[0m\u001b[1;33m.\u001b[0m\u001b[0mformat\u001b[0m\u001b[1;33m(\u001b[0m\u001b[0mcounter\u001b[0m\u001b[1;33m)\u001b[0m\u001b[1;33m)\u001b[0m\u001b[1;33m\u001b[0m\u001b[1;33m\u001b[0m\u001b[0m\n\u001b[1;32m---> 60\u001b[1;33m                 \u001b[0mtime\u001b[0m\u001b[1;33m.\u001b[0m\u001b[0msleep\u001b[0m\u001b[1;33m(\u001b[0m\u001b[1;36m15.01\u001b[0m\u001b[1;33m*\u001b[0m\u001b[1;36m60\u001b[0m\u001b[1;33m)\u001b[0m \u001b[1;31m# 15分間（余裕をみてプラス1秒弱）中断\u001b[0m\u001b[1;33m\u001b[0m\u001b[1;33m\u001b[0m\u001b[0m\n\u001b[0m\u001b[0;32m     61\u001b[0m                 \u001b[0mprint\u001b[0m\u001b[1;33m(\u001b[0m\u001b[1;34m'収集を再開します'\u001b[0m\u001b[1;33m)\u001b[0m\u001b[1;33m\u001b[0m\u001b[1;33m\u001b[0m\u001b[0m\n\u001b[0;32m     62\u001b[0m                 \u001b[0mcounter\u001b[0m \u001b[1;33m+=\u001b[0m \u001b[1;36m1\u001b[0m\u001b[1;33m\u001b[0m\u001b[1;33m\u001b[0m\u001b[0m\n",
      "\u001b[1;31mNameError\u001b[0m: name 'time' is not defined"
     ]
    }
   ],
   "source": [
    "# main\n",
    "for i in range(1,5):\n",
    "    start = '0' + str(i)\n",
    "    end   = '0' + str(i+1)\n",
    "    params = req_params(start, end)\n",
    "    t_data, u_data, tweet_count = get_tweet(params)\n",
    "    to_csv(i,params['start_time'],params['end_time'],t_data, u_data, tweet_count)\n",
    "    i += 1"
   ]
  },
  {
   "cell_type": "code",
   "execution_count": null,
   "id": "a139c487-6d84-4b8c-8506-23c8d0e239e3",
   "metadata": {},
   "outputs": [],
   "source": []
  },
  {
   "cell_type": "code",
   "execution_count": null,
   "id": "2013230e-0c71-4f49-8823-7c8e099fe156",
   "metadata": {},
   "outputs": [],
   "source": []
  }
 ],
 "metadata": {
  "kernelspec": {
   "display_name": "Python 3",
   "language": "python",
   "name": "python3"
  },
  "language_info": {
   "codemirror_mode": {
    "name": "ipython",
    "version": 3
   },
   "file_extension": ".py",
   "mimetype": "text/x-python",
   "name": "python",
   "nbconvert_exporter": "python",
   "pygments_lexer": "ipython3",
   "version": "3.8.8"
  }
 },
 "nbformat": 4,
 "nbformat_minor": 5
}
