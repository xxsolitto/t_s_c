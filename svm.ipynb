{
 "cells": [
  {
   "cell_type": "code",
   "execution_count": 16,
   "id": "64b9f439-66e1-4aa0-b7a2-6a32aaa8d15d",
   "metadata": {},
   "outputs": [],
   "source": [
    "from sklearn.svm import SVC\n",
    "from sklearn.model_selection import train_test_split\n",
    "from sklearn.model_selection import GridSearchCV\n",
    "from sklearn.preprocessing import MinMaxScaler\n",
    "from sklearn.multiclass import OneVsRestClassifier\n",
    "from sklearn.metrics import accuracy_score\n",
    "import pandas as pd\n",
    "import numpy as np\n",
    "import matplotlib.pyplot as plt\n",
    "%matplotlib inline\n",
    "import gc"
   ]
  },
  {
   "cell_type": "code",
   "execution_count": 17,
   "id": "40591286-361c-46d8-b061-76c9d44a371a",
   "metadata": {},
   "outputs": [],
   "source": [
    "# データ読み込み、各月の結合、欠損値を含む行の削除\n",
    "def read_data(timespan):\n",
    "    month = 1\n",
    "    files = [f'tweet-sentiment/{timespan}/2021-0{month}.csv',\n",
    "             f'tweet-sentiment/{timespan}/2021-0{month+1}.csv',\n",
    "             f'tweet-sentiment/{timespan}/2021-0{month+2}.csv',\n",
    "             f'tweet-sentiment/{timespan}/2021-0{month+3}.csv',\n",
    "             f'tweet-sentiment/{timespan}/2021-0{month+4}.csv',\n",
    "             f'tweet-sentiment/{timespan}/2021-0{month+5}.csv']\n",
    "    datas = []\n",
    "    df = pd.DataFrame()\n",
    "    for file in files:\n",
    "        data = pd.read_csv(file)\n",
    "        datas.append(data)\n",
    "\n",
    "    df = pd.concat(datas).reset_index(drop=True)\n",
    "    print(\"【欠損値】\")\n",
    "    print(df.isnull().sum())\n",
    "    df = df.drop(columns=['section'])\n",
    "    df = df.dropna(how='any')\n",
    "    \n",
    "    print(\"read終了\\n\")\n",
    "    \n",
    "    return df"
   ]
  },
  {
   "cell_type": "code",
   "execution_count": 18,
   "id": "dfd10fa8-f101-47ed-94f7-cbcf7bd3d4b4",
   "metadata": {},
   "outputs": [],
   "source": [
    "# スケーリング x' = (x - xmin)/(xmax - xmin)\n",
    "def scaling(x_train,x_test):\n",
    "    scaler = MinMaxScaler().fit(x_train)\n",
    "\n",
    "    x_train_scaled = scaler.transform(x_train)\n",
    "    x_test_scaled  = scaler.transform(x_test)\n",
    "    \n",
    "    print(\"scalig終了\\n\")\n",
    "    \n",
    "    return x_train_scaled, x_test_scaled"
   ]
  },
  {
   "cell_type": "code",
   "execution_count": 19,
   "id": "8fef964e-f150-4763-8763-53a23ec1be4d",
   "metadata": {},
   "outputs": [],
   "source": [
    "# 学習 One-versus-the-rest\n",
    "# Default ver. C=1, gamma=auto\n",
    "def default_svm(x_train, y_train, x_test):\n",
    "    model = OneVsRestClassifier(SVC())\n",
    "    model.fit(x_train, y_train)\n",
    "    pred_y = model.predict(x_test)\n",
    "    \n",
    "    print(\"SVM(Default)学習終了\\n\")\n",
    "    \n",
    "    return pred_y"
   ]
  },
  {
   "cell_type": "code",
   "execution_count": 20,
   "id": "cbe7df80-d796-4cb4-a428-36e16732e0e5",
   "metadata": {},
   "outputs": [],
   "source": [
    "# C,gammmaの最適値探索ver.\n",
    "def best_svm(x_train, y_train, x_test):\n",
    "    model = OneVsRestClassifier(SVC())\n",
    "    C_params = np.logspace(-4, 4, 5) #10^(-4) ~ 10^4 までで均等に5つの値\n",
    "    gamma_params = np.logspace(-4, 4, 5)\n",
    "\n",
    "    parameters = {'estimator__C': C_params,\n",
    "                  'estimator__gamma': gamma_params}\n",
    "\n",
    "    model_tuning = GridSearchCV(estimator = model,\n",
    "                                param_grid = parameters,\n",
    "                                n_jobs = -1,\n",
    "                                verbose = 3\n",
    "    )\n",
    "    model_tuning.fit(x_train, y_train)\n",
    "    pred_y2 = model_tuning.predict(test_x)\n",
    "\n",
    "    # Best parameter\n",
    "    model_tuning.best_params_\n",
    "    \n",
    "    return pred_y2"
   ]
  },
  {
   "cell_type": "code",
   "execution_count": null,
   "id": "27c862ef-412d-42f1-9d6f-7dece9ea919e",
   "metadata": {},
   "outputs": [],
   "source": [
    "# main\n",
    "\n",
    "#データの読み込み\n",
    "timespan = str(input(\"timespanを入力：\"))\n",
    "data = read_data(timespan)\n",
    "\n",
    "# 説明変数、目的変数をセット\n",
    "x = data.iloc[:,:-1]  # 最終行以外\n",
    "y = data.iloc[:,-1]   # 最終行\n",
    "\n",
    "#データを訓練用とテスト用に分割する\n",
    "x_train, x_test, y_train, y_test = train_test_split(x, y, test_size = 1/6)\n",
    "\n",
    "# スケーリング\n",
    "x_train_scaled, x_test_scaled = scaling(x_train, x_test)\n",
    "\n",
    "# 学習\n",
    "pred_y = default_svm(x_train_scaled, y_train, x_test_scaled)\n",
    "\n",
    "# 結果表示\n",
    "print ('Default : {:.5f}'.format(accuracy_score(y_test, pred_y)))\n",
    "#print ('最適地探索: {:.5f}'.format(accuracy_score(test_y, pred_y2)))"
   ]
  },
  {
   "cell_type": "code",
   "execution_count": 31,
   "id": "febb927f-621c-4609-97dd-d0352d9b00f9",
   "metadata": {},
   "outputs": [
    {
     "data": {
      "text/plain": [
       "52"
      ]
     },
     "execution_count": 31,
     "metadata": {},
     "output_type": "execute_result"
    }
   ],
   "source": [
    "gc.collect()"
   ]
  },
  {
   "cell_type": "code",
   "execution_count": null,
   "id": "66e0ea19-6a8e-4d58-bf94-3ba41258d115",
   "metadata": {},
   "outputs": [],
   "source": []
  },
  {
   "cell_type": "code",
   "execution_count": null,
   "id": "f1d61a57-6bde-4737-ac44-b2dd34c3ef24",
   "metadata": {},
   "outputs": [],
   "source": []
  }
 ],
 "metadata": {
  "kernelspec": {
   "display_name": "Python 3",
   "language": "python",
   "name": "python3"
  },
  "language_info": {
   "codemirror_mode": {
    "name": "ipython",
    "version": 3
   },
   "file_extension": ".py",
   "mimetype": "text/x-python",
   "name": "python",
   "nbconvert_exporter": "python",
   "pygments_lexer": "ipython3",
   "version": "3.8.1"
  }
 },
 "nbformat": 4,
 "nbformat_minor": 5
}
