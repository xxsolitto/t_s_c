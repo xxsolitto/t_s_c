{
 "cells": [
  {
   "cell_type": "code",
   "execution_count": 1,
   "id": "4adaef67-d704-44c2-8ace-92320230b9b6",
   "metadata": {},
   "outputs": [
    {
     "name": "stdout",
     "output_type": "stream",
     "text": [
      "(150, 4)\n",
      "['setosa' 'versicolor' 'virginica']\n"
     ]
    }
   ],
   "source": [
    "import numpy as np\n",
    "import matplotlib.pyplot as plt\n",
    "%matplotlib inline\n",
    "from sklearn import datasets\n",
    "from sklearn.cross_validation import train_test_split # クロスバリデーション用\n",
    "\n",
    "# データ用意\n",
    "iris = datasets.load_iris()    # データロード\n",
    "X = iris.data                  # 説明変数セット\n",
    "Y = iris.target                # 目的変数セット\n",
    "X_train, X_test, Y_train, Y_test = train_test_split(X, Y, random_state=0) # random_stateはseed値。\n",
    "\n",
    "# SVM実行\n",
    "from sklearn.svm import SVC # SVM用\n",
    "model = SVC()               # インスタンス生成\n",
    "model.fit(X_train, Y_train) # SVM実行\n",
    "\n",
    "# 予測実行\n",
    "from sklearn import metrics       # 精度検証用\n",
    "predicted = model.predict(X_test) # テストデーテへの予測実行\n",
    "metrics.accuracy_score(Y_test, predicted)"
   ]
  },
  {
   "cell_type": "code",
   "execution_count": 4,
   "id": "cb8a9398-8ecf-400d-86f1-1adc19e5d5c1",
   "metadata": {},
   "outputs": [
    {
     "name": "stdout",
     "output_type": "stream",
     "text": [
      "[0]\n"
     ]
    }
   ],
   "source": [
    "from sklearn import svm\n",
    "from sklearn.datasets import load_iris\n",
    "\n",
    "iris = load_iris()\n",
    "\n",
    "# 学習させる\n",
    "clf = svm.SVC(gamma=\"scale\")\n",
    "clf.fit(iris.data, iris.target)\n",
    "\n",
    "# ランダムに見つけた値で分類できるかどうか確認する\n",
    "# case versicolor\n",
    "test_data = [[ 5.5,  2.6,  1.4,  0.2]]\n",
    "print(clf.predict(test_data))"
   ]
  },
  {
   "cell_type": "code",
   "execution_count": null,
   "id": "64b9f439-66e1-4aa0-b7a2-6a32aaa8d15d",
   "metadata": {},
   "outputs": [],
   "source": [
    "from sklearn import datasets\n",
    "from sklearn import svm\n",
    "import matplotlib.pyplot as plt\n",
    "import numpy as np\n",
    "from sklearn import metrics"
   ]
  }
 ],
 "metadata": {
  "kernelspec": {
   "display_name": "Python 3",
   "language": "python",
   "name": "python3"
  },
  "language_info": {
   "codemirror_mode": {
    "name": "ipython",
    "version": 3
   },
   "file_extension": ".py",
   "mimetype": "text/x-python",
   "name": "python",
   "nbconvert_exporter": "python",
   "pygments_lexer": "ipython3",
   "version": "3.8.8"
  }
 },
 "nbformat": 4,
 "nbformat_minor": 5
}
