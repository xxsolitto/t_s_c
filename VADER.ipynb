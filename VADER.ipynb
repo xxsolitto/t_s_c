{
 "cells": [
  {
   "cell_type": "code",
   "execution_count": null,
   "id": "b25b186d-f565-4898-a68a-a0dc337cde49",
   "metadata": {},
   "outputs": [],
   "source": [
    "#ライブラリ\n",
    "import pandas as pd\n",
    "import numpy as np\n",
    "import re\n",
    "import nltk"
   ]
  },
  {
   "cell_type": "code",
   "execution_count": null,
   "id": "9b0b85a5-2e0d-4ab5-aee7-7449bba35cdc",
   "metadata": {},
   "outputs": [],
   "source": [
    "nltk.download('vader_lexicon')\n",
    "from nltk.sentiment.vader import SentimentIntensityAnalyzer\n",
    "vader_analyzer = SentimentIntensityAnalyzer()\n",
    "\n",
    "from nltk.corpus import stopwords\n",
    "stop_words = stopwords.words('english') \n",
    "print(stop_words)"
   ]
  },
  {
   "cell_type": "code",
   "execution_count": null,
   "id": "d3b059f5-c88d-489f-9e8f-f22c0bb5f29d",
   "metadata": {},
   "outputs": [],
   "source": [
    "#テキスト前処理\n",
    "def clean_up_tweet(txt):\n",
    "    # メンション削除\n",
    "    txt = re.sub(r'@[A-Za-z0-9_]+', '', txt)\n",
    "    # URL削除\n",
    "    txt = re.sub(r'https?:\\/\\/[A-Za-z0-9\\.\\/]+', '', txt)\n",
    "    # ハッシュタグ削除\n",
    "    txt = re.sub(r'#', '', txt)\n",
    "    # キャッシュタグの削除\n",
    "    txt = re.sub(r'$[A-Za-z0-9]', '', txt) \n",
    "    # 全角スペース、タブ、改行削除\n",
    "    txt = re.sub(r'[\\u3000\\t\\n]', '', txt)\n",
    "    # 小文字に統一\n",
    "    txt = txt.lower()  \n",
    "    # 数値の削除(vaderでは数値は感情値に影響なし)\n",
    "    txt = re.sub(r'[0-9]', '', txt) \n",
    "    # ストップワードの削除\n",
    "    txt = re.sub(stopwords,'',txt)\n",
    "    \n",
    "    return txt"
   ]
  },
  {
   "cell_type": "code",
   "execution_count": null,
   "id": "97c428c9-94d3-4e34-bad8-5c31d8998f73",
   "metadata": {},
   "outputs": [],
   "source": [
    "# VADER感情分析\n",
    "def get_text_polarity(txt):\n",
    "    return vader_analyzer.polarity_scores(txt)\n",
    "\n",
    "# 感情値[-1,1]取得\n",
    "def get_score_compound(score):\n",
    "    return score.get(\"compound\")"
   ]
  },
  {
   "cell_type": "code",
   "execution_count": null,
   "id": "800ec038-3ddd-4f35-9ff2-ed5025be5037",
   "metadata": {},
   "outputs": [],
   "source": [
    "# main\n",
    "df = pd.read_csv('./2021-01_test.csv', usecols = ['Tweet'])\n",
    "df['Score'] = df['Tweet'].apply(get_txt_polarity)\n",
    "df['Sentiment'] = df['Score'].apply(get_text_compound)"
   ]
  },
  {
   "cell_type": "code",
   "execution_count": null,
   "id": "1a6871ef-6b8a-41b7-8738-4459487504c3",
   "metadata": {},
   "outputs": [],
   "source": [
    "# csv出力\n",
    "df.to_csv('./2021-01_test_senti.csv', index=False, columns = ['Sentiment','created_at'])"
   ]
  },
  {
   "cell_type": "code",
   "execution_count": null,
   "id": "bd0f5896-bf44-4104-b57c-0fb50f0a2664",
   "metadata": {},
   "outputs": [],
   "source": [
    "# メモリ開放\n",
    "del df\n",
    "gc.collect()"
   ]
  },
  {
   "cell_type": "code",
   "execution_count": null,
   "id": "91e398ef-11d9-4154-b679-8bbb106ee8cd",
   "metadata": {},
   "outputs": [],
   "source": []
  },
  {
   "cell_type": "code",
   "execution_count": null,
   "id": "839b891c-05a3-4969-985f-cf7a455e8d9d",
   "metadata": {},
   "outputs": [],
   "source": []
  }
 ],
 "metadata": {
  "kernelspec": {
   "display_name": "Python 3",
   "language": "python",
   "name": "python3"
  },
  "language_info": {
   "codemirror_mode": {
    "name": "ipython",
    "version": 3
   },
   "file_extension": ".py",
   "mimetype": "text/x-python",
   "name": "python",
   "nbconvert_exporter": "python",
   "pygments_lexer": "ipython3",
   "version": "3.8.8"
  }
 },
 "nbformat": 4,
 "nbformat_minor": 5
}
