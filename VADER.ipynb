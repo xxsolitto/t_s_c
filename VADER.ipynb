{
 "cells": [
  {
   "cell_type": "code",
   "execution_count": 1,
   "id": "b25b186d-f565-4898-a68a-a0dc337cde49",
   "metadata": {},
   "outputs": [],
   "source": [
    "#ライブラリ\n",
    "import pandas as pd\n",
    "import re\n",
    "import nltk\n",
    "import gc"
   ]
  },
  {
   "cell_type": "code",
   "execution_count": 2,
   "id": "9b0b85a5-2e0d-4ab5-aee7-7449bba35cdc",
   "metadata": {},
   "outputs": [
    {
     "name": "stderr",
     "output_type": "stream",
     "text": [
      "[nltk_data] Downloading package vader_lexicon to\n",
      "[nltk_data]     C:\\Users\\zxxxs\\AppData\\Roaming\\nltk_data...\n",
      "[nltk_data]   Package vader_lexicon is already up-to-date!\n",
      "[nltk_data] Downloading package stopwords to\n",
      "[nltk_data]     C:\\Users\\zxxxs\\AppData\\Roaming\\nltk_data...\n",
      "[nltk_data]   Package stopwords is already up-to-date!\n"
     ]
    }
   ],
   "source": [
    "nltk.download('vader_lexicon')\n",
    "from nltk.sentiment.vader import SentimentIntensityAnalyzer\n",
    "vader_analyzer = SentimentIntensityAnalyzer()\n",
    "\n",
    "nltk.download('stopwords')\n",
    "from nltk.corpus import stopwords\n",
    "sw = stopwords.words('english') "
   ]
  },
  {
   "cell_type": "code",
   "execution_count": 6,
   "id": "d3b059f5-c88d-489f-9e8f-f22c0bb5f29d",
   "metadata": {},
   "outputs": [],
   "source": [
    "#テキスト前処理\n",
    "def clean_up_tweet(txt):\n",
    "    # メンション削除\n",
    "    txt = re.sub(r'@[A-Za-z0-9_]+', '', txt)\n",
    "    # URL削除\n",
    "    txt = re.sub(r'https?:\\/\\/[A-Za-z0-9\\.\\/]+', '', txt)\n",
    "    # ハッシュタグ削除\n",
    "    txt = re.sub(r'#', '', txt)\n",
    "    # ticker symbolの削除\n",
    "    txt = re.sub(r'$[A-Za-z0-9]', '', txt)\n",
    "    # 全角スペース、タブ、改行削除\n",
    "    txt = re.sub(r'[\\u3000\\t\\n]', '', txt)\n",
    "    # 小文字に統一\n",
    "    txt = txt.lower()  \n",
    "    # 数値の削除\n",
    "    txt = re.sub(r'[0-9]', '', txt) \n",
    "    # ストップワードの削除\n",
    "    txt = ' '.join([word for word in txt.split() if word not in sw])\n",
    "    \n",
    "    return txt"
   ]
  },
  {
   "cell_type": "code",
   "execution_count": 4,
   "id": "97c428c9-94d3-4e34-bad8-5c31d8998f73",
   "metadata": {},
   "outputs": [],
   "source": [
    "# VADER感情分析\n",
    "def get_text_polarity(txt):\n",
    "    return vader_analyzer.polarity_scores(txt)\n",
    "\n",
    "# 感情値[-1,1]取得\n",
    "def get_sentiment_score(score):\n",
    "    return score.get(\"compound\")"
   ]
  },
  {
   "cell_type": "code",
   "execution_count": 12,
   "id": "800ec038-3ddd-4f35-9ff2-ed5025be5037",
   "metadata": {},
   "outputs": [
    {
     "ename": "NameError",
     "evalue": "name 'get_text_compound' is not defined",
     "output_type": "error",
     "traceback": [
      "\u001b[1;31m---------------------------------------------------------------------------\u001b[0m",
      "\u001b[1;31mNameError\u001b[0m                                 Traceback (most recent call last)",
      "\u001b[1;32m<ipython-input-12-7d99eb7b917e>\u001b[0m in \u001b[0;36m<module>\u001b[1;34m\u001b[0m\n\u001b[0;32m      2\u001b[0m \u001b[0mdf\u001b[0m \u001b[1;33m=\u001b[0m \u001b[0mpd\u001b[0m\u001b[1;33m.\u001b[0m\u001b[0mread_csv\u001b[0m\u001b[1;33m(\u001b[0m\u001b[1;34m'./2021-01_test.csv'\u001b[0m\u001b[1;33m,\u001b[0m \u001b[0musecols\u001b[0m \u001b[1;33m=\u001b[0m \u001b[1;33m[\u001b[0m\u001b[1;34m'Tweet'\u001b[0m\u001b[1;33m]\u001b[0m\u001b[1;33m)\u001b[0m\u001b[1;33m\u001b[0m\u001b[1;33m\u001b[0m\u001b[0m\n\u001b[0;32m      3\u001b[0m \u001b[0mdf\u001b[0m\u001b[1;33m[\u001b[0m\u001b[1;34m'Score'\u001b[0m\u001b[1;33m]\u001b[0m \u001b[1;33m=\u001b[0m \u001b[0mdf\u001b[0m\u001b[1;33m[\u001b[0m\u001b[1;34m'Tweet'\u001b[0m\u001b[1;33m]\u001b[0m\u001b[1;33m.\u001b[0m\u001b[0mapply\u001b[0m\u001b[1;33m(\u001b[0m\u001b[0mget_text_polarity\u001b[0m\u001b[1;33m)\u001b[0m\u001b[1;33m\u001b[0m\u001b[1;33m\u001b[0m\u001b[0m\n\u001b[1;32m----> 4\u001b[1;33m \u001b[0mdf\u001b[0m\u001b[1;33m[\u001b[0m\u001b[1;34m'Sentiment'\u001b[0m\u001b[1;33m]\u001b[0m \u001b[1;33m=\u001b[0m \u001b[0mdf\u001b[0m\u001b[1;33m[\u001b[0m\u001b[1;34m'Score'\u001b[0m\u001b[1;33m]\u001b[0m\u001b[1;33m.\u001b[0m\u001b[0mapply\u001b[0m\u001b[1;33m(\u001b[0m\u001b[0mget_text_compound\u001b[0m\u001b[1;33m)\u001b[0m\u001b[1;33m\u001b[0m\u001b[1;33m\u001b[0m\u001b[0m\n\u001b[0m",
      "\u001b[1;31mNameError\u001b[0m: name 'get_text_compound' is not defined"
     ]
    }
   ],
   "source": [
    "# main\n",
    "df = pd.read_csv('./2021-01_test.csv', usecols = ['Tweet','created_at'])\n",
    "print(\"read\")\n",
    "df['Tweet'] = df['Tweet'].apply(clean_up_tweet)\n",
    "print(\"clean\")\n",
    "df['Score'] = df['Tweet'].apply(get_text_polarity)\n",
    "print(\"polarity\")\n",
    "df['Sentiment'] = df['Score'].apply(get_sentiment_score)\n",
    "print(\"sentiment\")"
   ]
  },
  {
   "cell_type": "code",
   "execution_count": null,
   "id": "1a6871ef-6b8a-41b7-8738-4459487504c3",
   "metadata": {},
   "outputs": [],
   "source": [
    "# csv出力\n",
    "df.to_csv('./2021-01_test_senti.csv', index=False, columns = ['Sentiment','created_at'])\n",
    "df.describe()"
   ]
  },
  {
   "cell_type": "code",
   "execution_count": 9,
   "id": "bd0f5896-bf44-4104-b57c-0fb50f0a2664",
   "metadata": {},
   "outputs": [
    {
     "data": {
      "text/plain": [
       "44"
      ]
     },
     "execution_count": 9,
     "metadata": {},
     "output_type": "execute_result"
    }
   ],
   "source": [
    "# メモリ開放\n",
    "del df\n",
    "gc.collect()"
   ]
  },
  {
   "cell_type": "code",
   "execution_count": 8,
   "id": "91e398ef-11d9-4154-b679-8bbb106ee8cd",
   "metadata": {},
   "outputs": [],
   "source": [
    "df = pd.read_csv('./2021-01_test.csv', usecols = ['Tweet'])\n",
    "df['Tweet'] = df['Tweet'].apply(clean_up_tweet)\n",
    "df.to_csv('./2021-01_test_senti_original.csv', index=False)"
   ]
  },
  {
   "cell_type": "code",
   "execution_count": null,
   "id": "839b891c-05a3-4969-985f-cf7a455e8d9d",
   "metadata": {},
   "outputs": [],
   "source": [
    "#処理なし\n",
    "df = pd.read_csv('./2021-01_test.csv', usecols = ['Tweet','created_at'])\n",
    "print(\"read\")\n",
    "df['Score'] = df['Tweet'].apply(get_text_polarity)\n",
    "print(\"polarity\")\n",
    "df['Sentiment'] = df['Score'].apply(get_sentiment_score)\n",
    "print(\"sentiment\")"
   ]
  },
  {
   "cell_type": "code",
   "execution_count": null,
   "id": "9efc38ab-166b-4e4a-9040-2ad8c9a16352",
   "metadata": {},
   "outputs": [],
   "source": [
    "# csv出力\n",
    "df.to_csv('./2021-01_test_senti.csv', index=False, columns = ['Sentiment','created_at'])\n",
    "df.describe()"
   ]
  },
  {
   "cell_type": "code",
   "execution_count": null,
   "id": "96c73308-d44e-47c8-9f0a-2630c30d975d",
   "metadata": {},
   "outputs": [],
   "source": []
  }
 ],
 "metadata": {
  "kernelspec": {
   "display_name": "Python 3",
   "language": "python",
   "name": "python3"
  },
  "language_info": {
   "codemirror_mode": {
    "name": "ipython",
    "version": 3
   },
   "file_extension": ".py",
   "mimetype": "text/x-python",
   "name": "python",
   "nbconvert_exporter": "python",
   "pygments_lexer": "ipython3",
   "version": "3.8.1"
  }
 },
 "nbformat": 4,
 "nbformat_minor": 5
}
