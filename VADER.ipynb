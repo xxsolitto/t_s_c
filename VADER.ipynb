{
 "cells": [
  {
   "cell_type": "code",
   "execution_count": 1,
   "id": "b25b186d-f565-4898-a68a-a0dc337cde49",
   "metadata": {},
   "outputs": [
    {
     "ename": "ModuleNotFoundError",
     "evalue": "No module named 'pandas'",
     "output_type": "error",
     "traceback": [
      "\u001b[0;31m---------------------------------------------------------------------------\u001b[0m",
      "\u001b[0;31mModuleNotFoundError\u001b[0m                       Traceback (most recent call last)",
      "\u001b[0;32m/var/folders/xx/b9j_s_jx73s901xznm0f4wy80000gn/T/ipykernel_7754/3623724888.py\u001b[0m in \u001b[0;36m<module>\u001b[0;34m\u001b[0m\n\u001b[1;32m      1\u001b[0m \u001b[0;31m#ライブラリ\u001b[0m\u001b[0;34m\u001b[0m\u001b[0;34m\u001b[0m\u001b[0m\n\u001b[0;32m----> 2\u001b[0;31m \u001b[0;32mimport\u001b[0m \u001b[0mpandas\u001b[0m \u001b[0;32mas\u001b[0m \u001b[0mpd\u001b[0m\u001b[0;34m\u001b[0m\u001b[0;34m\u001b[0m\u001b[0m\n\u001b[0m\u001b[1;32m      3\u001b[0m \u001b[0;32mimport\u001b[0m \u001b[0mre\u001b[0m\u001b[0;34m\u001b[0m\u001b[0;34m\u001b[0m\u001b[0m\n\u001b[1;32m      4\u001b[0m \u001b[0;32mimport\u001b[0m \u001b[0mnltk\u001b[0m\u001b[0;34m\u001b[0m\u001b[0;34m\u001b[0m\u001b[0m\n\u001b[1;32m      5\u001b[0m \u001b[0;32mimport\u001b[0m \u001b[0mgc\u001b[0m\u001b[0;34m\u001b[0m\u001b[0;34m\u001b[0m\u001b[0m\n",
      "\u001b[0;31mModuleNotFoundError\u001b[0m: No module named 'pandas'"
     ]
    }
   ],
   "source": [
    "#ライブラリ\n",
    "import pandas as pd\n",
    "import re\n",
    "import nltk\n",
    "import gc"
   ]
  },
  {
   "cell_type": "code",
   "execution_count": 2,
   "id": "9b0b85a5-2e0d-4ab5-aee7-7449bba35cdc",
   "metadata": {},
   "outputs": [
    {
     "name": "stderr",
     "output_type": "stream",
     "text": [
      "[nltk_data] Downloading package vader_lexicon to\n",
      "[nltk_data]     C:\\Users\\zxxxs\\AppData\\Roaming\\nltk_data...\n",
      "[nltk_data]   Package vader_lexicon is already up-to-date!\n",
      "[nltk_data] Downloading package stopwords to\n",
      "[nltk_data]     C:\\Users\\zxxxs\\AppData\\Roaming\\nltk_data...\n",
      "[nltk_data]   Package stopwords is already up-to-date!\n"
     ]
    }
   ],
   "source": [
    "nltk.download('vader_lexicon')\n",
    "from nltk.sentiment.vader import SentimentIntensityAnalyzer\n",
    "vader_analyzer = SentimentIntensityAnalyzer()\n",
    "\n",
    "nltk.download('stopwords')\n",
    "from nltk.corpus import stopwords\n",
    "sw = stopwords.words('english') "
   ]
  },
  {
   "cell_type": "code",
   "execution_count": 3,
   "id": "d3b059f5-c88d-489f-9e8f-f22c0bb5f29d",
   "metadata": {},
   "outputs": [],
   "source": [
    "#テキスト前処理\n",
    "def clean_up_tweet(txt):\n",
    "    # メンション削除\n",
    "    txt = re.sub(r'@[A-Za-z0-9_]+', '', txt)\n",
    "    # URL削除\n",
    "    txt = re.sub(r'https?:\\/\\/[A-Za-z0-9\\.\\/]+', '', txt)\n",
    "    # ハッシュタグ削除\n",
    "    txt = re.sub(r'#', '', txt)\n",
    "    # ticker symbolの削除\n",
    "    txt = re.sub(r'\\$[A-Za-z0-9]*', '', txt)\n",
    "    # 全角スペース、タブ、改行削除\n",
    "    txt = re.sub(r'[\\u3000\\t\\n]', '', txt)\n",
    "    # 小文字に統一\n",
    "    txt = txt.lower()  \n",
    "    # 数値を0に置換\n",
    "    #txt = re.sub(r'[0-9]', '0', txt) \n",
    "    # ストップワードの削除\n",
    "    txt = ' '.join([word for word in txt.split() if word not in sw])\n",
    "    \n",
    "    return txt"
   ]
  },
  {
   "cell_type": "code",
   "execution_count": 4,
   "id": "97c428c9-94d3-4e34-bad8-5c31d8998f73",
   "metadata": {},
   "outputs": [],
   "source": [
    "# VADER感情分析\n",
    "def get_text_polarity(txt):\n",
    "    return vader_analyzer.polarity_scores(txt)\n",
    "\n",
    "# 感情値[-1,1]取得\n",
    "def get_compound(score):\n",
    "    return score.get(\"compound\")\n",
    "\n",
    "# 感情出力\n",
    "def get_sentiment(com):\n",
    "    if com <= -0.05:\n",
    "        return \"Negative\"\n",
    "    elif com >= 0.05:\n",
    "        return \"Positive\"\n",
    "    else:\n",
    "        return \"Neutral\""
   ]
  },
  {
   "cell_type": "code",
   "execution_count": null,
   "id": "800ec038-3ddd-4f35-9ff2-ed5025be5037",
   "metadata": {},
   "outputs": [],
   "source": [
    "# main\n",
    "\n",
    "print(\"1回目\")\n",
    "df = pd.read_csv(f'tweet-of-btc/2021-01_tlist.csv', usecols = ['Tweet','created_at'])\n",
    "print(\"read\")\n",
    "df['Tweet'] = df['Tweet'].apply(clean_up_tweet)\n",
    "print(\"clean\")\n",
    "df['Score'] = df['Tweet'].apply(get_text_polarity)\n",
    "print(\"polarity\")\n",
    "df['Compound'] = df['Score'].apply(get_compound)\n",
    "print(\"Compound\")\n",
    "df['Sentiment'] = df['Compound'].apply(get_sentiment)\n",
    "print('Sentiment')\n",
    "\n",
    "# csv出力\n",
    "df.to_csv('tweet-sentiment/2021-01_slist.csv', index=False, columns =['Compound','Sentiment','created_at'])\n",
    "print(\"CSV出力\")\n",
    "\n",
    "# メモリ開放\n",
    "del df\n",
    "gc.collect()"
   ]
  },
  {
   "cell_type": "code",
   "execution_count": null,
   "id": "96c73308-d44e-47c8-9f0a-2630c30d975d",
   "metadata": {},
   "outputs": [],
   "source": [
    "# main\n",
    "\n",
    "print(\"2回目\")\n",
    "df = pd.read_csv(f'tweet-of-btc/2021-02_tlist.csv', usecols = ['Tweet','created_at'])\n",
    "print(\"read\")\n",
    "df['Tweet'] = df['Tweet'].apply(clean_up_tweet)\n",
    "print(\"clean\")\n",
    "df['Score'] = df['Tweet'].apply(get_text_polarity)\n",
    "print(\"polarity\")\n",
    "df['Compound'] = df['Score'].apply(get_compound)\n",
    "print(\"Compound\")\n",
    "df['Sentiment'] = df['Compound'].apply(get_sentiment)\n",
    "print('Sentiment')\n",
    "\n",
    "# csv出力\n",
    "df.to_csv('tweet-sentiment/2021-02_slist_Number0.csv', index=False, columns =['Compound','Sentiment','created_at'])\n",
    "print(\"CSV出力\")\n",
    "\n",
    "# メモリ開放\n",
    "del df\n",
    "gc.collect()"
   ]
  },
  {
   "cell_type": "code",
   "execution_count": null,
   "id": "e57026a9-89d4-43eb-8fcb-74bf6ce5b5ac",
   "metadata": {},
   "outputs": [],
   "source": [
    "# main\n",
    "\n",
    "print(\"3回目\")\n",
    "df = pd.read_csv(f'tweet-of-btc/2021-03_tlist.csv', usecols = ['Tweet','created_at'])\n",
    "print(\"read\")\n",
    "df['Tweet'] = df['Tweet'].apply(clean_up_tweet)\n",
    "print(\"clean\")\n",
    "df['Score'] = df['Tweet'].apply(get_text_polarity)\n",
    "print(\"polarity\")\n",
    "df['Compound'] = df['Score'].apply(get_compound)\n",
    "print(\"Compound\")\n",
    "df['Sentiment'] = df['Compound'].apply(get_sentiment)\n",
    "print('Sentiment')\n",
    "\n",
    "# csv出力\n",
    "df.to_csv('tweet-sentiment/2021-03_slist_Number0.csv', index=False, columns =['Compound','Sentiment','created_at'])\n",
    "print(\"CSV出力\")\n",
    "\n",
    "# メモリ開放\n",
    "del df\n",
    "gc.collect()"
   ]
  },
  {
   "cell_type": "code",
   "execution_count": null,
   "id": "65332b91-1eb6-4387-a62c-19c340f79058",
   "metadata": {},
   "outputs": [],
   "source": [
    "# main\n",
    "\n",
    "print(\"4回目\")\n",
    "df = pd.read_csv(f'tweet-of-btc/2021-04_tlist.csv', usecols = ['Tweet','created_at'])\n",
    "print(\"read\")\n",
    "df['Tweet'] = df['Tweet'].apply(clean_up_tweet)\n",
    "print(\"clean\")\n",
    "df['Score'] = df['Tweet'].apply(get_text_polarity)\n",
    "print(\"polarity\")\n",
    "df['Compound'] = df['Score'].apply(get_compound)\n",
    "print(\"Compound\")\n",
    "df['Sentiment'] = df['Compound'].apply(get_sentiment)\n",
    "print('Sentiment')\n",
    "\n",
    "# csv出力\n",
    "df.to_csv('tweet-sentiment/2021-04_slist_Number0.csv', index=False, columns =['Compound','Sentiment','created_at'])\n",
    "print(\"CSV出力\")\n",
    "\n",
    "# メモリ開放\n",
    "del df\n",
    "gc.collect()"
   ]
  },
  {
   "cell_type": "code",
   "execution_count": null,
   "id": "2f49946c-60dd-4248-b16b-33cd96b1cc78",
   "metadata": {},
   "outputs": [],
   "source": [
    "# main\n",
    "\n",
    "print(\"5回目\")\n",
    "df = pd.read_csv(f'tweet-of-btc/2021-05_tlist.csv', usecols = ['Tweet','created_at'])\n",
    "print(\"read\")\n",
    "df['Tweet'] = df['Tweet'].apply(clean_up_tweet)\n",
    "print(\"clean\")\n",
    "df['Score'] = df['Tweet'].apply(get_text_polarity)\n",
    "print(\"polarity\")\n",
    "df['Compound'] = df['Score'].apply(get_compound)\n",
    "print(\"Compound\")\n",
    "df['Sentiment'] = df['Compound'].apply(get_sentiment)\n",
    "print('Sentiment')\n",
    "\n",
    "# csv出力\n",
    "df.to_csv('tweet-sentiment/2021-05_slist_Number0.csv', index=False, columns =['Compound','Sentiment','created_at'])\n",
    "print(\"CSV出力\")\n",
    "# メモリ開放\n",
    "del df\n",
    "gc.collect()"
   ]
  },
  {
   "cell_type": "code",
   "execution_count": null,
   "id": "036b407a-c352-4ddf-b543-4b1d2a5fd796",
   "metadata": {},
   "outputs": [],
   "source": [
    "# main\n",
    "\n",
    "print(\"6回目\")\n",
    "df = pd.read_csv(f'tweet-of-btc/2021-06_tlist.csv', usecols = ['Tweet','created_at'])\n",
    "print(\"read\")\n",
    "df['Tweet'] = df['Tweet'].apply(clean_up_tweet)\n",
    "print(\"clean\")\n",
    "df['Score'] = df['Tweet'].apply(get_text_polarity)\n",
    "print(\"polarity\")\n",
    "df['Compound'] = df['Score'].apply(get_compound)\n",
    "print(\"Compound\")\n",
    "df['Sentiment'] = df['Compound'].apply(get_sentiment)\n",
    "print('Sentiment')\n",
    "\n",
    "# csv出力\n",
    "df.to_csv('tweet-sentiment/2021-06_slist_Number0.csv', index=False, columns =['Compound','Sentiment','created_at'])\n",
    "print(\"CSV出力\")\n",
    "\n",
    "# メモリ開放\n",
    "del df\n",
    "gc.collect()"
   ]
  },
  {
   "cell_type": "code",
   "execution_count": null,
   "id": "88586c25-28d3-4400-873f-af8247024dbe",
   "metadata": {},
   "outputs": [],
   "source": [
    "# main\n",
    "\n",
    "print(\"6回目\")\n",
    "df = pd.read_csv(f'tweet-of-btc/2021-07_tlist.csv', usecols = ['Tweet','created_at'])\n",
    "print(\"read\")\n",
    "df['Tweet'] = df['Tweet'].apply(clean_up_tweet)\n",
    "print(\"clean\")\n",
    "df['Score'] = df['Tweet'].apply(get_text_polarity)\n",
    "print(\"polarity\")\n",
    "df['Compound'] = df['Score'].apply(get_compound)\n",
    "print(\"Compound\")\n",
    "df['Sentiment'] = df['Compound'].apply(get_sentiment)\n",
    "print('Sentiment')\n",
    "\n",
    "# csv出力\n",
    "df.to_csv('tweet-sentiment/2021-06_slist_Number0.csv', index=False, columns =['Compound','Sentiment','created_at'])\n",
    "print(\"CSV出力\")\n",
    "\n",
    "# メモリ開放\n",
    "del df\n",
    "gc.collect()"
   ]
  },
  {
   "cell_type": "code",
   "execution_count": 5,
   "id": "f71451bd-2ac0-48b0-b4e2-c80d64116229",
   "metadata": {},
   "outputs": [
    {
     "name": "stdout",
     "output_type": "stream",
     "text": [
      "7回目\n",
      "read\n",
      "clean\n",
      "polarity\n",
      "Compound\n",
      "Sentiment\n",
      "CSV出力\n"
     ]
    },
    {
     "data": {
      "text/plain": [
       "0"
      ]
     },
     "execution_count": 5,
     "metadata": {},
     "output_type": "execute_result"
    }
   ],
   "source": [
    "# main\n",
    "\n",
    "print(\"7回目\")\n",
    "df = pd.read_csv(f'tweet-of-btc/2021-07_tlist.csv', usecols = ['Tweet','created_at'])\n",
    "print(\"read\")\n",
    "df['Tweet'] = df['Tweet'].apply(clean_up_tweet)\n",
    "print(\"clean\")\n",
    "df['Score'] = df['Tweet'].apply(get_text_polarity)\n",
    "print(\"polarity\")\n",
    "df['Compound'] = df['Score'].apply(get_compound)\n",
    "print(\"Compound\")\n",
    "df['Sentiment'] = df['Compound'].apply(get_sentiment)\n",
    "print('Sentiment')\n",
    "\n",
    "# csv出力\n",
    "df.to_csv('tweet-sentiment/2021-07_slist.csv', index=False, columns =['Compound','Sentiment','created_at'])\n",
    "print(\"CSV出力\")\n",
    "\n",
    "# メモリ開放\n",
    "del df\n",
    "gc.collect()"
   ]
  },
  {
   "cell_type": "code",
   "execution_count": null,
   "id": "6b8c4655-0dbc-4f44-a386-33e4857b51ba",
   "metadata": {},
   "outputs": [],
   "source": []
  }
 ],
 "metadata": {
  "kernelspec": {
   "display_name": "Python 3 (ipykernel)",
   "language": "python",
   "name": "python3"
  },
  "language_info": {
   "codemirror_mode": {
    "name": "ipython",
    "version": 3
   },
   "file_extension": ".py",
   "mimetype": "text/x-python",
   "name": "python",
   "nbconvert_exporter": "python",
   "pygments_lexer": "ipython3",
   "version": "3.9.7"
  }
 },
 "nbformat": 4,
 "nbformat_minor": 5
}
