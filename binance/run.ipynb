{
 "cells": [
  {
   "cell_type": "code",
   "execution_count": 9,
   "id": "0107bdff-9ca7-4af9-9a46-9d88c12d6ac9",
   "metadata": {},
   "outputs": [
    {
     "ename": "NameError",
     "evalue": "name 'TRADING_TYPE' is not defined",
     "output_type": "error",
     "traceback": [
      "\u001b[1;31m---------------------------------------------------------------------------\u001b[0m",
      "\u001b[1;31mNameError\u001b[0m                                 Traceback (most recent call last)",
      "\u001b[1;32m~\\study\\t_s_c\\binance\\download-kline.py\u001b[0m in \u001b[0;36m<module>\u001b[1;34m\u001b[0m\n\u001b[0;32m     91\u001b[0m \u001b[1;33m\u001b[0m\u001b[0m\n\u001b[0;32m     92\u001b[0m \u001b[1;32mif\u001b[0m \u001b[0m__name__\u001b[0m \u001b[1;33m==\u001b[0m \u001b[1;34m\"__main__\"\u001b[0m\u001b[1;33m:\u001b[0m\u001b[1;33m\u001b[0m\u001b[1;33m\u001b[0m\u001b[0m\n\u001b[1;32m---> 93\u001b[1;33m     \u001b[0mparser\u001b[0m \u001b[1;33m=\u001b[0m \u001b[0mget_parser\u001b[0m\u001b[1;33m(\u001b[0m\u001b[1;34m'klines'\u001b[0m\u001b[1;33m)\u001b[0m\u001b[1;33m\u001b[0m\u001b[1;33m\u001b[0m\u001b[0m\n\u001b[0m\u001b[0;32m     94\u001b[0m     \u001b[0margs\u001b[0m \u001b[1;33m=\u001b[0m \u001b[0mparser\u001b[0m\u001b[1;33m.\u001b[0m\u001b[0mparse_args\u001b[0m\u001b[1;33m(\u001b[0m\u001b[0msys\u001b[0m\u001b[1;33m.\u001b[0m\u001b[0margv\u001b[0m\u001b[1;33m[\u001b[0m\u001b[1;36m1\u001b[0m\u001b[1;33m:\u001b[0m\u001b[1;33m]\u001b[0m\u001b[1;33m)\u001b[0m\u001b[1;33m\u001b[0m\u001b[1;33m\u001b[0m\u001b[0m\n\u001b[0;32m     95\u001b[0m \u001b[1;33m\u001b[0m\u001b[0m\n",
      "\u001b[1;32m~\\study\\t_s_c\\binance\\utility.py\u001b[0m in \u001b[0;36mget_parser\u001b[1;34m(parser_type)\u001b[0m\n\u001b[0;32m    137\u001b[0m       help='1 to download checksum file, default 0')\n\u001b[0;32m    138\u001b[0m   parser.add_argument(\n\u001b[1;32m--> 139\u001b[1;33m       \u001b[1;34m'-t'\u001b[0m\u001b[1;33m,\u001b[0m \u001b[0mdest\u001b[0m\u001b[1;33m=\u001b[0m\u001b[1;34m'type'\u001b[0m\u001b[1;33m,\u001b[0m \u001b[0mdefault\u001b[0m\u001b[1;33m=\u001b[0m\u001b[1;34m'spot'\u001b[0m\u001b[1;33m,\u001b[0m \u001b[0mchoices\u001b[0m\u001b[1;33m=\u001b[0m\u001b[0mTRADING_TYPE\u001b[0m\u001b[1;33m,\u001b[0m\u001b[1;33m\u001b[0m\u001b[1;33m\u001b[0m\u001b[0m\n\u001b[0m\u001b[0;32m    140\u001b[0m       help='Valid trading types: {}'.format(TRADING_TYPE))\n\u001b[0;32m    141\u001b[0m \u001b[1;33m\u001b[0m\u001b[0m\n",
      "\u001b[1;31mNameError\u001b[0m: name 'TRADING_TYPE' is not defined"
     ]
    }
   ],
   "source": [
    "%run download-kline.py -s BTCUSDT -i 1d -startDate 2021-01-01 -endDate 2021-01-31 "
   ]
  },
  {
   "cell_type": "code",
   "execution_count": 8,
   "id": "ca9840c3-9976-4467-8f19-55ffb2b84287",
   "metadata": {},
   "outputs": [
    {
     "ename": "SyntaxError",
     "evalue": "invalid syntax (<ipython-input-8-d19fb821d051>, line 13)",
     "output_type": "error",
     "traceback": [
      "\u001b[1;36m  File \u001b[1;32m\"<ipython-input-8-d19fb821d051>\"\u001b[1;36m, line \u001b[1;32m13\u001b[0m\n\u001b[1;33m    response=(wget --server-response -q ${url} 2>&1 | awk 'NR==1{print $2}')\u001b[0m\n\u001b[1;37m                                        ^\u001b[0m\n\u001b[1;31mSyntaxError\u001b[0m\u001b[1;31m:\u001b[0m invalid syntax\n"
     ]
    }
   ],
   "source": [
    "symbols=(\"BTCUSDT\") # add symbols here to download\n",
    "intervals=(\"5m\" \"15m\" \"30m\" \"1h\" \"4h\" \"1d\")\n",
    "years=(\"2021\")\n",
    "months=(1 2 3 4 5 6)\n",
    "\n",
    "baseurl=\"https://data.binance.vision/data/spot/monthly/klines\"\n",
    "\n",
    "for symbol in ${symbols[@]}; do\n",
    "  for interval in ${intervals[@]}; do\n",
    "    for year in ${years[@]}; do\n",
    "      for month in ${months[@]}; do\n",
    "        url=\"${baseurl}/${symbol}/${interval}/${symbol}-${interval}-${year}-${month}.zip\"\n",
    "        response=$(wget --server-response -q ${url} 2>&1 | awk 'NR==1{print $2}')\n",
    "        if [ ${response} == '403' ]; then\n",
    "          echo \"File not exist: ${url}\" \n",
    "        else\n",
    "          echo \"downloaded: ${url}\"\n",
    "        fi\n",
    "      done\n",
    "    done\n",
    "  done\n",
    "done  "
   ]
  },
  {
   "cell_type": "code",
   "execution_count": null,
   "id": "ea9dced8-bb15-4023-92cb-c06c234a4956",
   "metadata": {},
   "outputs": [],
   "source": []
  }
 ],
 "metadata": {
  "kernelspec": {
   "display_name": "Python 3",
   "language": "python",
   "name": "python3"
  },
  "language_info": {
   "codemirror_mode": {
    "name": "ipython",
    "version": 3
   },
   "file_extension": ".py",
   "mimetype": "text/x-python",
   "name": "python",
   "nbconvert_exporter": "python",
   "pygments_lexer": "ipython3",
   "version": "3.8.8"
  }
 },
 "nbformat": 4,
 "nbformat_minor": 5
}
