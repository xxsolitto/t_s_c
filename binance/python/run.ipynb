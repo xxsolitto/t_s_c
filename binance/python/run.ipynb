{
 "cells": [
  {
   "cell_type": "code",
   "execution_count": 3,
   "id": "0107bdff-9ca7-4af9-9a46-9d88c12d6ac9",
   "metadata": {},
   "outputs": [
    {
     "name": "stdout",
     "output_type": "stream",
     "text": [
      "Found 1 symbols\n",
      "[1/1] - start download monthly BTCUSDT klines \n",
      "\n",
      "file already exists! C:\\Users\\zxxxs\\study\\t_s_c\\binance\\python\\data/spot/monthly/klines/BTCUSDT/1d/2021-07-01_2021-07-31\\BTCUSDT-1d-2021-07.zip\n",
      "Found 1 symbols\n",
      "[1/1] - start download daily BTCUSDT klines \n",
      "Found 1 symbols\n",
      "[1/1] - start download monthly BTCUSDT klines \n",
      "\n",
      "File Download: C:\\Users\\zxxxs\\study\\t_s_c\\binance\\python\\data/spot/monthly/klines/BTCUSDT/12h/2021-07-01_2021-07-31\\BTCUSDT-12h-2021-07.zip\n",
      "[##################################################]Found 1 symbols\n",
      "[1/1] - start download daily BTCUSDT klines \n",
      "Found 1 symbols\n",
      "[1/1] - start download monthly BTCUSDT klines \n",
      "\n",
      "File Download: C:\\Users\\zxxxs\\study\\t_s_c\\binance\\python\\data/spot/monthly/klines/BTCUSDT/4h/2021-07-01_2021-07-31\\BTCUSDT-4h-2021-07.zip\n",
      "[##################################################]Found 1 symbols\n",
      "[1/1] - start download daily BTCUSDT klines \n",
      "Found 1 symbols\n",
      "[1/1] - start download monthly BTCUSDT klines \n",
      "\n",
      "File Download: C:\\Users\\zxxxs\\study\\t_s_c\\binance\\python\\data/spot/monthly/klines/BTCUSDT/1h/2021-07-01_2021-07-31\\BTCUSDT-1h-2021-07.zip\n",
      "[##################################################]Found 1 symbols\n",
      "[1/1] - start download daily BTCUSDT klines \n",
      "Found 1 symbols\n",
      "[1/1] - start download monthly BTCUSDT klines \n",
      "\n",
      "File Download: C:\\Users\\zxxxs\\study\\t_s_c\\binance\\python\\data/spot/monthly/klines/BTCUSDT/30m/2021-07-01_2021-07-31\\BTCUSDT-30m-2021-07.zip\n",
      "[##################################################]Found 1 symbols\n",
      "[1/1] - start download daily BTCUSDT klines \n",
      "Found 1 symbols\n",
      "[1/1] - start download monthly BTCUSDT klines \n",
      "\n",
      "File Download: C:\\Users\\zxxxs\\study\\t_s_c\\binance\\python\\data/spot/monthly/klines/BTCUSDT/15m/2021-07-01_2021-07-31\\BTCUSDT-15m-2021-07.zip\n",
      "[##################################################]Found 1 symbols\n",
      "[1/1] - start download daily BTCUSDT klines \n",
      "Found 1 symbols\n",
      "[1/1] - start download monthly BTCUSDT klines \n",
      "\n",
      "File Download: C:\\Users\\zxxxs\\study\\t_s_c\\binance\\python\\data/spot/monthly/klines/BTCUSDT/5m/2021-07-01_2021-07-31\\BTCUSDT-5m-2021-07.zip\n",
      "[##################################################]Found 1 symbols\n",
      "[1/1] - start download daily BTCUSDT klines \n"
     ]
    }
   ],
   "source": [
    "%run download-kline.py -s BTCUSDT -i 1d -startDate 2021-07-01 -endDate 2021-07-31\n",
    "%run download-kline.py -s BTCUSDT -i 12h -startDate 2021-07-01 -endDate 2021-07-31\n",
    "%run download-kline.py -s BTCUSDT -i 4h -startDate 2021-07-01 -endDate 2021-07-31\n",
    "%run download-kline.py -s BTCUSDT -i 1h -startDate 2021-07-01 -endDate 2021-07-31\n",
    "%run download-kline.py -s BTCUSDT -i 30m -startDate 2021-07-01 -endDate 2021-07-31\n",
    "%run download-kline.py -s BTCUSDT -i 15m -startDate 2021-07-01 -endDate 2021-07-31\n",
    "%run download-kline.py -s BTCUSDT -i 5m -startDate 2021-07-01 -endDate 2021-07-31"
   ]
  },
  {
   "cell_type": "code",
   "execution_count": null,
   "id": "94bd9ac9-6cee-4815-bd11-b9d4e516bfa6",
   "metadata": {},
   "outputs": [],
   "source": []
  }
 ],
 "metadata": {
  "kernelspec": {
   "display_name": "Python 3",
   "language": "python",
   "name": "python3"
  },
  "language_info": {
   "codemirror_mode": {
    "name": "ipython",
    "version": 3
   },
   "file_extension": ".py",
   "mimetype": "text/x-python",
   "name": "python",
   "nbconvert_exporter": "python",
   "pygments_lexer": "ipython3",
   "version": "3.8.8"
  }
 },
 "nbformat": 4,
 "nbformat_minor": 5
}
