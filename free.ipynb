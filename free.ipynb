{
 "cells": [
  {
   "cell_type": "code",
   "execution_count": null,
   "id": "fdb5fe80-e688-4eef-a240-c1c8a6495fe0",
   "metadata": {
    "tags": []
   },
   "outputs": [],
   "source": [
    "import tweepy\n",
    "from twarc import Twarc2, expansions\n",
    "from wordcloud import WordCloud\n",
    "import pandas as pd\n",
    "import numpy as np\n",
    "import re\n",
    "import matplotlib.pyplot as plt\n",
    "import nltk\n",
    "from pylab import rcParams\n",
    "rcParams['figure.figsize'] = 12, 8\n",
    "from nltk.stem.porter import PorterStemmer as PS\n",
    "import time\n",
    "import schedule\n",
    "import datetime"
   ]
  },
  {
   "cell_type": "code",
   "execution_count": null,
   "id": "50361529-4337-41a5-b4b2-f3e8ad374739",
   "metadata": {},
   "outputs": [],
   "source": [
    "config = pd.read_csv(\"./config_academic.csv\")"
   ]
  },
  {
   "cell_type": "code",
   "execution_count": null,
   "id": "3f22723c-e51b-407f-a5b8-53499bb7b645",
   "metadata": {},
   "outputs": [],
   "source": [
    "# Twitter API config\n",
    "twitterApiKey = config['twitterApiKey'][0]\n",
    "twitterApiSecret = config['twitterApiSecret'][0]\n",
    "twitterApiAccessToken = config['twitterApiAccessToken'][0]\n",
    "twitterApiAccessTokenSecret = config['twitterApiAccessTokenSecret'][0]\n",
    "twitterAPIBearerToken=config['twitterApiBearerToken'][0]"
   ]
  },
  {
   "cell_type": "code",
   "execution_count": null,
   "id": "a5588e72-1b9c-4aaa-9114-b862d4657081",
   "metadata": {},
   "outputs": [],
   "source": [
    "# Authenticate\n",
    "auth = tweepy.OAuthHandler(twitterApiKey, twitterApiSecret)\n",
    "auth.set_access_token(twitterApiAccessToken, twitterApiAccessTokenSecret)\n",
    "client = tweepy.Client(auth, wait_on_rate_limit = True)"
   ]
  },
  {
   "cell_type": "code",
   "execution_count": null,
   "id": "d3bd6f93-8e4b-441a-9887-905300878bb9",
   "metadata": {},
   "outputs": [],
   "source": [
    "# キーワードからツイートを取得\n",
    "search_word='btc'\n",
    "env='sentienv'\n",
    "since='202105010000'\n",
    "until='202105020000'\n",
    "numTweets=500000\n",
    "\n",
    "tweets = tweepy.Cursor(api.search_full_archive,  \n",
    "                        query=search_word,\n",
    "                        environment_name=env,\n",
    "                        fromDate=since,\n",
    "                        toDate=until\n",
    "                        ).items(numTweets);\n"
   ]
  },
  {
   "cell_type": "code",
   "execution_count": null,
   "id": "25e5ea6e-a718-41f3-8b3f-225116663ad3",
   "metadata": {},
   "outputs": [],
   "source": [
    "#ツイートの配列\n",
    "t_data = []\n",
    "for tweet in tweets:\n",
    "    t_data.append([tweet.user.name,'@'+tweet.user.screen_name,tweet.user.friends_count,tweet.user.followers_count,tweet.text.replace('\\n',''),tweet.favorite_count,tweet.retweet_count,tweet.created_at])\n",
    "    \n",
    "print(\"{}件収集\\n\".format(len(t_data)))    "
   ]
  },
  {
   "cell_type": "code",
   "execution_count": null,
   "id": "1be10473-89b1-43b8-a4c2-8c0e7114d7bb",
   "metadata": {},
   "outputs": [],
   "source": [
    "df = pd.DataFrame(data=t_data, columns=['Name','User Name','Following','Followers','Tweet','Favorite','RT','created at'])\n",
    "df.head(10)"
   ]
  },
  {
   "cell_type": "code",
   "execution_count": null,
   "id": "702c355b-7df0-482f-8cbe-9c617078e298",
   "metadata": {},
   "outputs": [],
   "source": [
    "df.tail(10)"
   ]
  },
  {
   "cell_type": "code",
   "execution_count": null,
   "id": "5b71ca6d-b2a8-430e-abb0-a2fdc115cde4",
   "metadata": {},
   "outputs": [],
   "source": [
    "#中身の確認\n",
    "for tweet in tweepy.Cursor(api.search_full_archive, query='緊急事態宣言',environment_name=env,).items(10):\n",
    "    print(tweet)\n"
   ]
  },
  {
   "cell_type": "code",
   "execution_count": null,
   "id": "5269eea5-0c74-4727-8e5f-2c5addb88518",
   "metadata": {},
   "outputs": [],
   "source": [
    "df.to_csv(\"test.csv\")"
   ]
  },
  {
   "cell_type": "code",
   "execution_count": null,
   "id": "0032ec5a-1d71-4faf-a1cb-696b3c235730",
   "metadata": {},
   "outputs": [],
   "source": [
    "#lemmatization\n",
    "import stanza\n",
    "stanza.download('en') # download English model\n",
    "nlp = stanza.Pipeline('en') # initialize English neural pipeline\n",
    "doc = nlp(\"Barack Obama was born in Hawaii.\") # run annotation over a sentence"
   ]
  },
  {
   "cell_type": "code",
   "execution_count": null,
   "id": "24b605f0-dedf-465b-bb24-dd62b23c5c94",
   "metadata": {},
   "outputs": [],
   "source": [
    "import stanza\n",
    "\n",
    "nlp = stanza.Pipeline(lang='en', processors='tokenize,mwt,pos,lemma')\n",
    "doc = nlp('Her bags are better than his.')\n",
    "print(*[f'word: {word.text+\" \"}\\tlemma: {word.lemma}' for sent in doc.sentences for word in sent.words], sep='\\n')"
   ]
  },
  {
   "cell_type": "code",
   "execution_count": null,
   "id": "b1b7cdde-f8e0-4b2e-b55c-b2000edb8890",
   "metadata": {},
   "outputs": [],
   "source": [
    "#lemmatization\n",
    "nlp = stanza.Pipeline(lang='en', processors='tokenize,mwt,pos,lemma')\n",
    "\n",
    "def lemma(txt):\n",
    "    s = ''\n",
    "    doc = nlp(txt)\n",
    "    \n",
    "    for sent in doc.sentences:\n",
    "        for word in sent.words:\n",
    "            s += word.lemma + ' '\n",
    "    \n",
    "    return s"
   ]
  },
  {
   "cell_type": "code",
   "execution_count": null,
   "id": "5cc24721-0cfe-4637-801a-b8e3ae6e06b7",
   "metadata": {},
   "outputs": [],
   "source": [
    "df['exTweet'] = df['Tweet'].apply(lemma)\n",
    "df.to_csv(\"test.csv\")\n",
    "df.head(10)"
   ]
  },
  {
   "cell_type": "code",
   "execution_count": null,
   "id": "63b12a4b-83f3-4757-87c5-55fc1c1da35c",
   "metadata": {},
   "outputs": [],
   "source": [
    "import time\n",
    "import schedule\n",
    "import datetime\n",
    "\n",
    "def job():\n",
    "    #検索ワード、条件\n",
    "    s='btc min_faves:5 -filter:retweets'\n",
    "    \n",
    "    #5日前と4日前の時刻を取得\n",
    "    dt  = datetime.date.today()\n",
    "    dt5 = dt + datetime.timedelta(days=-5)\n",
    "    dt4 = dt + datetime.timedelta(days=-4)\n",
    "\n",
    "    tweets = tweepy.Cursor(api.search,  \n",
    "                           q=s,\n",
    "                           exclude_replies=True,\n",
    "                           tweet_mode='extended',\n",
    "                           lang = 'en',\n",
    "                           since= dt5,\n",
    "                           until= dt4,\n",
    "                          ).items(10);\n",
    "    \n",
    "    #ツイートのリスト\n",
    "    t_data = []\n",
    "    for tweet in tweets:\n",
    "        t_data.append([tweet.user.name,\n",
    "                       '@'+tweet.user.screen_name,\n",
    "                       tweet.user.friends_count,\n",
    "                       tweet.user.followers_count,\n",
    "                       tweet.full_text.replace('\\n',''),\n",
    "                       tweet.favorite_count,\n",
    "                       tweet.retweet_count,\n",
    "                       tweet.created_at])\n",
    "\n",
    "\n",
    "              \n",
    "    #処理前ツイート出力\n",
    "    df = pd.DataFrame(data=t_data, columns=['Name','User Name','Following','Followers','Tweet','Favorite','RT','created at'])\n",
    "    \n",
    "    df.to_csv(f'./tweet-of-btc/{dt5}-{dt4}.csv')\n",
    "\n",
    "    #件数確認\n",
    "    print('{} ~ {}：{}件\\n'.format(dt5,dt4,len(t_data)))"
   ]
  },
  {
   "cell_type": "code",
   "execution_count": null,
   "id": "4615eccf-ce46-443b-9654-1f08a4974199",
   "metadata": {},
   "outputs": [],
   "source": [
    "df = pd.DataFrame(columns = ['収集時刻', '区間(start)','区間(end)','収集件数'])\n",
    "df.to_csv('./tweet-of-btc/assembling-log.csv',index=False)"
   ]
  },
  {
   "cell_type": "code",
   "execution_count": null,
   "id": "fd7299f8-d17e-4bb4-b509-e3dd0d4500e0",
   "metadata": {},
   "outputs": [],
   "source": [
    "# t_data, u_data\n",
    "df1=pd.read_csv(f'./tweet-of-btc/2021-01_tlist.csv')\n",
    "df2=pd.read_csv(f'./tweet-of-btc/2021-01_ulist.csv')\n",
    "\n",
    "# t_data × u_data\n",
    "df3 = pd.merge(df2 ,df1, on='author_id')\n",
    "\n",
    "# ツイート時刻順にソート\n",
    "df3['created_at'] = pd.to_datetime(df3['created_at'], infer_datetime_format= True)\n",
    "sorted_df = df3.sort_values(by = 'created_at', ascending = True, inplace = True) \n",
    "df3.to_csv('./tweet-of-btc/2021-01.csv', index=False)"
   ]
  },
  {
   "cell_type": "code",
   "execution_count": null,
   "id": "70c3dbc2-339c-4981-af20-8765a648ede8",
   "metadata": {},
   "outputs": [],
   "source": [
    "# csvデータをpandasデータフレームに変換\n",
    "transaction = pd.read_csv('transaction.csv')\n",
    "transaction_detail = pd.read_csv('transaction_detail.csv')\n",
    " \n",
    "# マージ関数\n",
    "join_data = pd.merge(transaction_detail,\n",
    "    transaction[[\"u_id\", \"payment_date\", \"customer_id\"]],\n",
    "    on=\"u_id\", how=\"left\")"
   ]
  },
  {
   "cell_type": "code",
   "execution_count": null,
   "id": "6cf564e8-3a56-4fe0-9339-865aa7a9270b",
   "metadata": {},
   "outputs": [],
   "source": [
    "import time\n",
    "print(\"sleep\")\n",
    "time.sleep(5) \n",
    "print(\"wakeup\")"
   ]
  },
  {
   "cell_type": "code",
   "execution_count": null,
   "id": "5f5b7900-3af0-4016-bddb-97057dc7bd85",
   "metadata": {},
   "outputs": [],
   "source": [
    "import os\n",
    "print(\"stop\")\n",
    "os._exit(00)\n",
    "print(\"restart\")"
   ]
  },
  {
   "cell_type": "code",
   "execution_count": 4,
   "id": "f0da3040-6945-499b-b57d-0bb15df0a63d",
   "metadata": {},
   "outputs": [
    {
     "data": {
      "text/plain": [
       "収集時刻         2021-09-04 19:42:05.9046782021-09-05 01:57:17....\n",
       "区間(start)    2021-01-01T00:00:00Z2021-02-01T00:00:00Z2021-0...\n",
       "区間(end)      2021-02-01T00:00:00Z2021-03-01T00:00:00Z2021-0...\n",
       "収集件数                                                  11269778\n",
       "dtype: object"
      ]
     },
     "execution_count": 4,
     "metadata": {},
     "output_type": "execute_result"
    }
   ],
   "source": [
    "df = pd.read_csv('./tweet-of-btc/assembling-log.csv')\n",
    "df.sum()"
   ]
  },
  {
   "cell_type": "code",
   "execution_count": null,
   "id": "ab8334a9-8ef1-4f9e-b997-b322b8b64479",
   "metadata": {},
   "outputs": [],
   "source": []
  },
  {
   "cell_type": "code",
   "execution_count": null,
   "id": "6e7af7d1-0e38-45f4-a037-adc4bf87fd00",
   "metadata": {},
   "outputs": [],
   "source": []
  },
  {
   "cell_type": "code",
   "execution_count": null,
   "id": "3fc5c7a3-56a3-4776-be03-fc818bbde5a9",
   "metadata": {},
   "outputs": [],
   "source": []
  },
  {
   "cell_type": "code",
   "execution_count": null,
   "id": "31526ce4-23b6-4461-a6d4-1dc10776bd4a",
   "metadata": {},
   "outputs": [],
   "source": []
  }
 ],
 "metadata": {
  "kernelspec": {
   "display_name": "Python 3",
   "language": "python",
   "name": "python3"
  },
  "language_info": {
   "codemirror_mode": {
    "name": "ipython",
    "version": 3
   },
   "file_extension": ".py",
   "mimetype": "text/x-python",
   "name": "python",
   "nbconvert_exporter": "python",
   "pygments_lexer": "ipython3",
   "version": "3.8.1"
  }
 },
 "nbformat": 4,
 "nbformat_minor": 5
}
