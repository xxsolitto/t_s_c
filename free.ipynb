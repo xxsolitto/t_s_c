{
 "cells": [
  {
   "cell_type": "code",
   "execution_count": null,
   "id": "fdb5fe80-e688-4eef-a240-c1c8a6495fe0",
   "metadata": {
    "tags": []
   },
   "outputs": [],
   "source": [
    "import tweepy\n",
    "from twarc import Twarc2, expansions\n",
    "from wordcloud import WordCloud\n",
    "import pandas as pd\n",
    "import numpy as np\n",
    "import re\n",
    "import matplotlib.pyplot as plt\n",
    "import nltk\n",
    "from pylab import rcParams\n",
    "rcParams['figure.figsize'] = 12, 8\n",
    "from nltk.stem.porter import PorterStemmer as PS\n",
    "import time\n",
    "import schedule\n",
    "import datetime"
   ]
  },
  {
   "cell_type": "code",
   "execution_count": null,
   "id": "50361529-4337-41a5-b4b2-f3e8ad374739",
   "metadata": {},
   "outputs": [],
   "source": [
    "config = pd.read_csv(\"./config_academic.csv\")"
   ]
  },
  {
   "cell_type": "code",
   "execution_count": null,
   "id": "3f22723c-e51b-407f-a5b8-53499bb7b645",
   "metadata": {},
   "outputs": [],
   "source": [
    "# Twitter API config\n",
    "twitterApiKey = config['twitterApiKey'][0]\n",
    "twitterApiSecret = config['twitterApiSecret'][0]\n",
    "twitterApiAccessToken = config['twitterApiAccessToken'][0]\n",
    "twitterApiAccessTokenSecret = config['twitterApiAccessTokenSecret'][0]\n",
    "twitterAPIBearerToken=config['twitterApiBearerToken'][0]"
   ]
  },
  {
   "cell_type": "code",
   "execution_count": null,
   "id": "a5588e72-1b9c-4aaa-9114-b862d4657081",
   "metadata": {},
   "outputs": [],
   "source": [
    "# Authenticate\n",
    "auth = tweepy.OAuthHandler(twitterApiKey, twitterApiSecret)\n",
    "auth.set_access_token(twitterApiAccessToken, twitterApiAccessTokenSecret)\n",
    "client = tweepy.Client(auth, wait_on_rate_limit = True)"
   ]
  },
  {
   "cell_type": "code",
   "execution_count": null,
   "id": "d3bd6f93-8e4b-441a-9887-905300878bb9",
   "metadata": {},
   "outputs": [],
   "source": [
    "# キーワードからツイートを取得\n",
    "search_word='btc'\n",
    "env='sentienv'\n",
    "since='202105010000'\n",
    "until='202105020000'\n",
    "numTweets=500000\n",
    "\n",
    "tweets = tweepy.Cursor(api.search_full_archive,  \n",
    "                        query=search_word,\n",
    "                        environment_name=env,\n",
    "                        fromDate=since,\n",
    "                        toDate=until\n",
    "                        ).items(numTweets);\n"
   ]
  },
  {
   "cell_type": "code",
   "execution_count": null,
   "id": "25e5ea6e-a718-41f3-8b3f-225116663ad3",
   "metadata": {},
   "outputs": [],
   "source": [
    "#ツイートの配列\n",
    "t_data = []\n",
    "for tweet in tweets:\n",
    "    t_data.append([tweet.user.name,'@'+tweet.user.screen_name,tweet.user.friends_count,tweet.user.followers_count,tweet.text.replace('\\n',''),tweet.favorite_count,tweet.retweet_count,tweet.created_at])\n",
    "    \n",
    "print(\"{}件収集\\n\".format(len(t_data)))    "
   ]
  },
  {
   "cell_type": "code",
   "execution_count": null,
   "id": "1be10473-89b1-43b8-a4c2-8c0e7114d7bb",
   "metadata": {},
   "outputs": [],
   "source": [
    "df = pd.DataFrame(data=t_data, columns=['Name','User Name','Following','Followers','Tweet','Favorite','RT','created at'])\n",
    "df.head(10)"
   ]
  },
  {
   "cell_type": "code",
   "execution_count": null,
   "id": "702c355b-7df0-482f-8cbe-9c617078e298",
   "metadata": {},
   "outputs": [],
   "source": [
    "df.tail(10)"
   ]
  },
  {
   "cell_type": "code",
   "execution_count": null,
   "id": "5b71ca6d-b2a8-430e-abb0-a2fdc115cde4",
   "metadata": {},
   "outputs": [],
   "source": [
    "#中身の確認\n",
    "for tweet in tweepy.Cursor(api.search_full_archive, query='緊急事態宣言',environment_name=env,).items(10):\n",
    "    print(tweet)\n"
   ]
  },
  {
   "cell_type": "code",
   "execution_count": null,
   "id": "5269eea5-0c74-4727-8e5f-2c5addb88518",
   "metadata": {},
   "outputs": [],
   "source": [
    "df.to_csv(\"test.csv\")"
   ]
  },
  {
   "cell_type": "code",
   "execution_count": null,
   "id": "0032ec5a-1d71-4faf-a1cb-696b3c235730",
   "metadata": {},
   "outputs": [],
   "source": [
    "#lemmatization\n",
    "import stanza\n",
    "stanza.download('en') # download English model\n",
    "nlp = stanza.Pipeline('en') # initialize English neural pipeline\n",
    "doc = nlp(\"Barack Obama was born in Hawaii.\") # run annotation over a sentence"
   ]
  },
  {
   "cell_type": "code",
   "execution_count": null,
   "id": "24b605f0-dedf-465b-bb24-dd62b23c5c94",
   "metadata": {},
   "outputs": [],
   "source": [
    "import stanza\n",
    "\n",
    "nlp = stanza.Pipeline(lang='en', processors='tokenize,mwt,pos,lemma')\n",
    "doc = nlp('Her bags are better than his.')\n",
    "print(*[f'word: {word.text+\" \"}\\tlemma: {word.lemma}' for sent in doc.sentences for word in sent.words], sep='\\n')"
   ]
  },
  {
   "cell_type": "code",
   "execution_count": null,
   "id": "b1b7cdde-f8e0-4b2e-b55c-b2000edb8890",
   "metadata": {},
   "outputs": [],
   "source": [
    "#lemmatization\n",
    "nlp = stanza.Pipeline(lang='en', processors='tokenize,mwt,pos,lemma')\n",
    "\n",
    "def lemma(txt):\n",
    "    s = ''\n",
    "    doc = nlp(txt)\n",
    "    \n",
    "    for sent in doc.sentences:\n",
    "        for word in sent.words:\n",
    "            s += word.lemma + ' '\n",
    "    \n",
    "    return s"
   ]
  },
  {
   "cell_type": "code",
   "execution_count": null,
   "id": "5cc24721-0cfe-4637-801a-b8e3ae6e06b7",
   "metadata": {},
   "outputs": [],
   "source": [
    "df['exTweet'] = df['Tweet'].apply(lemma)\n",
    "df.to_csv(\"test.csv\")\n",
    "df.head(10)"
   ]
  },
  {
   "cell_type": "code",
   "execution_count": null,
   "id": "63b12a4b-83f3-4757-87c5-55fc1c1da35c",
   "metadata": {},
   "outputs": [],
   "source": [
    "import time\n",
    "import schedule\n",
    "import datetime\n",
    "\n",
    "def job():\n",
    "    #検索ワード、条件\n",
    "    s='btc min_faves:5 -filter:retweets'\n",
    "    \n",
    "    #5日前と4日前の時刻を取得\n",
    "    dt  = datetime.date.today()\n",
    "    dt5 = dt + datetime.timedelta(days=-5)\n",
    "    dt4 = dt + datetime.timedelta(days=-4)\n",
    "\n",
    "    tweets = tweepy.Cursor(api.search,  \n",
    "                           q=s,\n",
    "                           exclude_replies=True,\n",
    "                           tweet_mode='extended',\n",
    "                           lang = 'en',\n",
    "                           since= dt5,\n",
    "                           until= dt4,\n",
    "                          ).items(10);\n",
    "    \n",
    "    #ツイートのリスト\n",
    "    t_data = []\n",
    "    for tweet in tweets:\n",
    "        t_data.append([tweet.user.name,\n",
    "                       '@'+tweet.user.screen_name,\n",
    "                       tweet.user.friends_count,\n",
    "                       tweet.user.followers_count,\n",
    "                       tweet.full_text.replace('\\n',''),\n",
    "                       tweet.favorite_count,\n",
    "                       tweet.retweet_count,\n",
    "                       tweet.created_at])\n",
    "\n",
    "\n",
    "              \n",
    "    #処理前ツイート出力\n",
    "    df = pd.DataFrame(data=t_data, columns=['Name','User Name','Following','Followers','Tweet','Favorite','RT','created at'])\n",
    "    \n",
    "    df.to_csv(f'./tweet-of-btc/{dt5}-{dt4}.csv')\n",
    "\n",
    "    #件数確認\n",
    "    print('{} ~ {}：{}件\\n'.format(dt5,dt4,len(t_data)))"
   ]
  },
  {
   "cell_type": "code",
   "execution_count": null,
   "id": "48e10010-995b-478d-ab9b-9e3a1d4a3a55",
   "metadata": {},
   "outputs": [],
   "source": [
    "def main():\n",
    "    schedule.every(1).minutes.do(job)\n",
    "\n",
    "    while True:\n",
    "        schedule.run_pending()\n",
    "        time.sleep(1)\n",
    "        \n",
    "if __name__ == \"__main__\":\n",
    "    main()"
   ]
  }
 ],
 "metadata": {
  "kernelspec": {
   "display_name": "Python 3",
   "language": "python",
   "name": "python3"
  },
  "language_info": {
   "codemirror_mode": {
    "name": "ipython",
    "version": 3
   },
   "file_extension": ".py",
   "mimetype": "text/x-python",
   "name": "python",
   "nbconvert_exporter": "python",
   "pygments_lexer": "ipython3",
   "version": "3.8.1"
  }
 },
 "nbformat": 4,
 "nbformat_minor": 5
}
