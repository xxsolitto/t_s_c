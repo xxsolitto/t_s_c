{
 "cells": [
  {
   "cell_type": "code",
   "execution_count": 1,
   "id": "fdb5fe80-e688-4eef-a240-c1c8a6495fe0",
   "metadata": {
    "tags": []
   },
   "outputs": [],
   "source": [
    "import tweepy\n",
    "from twarc import Twarc2, expansions\n",
    "from wordcloud import WordCloud\n",
    "import pandas as pd\n",
    "import numpy as np\n",
    "import re\n",
    "import matplotlib.pyplot as plt\n",
    "import nltk\n",
    "from pylab import rcParams\n",
    "rcParams['figure.figsize'] = 12, 8\n",
    "from nltk.stem.porter import PorterStemmer as PS\n",
    "import time\n",
    "import schedule\n",
    "import datetime\n",
    "import gc"
   ]
  },
  {
   "cell_type": "code",
   "execution_count": null,
   "id": "0032ec5a-1d71-4faf-a1cb-696b3c235730",
   "metadata": {},
   "outputs": [],
   "source": [
    "#lemmatization\n",
    "import stanza\n",
    "stanza.download('en') # download English model\n",
    "nlp = stanza.Pipeline('en') # initialize English neural pipeline\n",
    "doc = nlp(\"Barack Obama was born in Hawaii.\") # run annotation over a sentence"
   ]
  },
  {
   "cell_type": "code",
   "execution_count": null,
   "id": "24b605f0-dedf-465b-bb24-dd62b23c5c94",
   "metadata": {},
   "outputs": [],
   "source": [
    "import stanza\n",
    "\n",
    "nlp = stanza.Pipeline(lang='en', processors='tokenize,mwt,pos,lemma')\n",
    "doc = nlp('Her bags are better than his.')\n",
    "print(*[f'word: {word.text+\" \"}\\tlemma: {word.lemma}' for sent in doc.sentences for word in sent.words], sep='\\n')"
   ]
  },
  {
   "cell_type": "code",
   "execution_count": null,
   "id": "b1b7cdde-f8e0-4b2e-b55c-b2000edb8890",
   "metadata": {},
   "outputs": [],
   "source": [
    "#lemmatization\n",
    "nlp = stanza.Pipeline(lang='en', processors='tokenize,mwt,pos,lemma')\n",
    "\n",
    "def lemma(txt):\n",
    "    s = ''\n",
    "    doc = nlp(txt)\n",
    "    \n",
    "    for sent in doc.sentences:\n",
    "        for word in sent.words:\n",
    "            s += word.lemma + ' '\n",
    "    \n",
    "    return s"
   ]
  },
  {
   "cell_type": "code",
   "execution_count": null,
   "id": "5cc24721-0cfe-4637-801a-b8e3ae6e06b7",
   "metadata": {},
   "outputs": [],
   "source": [
    "df['exTweet'] = df['Tweet'].apply(lemma)\n",
    "df.to_csv(\"test.csv\")\n",
    "df.head(10)"
   ]
  },
  {
   "cell_type": "code",
   "execution_count": 4,
   "id": "f0da3040-6945-499b-b57d-0bb15df0a63d",
   "metadata": {},
   "outputs": [
    {
     "data": {
      "text/plain": [
       "収集時刻         2021-09-04 19:42:05.9046782021-09-05 01:57:17....\n",
       "区間(start)    2021-01-01T00:00:00Z2021-02-01T00:00:00Z2021-0...\n",
       "区間(end)      2021-02-01T00:00:00Z2021-03-01T00:00:00Z2021-0...\n",
       "収集件数                                                  11269778\n",
       "dtype: object"
      ]
     },
     "execution_count": 4,
     "metadata": {},
     "output_type": "execute_result"
    }
   ],
   "source": [
    "df = pd.read_csv('./tweet-of-btc/assembling-log.csv')\n",
    "df.sum()"
   ]
  },
  {
   "cell_type": "code",
   "execution_count": 36,
   "id": "ab8334a9-8ef1-4f9e-b997-b322b8b64479",
   "metadata": {},
   "outputs": [],
   "source": [
    "df1 = pd.read_csv('./tweet-of-btc/2021-01_tlist.csv',dtype={'Favorite':'int32','RT':'int32',})\n",
    "df2 = pd.read_csv('./tweet-of-btc/2021-01_ulist.csv', usecols = ['Following','Followers','author_id'],dtype={'Following':'int32','Followers':'int32',})"
   ]
  },
  {
   "cell_type": "code",
   "execution_count": 37,
   "id": "24d99513-3d54-4abb-97f2-1229accf585b",
   "metadata": {},
   "outputs": [
    {
     "name": "stdout",
     "output_type": "stream",
     "text": [
      "Tweet         object\n",
      "Favorite       int32\n",
      "RT             int32\n",
      "created_at    object\n",
      "author_id      int64\n",
      "dtype: object\n",
      "Tweet         12570992\n",
      "Favorite       6285496\n",
      "RT             6285496\n",
      "created_at    12570992\n",
      "author_id     12570992\n",
      "dtype: int64\n",
      "Following    int32\n",
      "Followers    int32\n",
      "author_id    int64\n",
      "dtype: object\n",
      "Following     5247724\n",
      "Followers     5247724\n",
      "author_id    10495448\n",
      "dtype: int64\n"
     ]
    }
   ],
   "source": [
    "print(df1.dtypes)\n",
    "print(df1.memory_usage(index=False))\n",
    "print(df2.dtypes)\n",
    "print(df2.memory_usage(index=False))"
   ]
  },
  {
   "cell_type": "code",
   "execution_count": null,
   "id": "6e7af7d1-0e38-45f4-a037-adc4bf87fd00",
   "metadata": {},
   "outputs": [],
   "source": [
    "df3 = pd.merge(df1 ,df2, on='author_id')\n",
    "print(\"merge完了\")\n",
    "del df1,df2\n",
    "print(\"del完了\")\n",
    "df3.drop(index = 'author_id',inplace =True)\n",
    "print(\"drop完了\")\n",
    "df3.sort_values(by = 'created_at', ascending = True, inplace = True) \n",
    "print(\"sort完了\")\n"
   ]
  },
  {
   "cell_type": "code",
   "execution_count": null,
   "id": "3fc5c7a3-56a3-4776-be03-fc818bbde5a9",
   "metadata": {},
   "outputs": [],
   "source": [
    "df3.to_csv('./tweet-of-btc/2021-01_alist.csv', index=False)"
   ]
  },
  {
   "cell_type": "code",
   "execution_count": 26,
   "id": "31526ce4-23b6-4461-a6d4-1dc10776bd4a",
   "metadata": {},
   "outputs": [
    {
     "name": "stdout",
     "output_type": "stream",
     "text": [
      "[65762, 551838, 884991, 97577, 502693, 101034]\n",
      "[18354, 822642, 111523, 81375, 76418, 27159]\n",
      "[4194587, 4194558, 4194444, 4194369, 4194157, 4194078]\n",
      "[61327137, 61328365, 59693310, 54564083, 59718323, 59725152]\n"
     ]
    }
   ],
   "source": [
    "print(fav)\n",
    "print(rt)\n",
    "print(follow)\n",
    "print(follower)"
   ]
  },
  {
   "cell_type": "code",
   "execution_count": 5,
   "id": "581b9f0e-01ad-49ac-8d1a-fc4fbd711fb2",
   "metadata": {},
   "outputs": [
    {
     "data": {
      "text/plain": [
       "90"
      ]
     },
     "execution_count": 5,
     "metadata": {},
     "output_type": "execute_result"
    }
   ],
   "source": [
    "gc.collect()"
   ]
  },
  {
   "cell_type": "code",
   "execution_count": 4,
   "id": "493424b2-2253-460c-a6c9-3000baedbffc",
   "metadata": {},
   "outputs": [],
   "source": [
    "df = pd.read_csv('./tweet-of-btc/2021-01_tlist.csv', usecols = ['Tweet','created_at','author_id'])\n",
    "df.tail(10)\n",
    "df.to_csv('./2021-01_test.csv', index=False)"
   ]
  },
  {
   "cell_type": "code",
   "execution_count": null,
   "id": "b6691812-e3f9-44ce-b58d-24f7f485bc7c",
   "metadata": {},
   "outputs": [],
   "source": []
  }
 ],
 "metadata": {
  "kernelspec": {
   "display_name": "Python 3",
   "language": "python",
   "name": "python3"
  },
  "language_info": {
   "codemirror_mode": {
    "name": "ipython",
    "version": 3
   },
   "file_extension": ".py",
   "mimetype": "text/x-python",
   "name": "python",
   "nbconvert_exporter": "python",
   "pygments_lexer": "ipython3",
   "version": "3.8.1"
  }
 },
 "nbformat": 4,
 "nbformat_minor": 5
}
