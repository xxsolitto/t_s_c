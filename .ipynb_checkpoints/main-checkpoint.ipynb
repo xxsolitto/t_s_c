{
 "cells": [
  {
   "cell_type": "code",
   "execution_count": 39,
   "id": "326eb587-d550-4073-ade6-03fb33cf3ab6",
   "metadata": {},
   "outputs": [],
   "source": [
    "#ライブラリ\n",
    "import tweepy\n",
    "import nltk\n",
    "import pandas as pd\n",
    "import numpy as np\n",
    "import re\n",
    "import matplotlib.pyplot as plt"
   ]
  },
  {
   "cell_type": "code",
   "execution_count": 40,
   "id": "cfaa67d6-06a4-4c56-b465-dbbfa32d8a60",
   "metadata": {},
   "outputs": [],
   "source": [
    "#Twitter API config読み込み\n",
    "config = pd.read_csv(\"./config.csv\")"
   ]
  },
  {
   "cell_type": "code",
   "execution_count": 47,
   "id": "745ee74a-870e-400a-8326-a60418fd1d9b",
   "metadata": {},
   "outputs": [],
   "source": [
    "# Twitter API config\n",
    "twitterApiKey = config['twitterApiKey'][0]\n",
    "twitterApiSecret = config['twitterApiSecret'][0]\n",
    "twitterApiAccessToken = config['twitterApiAccessToken'][0]\n",
    "twitterApiAccessTokenSecret = config['twitterApiAccessTokenSecret'][0]"
   ]
  },
  {
   "cell_type": "code",
   "execution_count": 54,
   "id": "3392834f-6282-4dee-b959-42502184f8b0",
   "metadata": {},
   "outputs": [],
   "source": [
    "# Authenticate\n",
    "auth = tweepy.OAuthHandler(twitterApiKey, twitterApiSecret)\n",
    "auth.set_access_token(twitterApiAccessToken, twitterApiAccessTokenSecret)\n",
    "api = tweepy.API(auth, wait_on_rate_limit = True)"
   ]
  },
  {
   "cell_type": "code",
   "execution_count": 55,
   "id": "c7e69323-a274-4f84-a886-947cd7f40785",
   "metadata": {
    "tags": []
   },
   "outputs": [],
   "source": [
    "# ツイートを取得\n",
    "s=\"btc min_faves:1000 min_retweets:1000 exclude:retweets\"\n",
    "tweets = tweepy.Cursor(api.search,  \n",
    "#                        count=10,\n",
    "                        q=s,\n",
    "                        exclude_replies=True,\n",
    "                        tweet_mode='extended',\n",
    "                        lang = 'en',\n",
    "                        since='2021-07-08',\n",
    "                        until='2021-07-12'\n",
    "                        ).items(10);"
   ]
  },
  {
   "cell_type": "code",
   "execution_count": 56,
   "id": "0e3503a8-9e16-4c51-a299-2557cdcf35b3",
   "metadata": {},
   "outputs": [],
   "source": [
    "#処理前ツイート出力\n",
    "df = pd.DataFrame(data=[tweet.full_text for tweet in tweets], columns=['Tweet'])"
   ]
  },
  {
   "cell_type": "code",
   "execution_count": 57,
   "id": "81a72356-2f43-453b-ad5d-a71408f64c2a",
   "metadata": {},
   "outputs": [
    {
     "data": {
      "text/html": [
       "<div>\n",
       "<style scoped>\n",
       "    .dataframe tbody tr th:only-of-type {\n",
       "        vertical-align: middle;\n",
       "    }\n",
       "\n",
       "    .dataframe tbody tr th {\n",
       "        vertical-align: top;\n",
       "    }\n",
       "\n",
       "    .dataframe thead th {\n",
       "        text-align: right;\n",
       "    }\n",
       "</style>\n",
       "<table border=\"1\" class=\"dataframe\">\n",
       "  <thead>\n",
       "    <tr style=\"text-align: right;\">\n",
       "      <th></th>\n",
       "      <th>Tweet</th>\n",
       "    </tr>\n",
       "  </thead>\n",
       "  <tbody>\n",
       "    <tr>\n",
       "      <th>0</th>\n",
       "      <td>The Blue Dollar (Informal ARS/USD exchange rat...</td>\n",
       "    </tr>\n",
       "    <tr>\n",
       "      <th>1</th>\n",
       "      <td>BTCEarn Amazing Rewards Coin!💎\\n\\nNew Presale ...</td>\n",
       "    </tr>\n",
       "    <tr>\n",
       "      <th>2</th>\n",
       "      <td>📣$70K #BTC+#BSC GIVEAWAY 📣\\n\\nOn behalf of the...</td>\n",
       "    </tr>\n",
       "    <tr>\n",
       "      <th>3</th>\n",
       "      <td>FINALLY PHASE 1 HAS BEEN LAUNCHED!!!!!!!!!!!!!...</td>\n",
       "    </tr>\n",
       "    <tr>\n",
       "      <th>4</th>\n",
       "      <td>I am here to unite Paraguay 🇵🇾, that is why we...</td>\n",
       "    </tr>\n",
       "    <tr>\n",
       "      <th>5</th>\n",
       "      <td>$1000 #BNB &amp;amp; NFT GIVEAWAY (via @Treasurela...</td>\n",
       "    </tr>\n",
       "    <tr>\n",
       "      <th>6</th>\n",
       "      <td>🐕 DogeBTC 🐕 Whitelist is now live! Join here: ...</td>\n",
       "    </tr>\n",
       "    <tr>\n",
       "      <th>7</th>\n",
       "      <td>Apple co-founder Steve Wozniak Calls #Bitcoin ...</td>\n",
       "    </tr>\n",
       "    <tr>\n",
       "      <th>8</th>\n",
       "      <td>@MattWallace888 BTC &amp;amp; ETH are pursuing a m...</td>\n",
       "    </tr>\n",
       "    <tr>\n",
       "      <th>9</th>\n",
       "      <td>💎$15,000 GIVEAWAY💎\\nI will send 50 #bnb to 5 p...</td>\n",
       "    </tr>\n",
       "  </tbody>\n",
       "</table>\n",
       "</div>"
      ],
      "text/plain": [
       "                                               Tweet\n",
       "0  The Blue Dollar (Informal ARS/USD exchange rat...\n",
       "1  BTCEarn Amazing Rewards Coin!💎\\n\\nNew Presale ...\n",
       "2  📣$70K #BTC+#BSC GIVEAWAY 📣\\n\\nOn behalf of the...\n",
       "3  FINALLY PHASE 1 HAS BEEN LAUNCHED!!!!!!!!!!!!!...\n",
       "4  I am here to unite Paraguay 🇵🇾, that is why we...\n",
       "5  $1000 #BNB &amp; NFT GIVEAWAY (via @Treasurela...\n",
       "6  🐕 DogeBTC 🐕 Whitelist is now live! Join here: ...\n",
       "7  Apple co-founder Steve Wozniak Calls #Bitcoin ...\n",
       "8  @MattWallace888 BTC &amp; ETH are pursuing a m...\n",
       "9  💎$15,000 GIVEAWAY💎\\nI will send 50 #bnb to 5 p..."
      ]
     },
     "execution_count": 57,
     "metadata": {},
     "output_type": "execute_result"
    }
   ],
   "source": [
    "#処理前ツイート先頭10件\n",
    "df.head(10)"
   ]
  },
  {
   "cell_type": "code",
   "execution_count": 52,
   "id": "18f976ab-4f53-4993-b172-71123493830b",
   "metadata": {},
   "outputs": [
    {
     "data": {
      "text/html": [
       "<div>\n",
       "<style scoped>\n",
       "    .dataframe tbody tr th:only-of-type {\n",
       "        vertical-align: middle;\n",
       "    }\n",
       "\n",
       "    .dataframe tbody tr th {\n",
       "        vertical-align: top;\n",
       "    }\n",
       "\n",
       "    .dataframe thead th {\n",
       "        text-align: right;\n",
       "    }\n",
       "</style>\n",
       "<table border=\"1\" class=\"dataframe\">\n",
       "  <thead>\n",
       "    <tr style=\"text-align: right;\">\n",
       "      <th></th>\n",
       "      <th>Tweet</th>\n",
       "    </tr>\n",
       "  </thead>\n",
       "  <tbody>\n",
       "    <tr>\n",
       "      <th>0</th>\n",
       "      <td>The Blue Dollar (Informal ARS/USD exchange rat...</td>\n",
       "    </tr>\n",
       "    <tr>\n",
       "      <th>1</th>\n",
       "      <td>BTCEarn Amazing Rewards Coin!💎\\n\\nNew Presale ...</td>\n",
       "    </tr>\n",
       "    <tr>\n",
       "      <th>2</th>\n",
       "      <td>📣$70K #BTC+#BSC GIVEAWAY 📣\\n\\nOn behalf of the...</td>\n",
       "    </tr>\n",
       "    <tr>\n",
       "      <th>3</th>\n",
       "      <td>FINALLY PHASE 1 HAS BEEN LAUNCHED!!!!!!!!!!!!!...</td>\n",
       "    </tr>\n",
       "    <tr>\n",
       "      <th>4</th>\n",
       "      <td>I am here to unite Paraguay 🇵🇾, that is why we...</td>\n",
       "    </tr>\n",
       "    <tr>\n",
       "      <th>5</th>\n",
       "      <td>$1000 #BNB &amp;amp; NFT GIVEAWAY (via @Treasurela...</td>\n",
       "    </tr>\n",
       "    <tr>\n",
       "      <th>6</th>\n",
       "      <td>🐕 DogeBTC 🐕 Whitelist is now live! Join here: ...</td>\n",
       "    </tr>\n",
       "    <tr>\n",
       "      <th>7</th>\n",
       "      <td>Apple co-founder Steve Wozniak Calls #Bitcoin ...</td>\n",
       "    </tr>\n",
       "    <tr>\n",
       "      <th>8</th>\n",
       "      <td>@MattWallace888 BTC &amp;amp; ETH are pursuing a m...</td>\n",
       "    </tr>\n",
       "    <tr>\n",
       "      <th>9</th>\n",
       "      <td>💎$15,000 GIVEAWAY💎\\nI will send 50 #bnb to 5 p...</td>\n",
       "    </tr>\n",
       "  </tbody>\n",
       "</table>\n",
       "</div>"
      ],
      "text/plain": [
       "                                               Tweet\n",
       "0  The Blue Dollar (Informal ARS/USD exchange rat...\n",
       "1  BTCEarn Amazing Rewards Coin!💎\\n\\nNew Presale ...\n",
       "2  📣$70K #BTC+#BSC GIVEAWAY 📣\\n\\nOn behalf of the...\n",
       "3  FINALLY PHASE 1 HAS BEEN LAUNCHED!!!!!!!!!!!!!...\n",
       "4  I am here to unite Paraguay 🇵🇾, that is why we...\n",
       "5  $1000 #BNB &amp; NFT GIVEAWAY (via @Treasurela...\n",
       "6  🐕 DogeBTC 🐕 Whitelist is now live! Join here: ...\n",
       "7  Apple co-founder Steve Wozniak Calls #Bitcoin ...\n",
       "8  @MattWallace888 BTC &amp; ETH are pursuing a m...\n",
       "9  💎$15,000 GIVEAWAY💎\\nI will send 50 #bnb to 5 p..."
      ]
     },
     "execution_count": 52,
     "metadata": {},
     "output_type": "execute_result"
    }
   ],
   "source": [
    "#処理前ツイート末尾10件\n",
    "df.tail(10)"
   ]
  },
  {
   "cell_type": "code",
   "execution_count": 53,
   "id": "b8e77e95-0e32-4b6a-b578-be0fe1bea969",
   "metadata": {},
   "outputs": [],
   "source": [
    "df.to_csv(\"test.csv\")"
   ]
  },
  {
   "cell_type": "code",
   "execution_count": null,
   "id": "a5e5d45b-5a0d-4b25-be0e-9c7210c6404c",
   "metadata": {},
   "outputs": [],
   "source": []
  }
 ],
 "metadata": {
  "kernelspec": {
   "display_name": "Python 3",
   "language": "python",
   "name": "python3"
  },
  "language_info": {
   "codemirror_mode": {
    "name": "ipython",
    "version": 3
   },
   "file_extension": ".py",
   "mimetype": "text/x-python",
   "name": "python",
   "nbconvert_exporter": "python",
   "pygments_lexer": "ipython3",
   "version": "3.8.8"
  }
 },
 "nbformat": 4,
 "nbformat_minor": 5
}
