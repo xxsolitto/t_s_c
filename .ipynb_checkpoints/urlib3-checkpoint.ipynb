{
 "cells": [
  {
   "cell_type": "code",
   "execution_count": 1,
   "id": "947f15ae-0458-4a3d-a2e6-5530401cc12b",
   "metadata": {},
   "outputs": [],
   "source": [
    "import urllib3\n",
    "import json\n",
    "import pandas as pd\n",
    "import numpy  as np"
   ]
  },
  {
   "cell_type": "code",
   "execution_count": 3,
   "id": "1af159b5-b9f9-4aa0-9ad0-ed7fbe0f893c",
   "metadata": {
    "tags": []
   },
   "outputs": [],
   "source": [
    "#ツイート収集本体\n",
    "def getTweetByText(http,key,searchFeild):\n",
    "    url  = 'https://api.twitter.com/2/tweets/search/all'\n",
    "\n",
    "    req = http.request('GET',\n",
    "                        url,\n",
    "                        headers= {'Authorization': 'Bearer '+key},\n",
    "                        fields = searchFeild\n",
    "                      )\n",
    "\n",
    "    result = json.loads(req.data)\n",
    "    if (req.status != 200):\n",
    "        print('検索失敗')\n",
    "        print(req.status)\n",
    "        print(result['errors'])\n",
    "        \n",
    "    return result"
   ]
  },
  {
   "cell_type": "code",
   "execution_count": 2,
   "id": "e24c5464-d942-4daa-a26d-0f000d9e44bc",
   "metadata": {},
   "outputs": [],
   "source": [
    "# 引数1,2\n",
    "config = pd.read_csv(\"./config_academic.csv\")\n",
    "twitterAPIBearerToken=config['twitterApiBearerToken'][0]\n",
    "\n",
    "http = urllib3.PoolManager()\n",
    "KEY  = twitterAPIBearerToken"
   ]
  },
  {
   "cell_type": "code",
   "execution_count": 4,
   "id": "6b45dd1a-9aec-4f15-831f-c72550629578",
   "metadata": {},
   "outputs": [],
   "source": [
    "#検索クエリ(引数3)\n",
    "params = {'query'        : '(btc OR bitcoin) -giveaway lang:en -is:retweet -is:reply -is:nullcast',\n",
    "          'start_time'   : '2021-05-02T00:00:00Z',\n",
    "          'end_time'     : '2021-05-02T23:59:59Z',\n",
    "          'max_results'  : 500,\n",
    "          'expansions'   : 'author_id',\n",
    "          'tweet.fields' : 'text,created_at,public_metrics',\n",
    "          'user.fields'  : 'name,username,public_metrics'\n",
    "          }"
   ]
  },
  {
   "cell_type": "code",
   "execution_count": 5,
   "id": "60ebec43-07ab-499d-85a4-3fb578995d77",
   "metadata": {},
   "outputs": [],
   "source": [
    "#ツイート収集実行\n",
    "next_token    = ''\n",
    "break_flag    = False\n",
    "request_count = 0\n",
    "tweet_count   = 0\n",
    "counter       = 1\n",
    "t_data        = []  # tweetのリスト\n",
    "u_data        = []  # userのリスト\n",
    "\n",
    "# 次ページがなくなるまで次ページのクエリを取得\n",
    "while True:\n",
    "    try:\n",
    "        data['meta']['next_token']\n",
    "        \n",
    "    # n+1回目：次ページがない(next_tokenがない)のでループを抜ける   \n",
    "    except KeyError:\n",
    "        break_flag = True\n",
    "        \n",
    "    # 1回目 \n",
    "    except NameError:\n",
    "        query = params\n",
    "    \n",
    "    ## 2≦k≦n回目　\n",
    "    else:\n",
    "        next_token = data['meta']['next_token']\n",
    "        params['next_token'] = next_token\n",
    "        query = params\n",
    "\n",
    "    finally:\n",
    "        if break_flag == True:\n",
    "            break\n",
    "\n",
    "        # 1リクエストで収集したデータ\n",
    "        data = getTweetByText(http, KEY, query)\n",
    "        \n",
    "        # tweet.fields\n",
    "        if ('data' in data):          \n",
    "            for i in range(data['meta']['result_count']):\n",
    "                t_data.append([data['data'][i]['text'],\n",
    "                               data['data'][i]['public_metrics']['like_count'],\n",
    "                               data['data'][i]['public_metrics']['retweet_count'],\n",
    "                               data['data'][i]['created_at'],\n",
    "                               data['data'][i]['author_id']])\n",
    "                i += 1\n",
    "                \n",
    "        # user.fields\n",
    "        if ('includes' in data):\n",
    "            for user in data['includes']['users']:\n",
    "                u_data.append([user['name'],\n",
    "                               '@'+user['username'],\n",
    "                               user['public_metrics']['following_count'],\n",
    "                               user['public_metrics']['followers_count'],\n",
    "                               user['id']])\n",
    "\n",
    "        tweet_count += data['meta']['result_count']\n",
    "        request_count += 1\n",
    "        if request_count >= 300: # 180requestを超えたら止める\n",
    "            print('{}.300リクエストを超えるため、15分間停止します...'.format(counter))\n",
    "            time.sleep(15.01*60) # 15分間（余裕をみてプラス1秒弱）中断\n",
    "            print('収集を再開します')\n",
    "            counter += 1\n",
    "            request_count = 0"
   ]
  },
  {
   "cell_type": "code",
   "execution_count": 12,
   "id": "30a87184-5b4b-4fe7-9cfa-1f277b6c24ef",
   "metadata": {},
   "outputs": [
    {
     "name": "stdout",
     "output_type": "stream",
     "text": [
      "43451件収集完了\n"
     ]
    }
   ],
   "source": [
    "print(\"{}件収集完了\".format(tweet_count))\n",
    "        \n",
    "#csv出力\n",
    "df1 = pd.DataFrame(data=t_data, columns=['Tweet','Favorite','RT','created_at','author_id'])\n",
    "df1.to_csv('./tweet-of-btc/tweet_list.csv')\n",
    "df2 = pd.DataFrame(data=u_data, columns=['Name','User_Name','Following','Followers','author_id'])\n",
    "df2.to_csv('./tweet-of-btc/user_list.csv')\n",
    "\n",
    "df3=pd.merge(df2 ,df1, on='author_id')\n",
    "sorted_df = df3.sort_values(['created_at'])\n",
    "df3.to_csv('./tweet-of-btc/list.csv')"
   ]
  },
  {
   "cell_type": "code",
   "execution_count": null,
   "id": "11de85b8-6fef-4d60-9856-321568c2fded",
   "metadata": {},
   "outputs": [],
   "source": []
  }
 ],
 "metadata": {
  "kernelspec": {
   "display_name": "Python 3",
   "language": "python",
   "name": "python3"
  },
  "language_info": {
   "codemirror_mode": {
    "name": "ipython",
    "version": 3
   },
   "file_extension": ".py",
   "mimetype": "text/x-python",
   "name": "python",
   "nbconvert_exporter": "python",
   "pygments_lexer": "ipython3",
   "version": "3.8.1"
  }
 },
 "nbformat": 4,
 "nbformat_minor": 5
}
