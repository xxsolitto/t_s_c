{
 "cells": [
  {
   "cell_type": "code",
   "execution_count": 1,
   "id": "fdb5fe80-e688-4eef-a240-c1c8a6495fe0",
   "metadata": {
    "tags": []
   },
   "outputs": [],
   "source": [
    "import tweepy\n",
    "from wordcloud import WordCloud\n",
    "import pandas as pd\n",
    "import numpy as np\n",
    "import re\n",
    "import matplotlib.pyplot as plt\n",
    "import nltk\n",
    "from pylab import rcParams\n",
    "rcParams['figure.figsize'] = 12, 8\n",
    "from nltk.stem.porter import PorterStemmer as PS"
   ]
  },
  {
   "cell_type": "code",
   "execution_count": 2,
   "id": "50361529-4337-41a5-b4b2-f3e8ad374739",
   "metadata": {},
   "outputs": [],
   "source": [
    "config = pd.read_csv(\"./config.csv\")"
   ]
  },
  {
   "cell_type": "code",
   "execution_count": 3,
   "id": "3f22723c-e51b-407f-a5b8-53499bb7b645",
   "metadata": {},
   "outputs": [],
   "source": [
    "# Twitter API config\n",
    "twitterApiKey = config['twitterApiKey'][0]\n",
    "twitterApiSecret = config['twitterApiSecret'][0]\n",
    "twitterApiAccessToken = config['twitterApiAccessToken'][0]\n",
    "twitterApiAccessTokenSecret = config['twitterApiAccessTokenSecret'][0]"
   ]
  },
  {
   "cell_type": "code",
   "execution_count": 4,
   "id": "a5588e72-1b9c-4aaa-9114-b862d4657081",
   "metadata": {},
   "outputs": [],
   "source": [
    "# Authenticate\n",
    "auth = tweepy.OAuthHandler(twitterApiKey, twitterApiSecret)\n",
    "auth.set_access_token(twitterApiAccessToken, twitterApiAccessTokenSecret)\n",
    "api = tweepy.API(auth, wait_on_rate_limit = True)"
   ]
  },
  {
   "cell_type": "code",
   "execution_count": 5,
   "id": "d3bd6f93-8e4b-441a-9887-905300878bb9",
   "metadata": {},
   "outputs": [],
   "source": [
    "# キーワードからツイートを取得\n",
    "s='btc exclude:retweets'\n",
    "tweets = tweepy.Cursor(api.search,  \n",
    "                        count=10000,\n",
    "                        q=s,\n",
    "                        exclude_replies=True,\n",
    "                        tweet_mode='extended',\n",
    "                        show_user=True,\n",
    "                        lang = 'en',\n",
    "                        since='2021-07-08',\n",
    "                        until='2021-07-13',\n",
    "                        ).items(1000000);\n"
   ]
  },
  {
   "cell_type": "code",
   "execution_count": null,
   "id": "25e5ea6e-a718-41f3-8b3f-225116663ad3",
   "metadata": {},
   "outputs": [],
   "source": [
    "#ツイートの配列\n",
    "t_data = []\n",
    "for tweet in tweets:\n",
    "    t_data.append([tweet.user.name,'@'+tweet.user.screen_name,tweet.user.followers_count,tweet.full_text.replace('\\n',''),tweet.favorite_count,tweet.retweet_count])"
   ]
  },
  {
   "cell_type": "code",
   "execution_count": null,
   "id": "1be10473-89b1-43b8-a4c2-8c0e7114d7bb",
   "metadata": {},
   "outputs": [],
   "source": [
    "df = pd.DataFrame(data=t_data, columns=['Name','User Name','Followers','Tweet','Favorite','RT'])\n",
    "df.head(10)"
   ]
  },
  {
   "cell_type": "code",
   "execution_count": null,
   "id": "702c355b-7df0-482f-8cbe-9c617078e298",
   "metadata": {},
   "outputs": [],
   "source": [
    "df.tail(10)"
   ]
  },
  {
   "cell_type": "code",
   "execution_count": null,
   "id": "5b71ca6d-b2a8-430e-abb0-a2fdc115cde4",
   "metadata": {},
   "outputs": [],
   "source": [
    "for tweet in tweepy.Cursor(api.search, q='緊急事態宣言 min_faves:400 min_retweets:400 exclude:retweets').items(10):\n",
    "    print(tweet)\n"
   ]
  },
  {
   "cell_type": "code",
   "execution_count": null,
   "id": "0032ec5a-1d71-4faf-a1cb-696b3c235730",
   "metadata": {},
   "outputs": [],
   "source": []
  },
  {
   "cell_type": "code",
   "execution_count": null,
   "id": "24b605f0-dedf-465b-bb24-dd62b23c5c94",
   "metadata": {},
   "outputs": [],
   "source": []
  }
 ],
 "metadata": {
  "kernelspec": {
   "display_name": "Python 3",
   "language": "python",
   "name": "python3"
  },
  "language_info": {
   "codemirror_mode": {
    "name": "ipython",
    "version": 3
   },
   "file_extension": ".py",
   "mimetype": "text/x-python",
   "name": "python",
   "nbconvert_exporter": "python",
   "pygments_lexer": "ipython3",
   "version": "3.8.1"
  }
 },
 "nbformat": 4,
 "nbformat_minor": 5
}
