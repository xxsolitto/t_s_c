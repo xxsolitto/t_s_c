{
 "cells": [
  {
   "cell_type": "code",
   "execution_count": 1,
   "id": "f324b118-c497-49f8-a58f-7008ac59c0a5",
   "metadata": {},
   "outputs": [],
   "source": [
    "import tweepy\n",
    "\n",
    "# TextBlob - Python library for processing textual data\n",
    "from textblob import TextBlob\n",
    "\n",
    "# WordCloud - Python linrary for creating image wordclouds\n",
    "from wordcloud import WordCloud\n",
    "\n",
    "# Pandas - Data manipulation and analysis library\n",
    "import pandas as pd\n",
    "\n",
    "# NumPy - mathematical functions on multi-dimensional arrays and matrices\n",
    "import numpy as np\n",
    "\n",
    "# Regular Expression Python module\n",
    "import re\n",
    "\n",
    "# Matplotlib - plotting library to create graphs and charts\n",
    "import matplotlib.pyplot as plt\n",
    "\n",
    "import nltk\n",
    "\n",
    "# Settings for Matplotlib graphs and charts\n",
    "from pylab import rcParams\n",
    "rcParams['figure.figsize'] = 12, 8"
   ]
  },
  {
   "cell_type": "code",
   "execution_count": 2,
   "id": "7d92d928-d52e-4089-86f1-df419c318a91",
   "metadata": {},
   "outputs": [],
   "source": [
    "config = pd.read_csv(\"./config.csv\")"
   ]
  },
  {
   "cell_type": "code",
   "execution_count": 3,
   "id": "e4e0c3a9-5779-47d1-a3ad-be1cae99f1f0",
   "metadata": {},
   "outputs": [],
   "source": [
    "# Twitter API config\n",
    "twitterApiKey = config['twitterApiKey'][0]\n",
    "twitterApiSecret = config['twitterApiSecret'][0]\n",
    "twitterApiAccessToken = config['twitterApiAccessToken'][0]\n",
    "twitterApiAccessTokenSecret = config['twitterApiAccessTokenSecret'][0]"
   ]
  },
  {
   "cell_type": "code",
   "execution_count": 6,
   "id": "eb2402ac-8de5-46f4-bfa6-30e0babe37d1",
   "metadata": {},
   "outputs": [],
   "source": [
    "# Authenticate\n",
    "auth = tweepy.OAuthHandler(twitterApiKey, twitterApiSecret)\n",
    "auth.set_access_token(twitterApiAccessToken, twitterApiAccessTokenSecret)\n",
    "twitterApi = tweepy.API(auth, wait_on_rate_limit = True)"
   ]
  },
  {
   "cell_type": "code",
   "execution_count": 7,
   "id": "b9d656df-42d4-420c-b158-5ef9e6f8a170",
   "metadata": {},
   "outputs": [],
   "source": [
    "# キーワードからツイートを取得\n",
    "tweets = tweepy.Cursor(twitterApi.search,  \n",
    "                        count=1000,\n",
    "                        q='COVID',\n",
    "                        exclude_replies=True,\n",
    "                        lang = 'en',\n",
    "                        since='2021/06/27',\n",
    "                        until='2021/06/28'\n",
    "                        ).items(100);\n"
   ]
  },
  {
   "cell_type": "code",
   "execution_count": 8,
   "id": "d9f0b566-e3cf-46e0-bd26-c36f359d5217",
   "metadata": {},
   "outputs": [
    {
     "data": {
      "text/html": [
       "<div>\n",
       "<style scoped>\n",
       "    .dataframe tbody tr th:only-of-type {\n",
       "        vertical-align: middle;\n",
       "    }\n",
       "\n",
       "    .dataframe tbody tr th {\n",
       "        vertical-align: top;\n",
       "    }\n",
       "\n",
       "    .dataframe thead th {\n",
       "        text-align: right;\n",
       "    }\n",
       "</style>\n",
       "<table border=\"1\" class=\"dataframe\">\n",
       "  <thead>\n",
       "    <tr style=\"text-align: right;\">\n",
       "      <th></th>\n",
       "      <th>Tweet</th>\n",
       "    </tr>\n",
       "  </thead>\n",
       "  <tbody>\n",
       "    <tr>\n",
       "      <th>0</th>\n",
       "      <td>RT @AppgCoronavirus: @TheBMA: Chronic fatigue ...</td>\n",
       "    </tr>\n",
       "    <tr>\n",
       "      <th>1</th>\n",
       "      <td>RT @tburages: The CDC is investigating my neph...</td>\n",
       "    </tr>\n",
       "    <tr>\n",
       "      <th>2</th>\n",
       "      <td>@MarxistZA @MbalulaFikile Maybe. Or taxi/bus o...</td>\n",
       "    </tr>\n",
       "    <tr>\n",
       "      <th>3</th>\n",
       "      <td>RT @DFisman: New York State requires MERV-13 f...</td>\n",
       "    </tr>\n",
       "    <tr>\n",
       "      <th>4</th>\n",
       "      <td>RT @_marching_Ents_: Some GPs refuse to give A...</td>\n",
       "    </tr>\n",
       "    <tr>\n",
       "      <th>...</th>\n",
       "      <td>...</td>\n",
       "    </tr>\n",
       "    <tr>\n",
       "      <th>95</th>\n",
       "      <td>RT @phwalsall: Big game tonight as our hopes a...</td>\n",
       "    </tr>\n",
       "    <tr>\n",
       "      <th>96</th>\n",
       "      <td>RT @SenRonJohnson: 12-year old Maddie de Garay...</td>\n",
       "    </tr>\n",
       "    <tr>\n",
       "      <th>97</th>\n",
       "      <td>RT @newvisionwire: ▶️ Police, city dwellers in...</td>\n",
       "    </tr>\n",
       "    <tr>\n",
       "      <th>98</th>\n",
       "      <td>RT @sherinasinna: Now my tolerance for conspir...</td>\n",
       "    </tr>\n",
       "    <tr>\n",
       "      <th>99</th>\n",
       "      <td>RT @halftwottered: With Ireland set to become ...</td>\n",
       "    </tr>\n",
       "  </tbody>\n",
       "</table>\n",
       "<p>100 rows × 1 columns</p>\n",
       "</div>"
      ],
      "text/plain": [
       "                                                Tweet\n",
       "0   RT @AppgCoronavirus: @TheBMA: Chronic fatigue ...\n",
       "1   RT @tburages: The CDC is investigating my neph...\n",
       "2   @MarxistZA @MbalulaFikile Maybe. Or taxi/bus o...\n",
       "3   RT @DFisman: New York State requires MERV-13 f...\n",
       "4   RT @_marching_Ents_: Some GPs refuse to give A...\n",
       "..                                                ...\n",
       "95  RT @phwalsall: Big game tonight as our hopes a...\n",
       "96  RT @SenRonJohnson: 12-year old Maddie de Garay...\n",
       "97  RT @newvisionwire: ▶️ Police, city dwellers in...\n",
       "98  RT @sherinasinna: Now my tolerance for conspir...\n",
       "99  RT @halftwottered: With Ireland set to become ...\n",
       "\n",
       "[100 rows x 1 columns]"
      ]
     },
     "execution_count": 8,
     "metadata": {},
     "output_type": "execute_result"
    }
   ],
   "source": [
    "df = pd.DataFrame(data=[tweet.text for tweet in tweets], columns=['Tweet'])\n",
    "df.head(100)"
   ]
  },
  {
   "cell_type": "code",
   "execution_count": 9,
   "id": "03cfe179-d254-4359-8c1e-fe389a31c2fa",
   "metadata": {},
   "outputs": [],
   "source": [
    "# Cleaning the tweets\n",
    "\n",
    "def cleanUpTweet(txt):\n",
    "    # Remove mentions\n",
    "    txt = re.sub(r'@[A-Za-z0-9_]+', '', txt)\n",
    "    # Remove hashtags\n",
    "    txt = re.sub(r'#', '', txt)\n",
    "    # Remove retweets:\n",
    "    txt = re.sub(r'RT : ', '', txt)\n",
    "    # Remove urls\n",
    "    txt = re.sub(r'https?:\\/\\/[A-Za-z0-9\\.\\/]+', '', txt)\n",
    "    return txt"
   ]
  },
  {
   "cell_type": "code",
   "execution_count": 10,
   "id": "2cc0e4fb-11f0-4269-9279-6055324f22a9",
   "metadata": {},
   "outputs": [],
   "source": [
    "def getTextSubjectivity(txt):\n",
    "    return TextBlob(txt).sentiment.subjectivity\n",
    "\n",
    "def getTextPolarity(txt):\n",
    "    return TextBlob(txt).sentiment.polarity"
   ]
  },
  {
   "cell_type": "code",
   "execution_count": 11,
   "id": "d3b26a53-b565-4f3b-8c06-c6d2831116ed",
   "metadata": {
    "tags": []
   },
   "outputs": [],
   "source": [
    "df['Subjectivity'] = df['Tweet'].apply(getTextSubjectivity)\n",
    "df['Polarity'] = df['Tweet'].apply(getTextPolarity)"
   ]
  },
  {
   "cell_type": "code",
   "execution_count": 12,
   "id": "e97c3958-7f5e-4300-9399-33272de16273",
   "metadata": {},
   "outputs": [],
   "source": [
    "def getTextAnalysis(a):\n",
    "    if a < 0:\n",
    "        return \"Negative\"\n",
    "    elif a == 0:\n",
    "        return \"Neutral\"\n",
    "    else:\n",
    "        return \"Positive\""
   ]
  },
  {
   "cell_type": "code",
   "execution_count": 13,
   "id": "48c508ba-d200-4d0d-86df-6fc3c4948d39",
   "metadata": {},
   "outputs": [],
   "source": [
    "df['Sentiment'] = df['Polarity'].apply(getTextAnalysis)"
   ]
  },
  {
   "cell_type": "code",
   "execution_count": 14,
   "id": "8888ae20-56c6-48bb-b358-d739247c2e7f",
   "metadata": {},
   "outputs": [
    {
     "data": {
      "text/html": [
       "<div>\n",
       "<style scoped>\n",
       "    .dataframe tbody tr th:only-of-type {\n",
       "        vertical-align: middle;\n",
       "    }\n",
       "\n",
       "    .dataframe tbody tr th {\n",
       "        vertical-align: top;\n",
       "    }\n",
       "\n",
       "    .dataframe thead th {\n",
       "        text-align: right;\n",
       "    }\n",
       "</style>\n",
       "<table border=\"1\" class=\"dataframe\">\n",
       "  <thead>\n",
       "    <tr style=\"text-align: right;\">\n",
       "      <th></th>\n",
       "      <th>Tweet</th>\n",
       "      <th>Subjectivity</th>\n",
       "      <th>Polarity</th>\n",
       "      <th>Sentiment</th>\n",
       "    </tr>\n",
       "  </thead>\n",
       "  <tbody>\n",
       "    <tr>\n",
       "      <th>0</th>\n",
       "      <td>RT @AppgCoronavirus: @TheBMA: Chronic fatigue ...</td>\n",
       "      <td>0.500000</td>\n",
       "      <td>0.500000</td>\n",
       "      <td>Positive</td>\n",
       "    </tr>\n",
       "    <tr>\n",
       "      <th>1</th>\n",
       "      <td>RT @tburages: The CDC is investigating my neph...</td>\n",
       "      <td>0.000000</td>\n",
       "      <td>0.000000</td>\n",
       "      <td>Neutral</td>\n",
       "    </tr>\n",
       "    <tr>\n",
       "      <th>2</th>\n",
       "      <td>@MarxistZA @MbalulaFikile Maybe. Or taxi/bus o...</td>\n",
       "      <td>0.450000</td>\n",
       "      <td>-0.200000</td>\n",
       "      <td>Negative</td>\n",
       "    </tr>\n",
       "    <tr>\n",
       "      <th>3</th>\n",
       "      <td>RT @DFisman: New York State requires MERV-13 f...</td>\n",
       "      <td>0.727273</td>\n",
       "      <td>0.068182</td>\n",
       "      <td>Positive</td>\n",
       "    </tr>\n",
       "    <tr>\n",
       "      <th>4</th>\n",
       "      <td>RT @_marching_Ents_: Some GPs refuse to give A...</td>\n",
       "      <td>0.400000</td>\n",
       "      <td>0.100000</td>\n",
       "      <td>Positive</td>\n",
       "    </tr>\n",
       "    <tr>\n",
       "      <th>...</th>\n",
       "      <td>...</td>\n",
       "      <td>...</td>\n",
       "      <td>...</td>\n",
       "      <td>...</td>\n",
       "    </tr>\n",
       "    <tr>\n",
       "      <th>95</th>\n",
       "      <td>RT @phwalsall: Big game tonight as our hopes a...</td>\n",
       "      <td>0.250000</td>\n",
       "      <td>-0.200000</td>\n",
       "      <td>Negative</td>\n",
       "    </tr>\n",
       "    <tr>\n",
       "      <th>96</th>\n",
       "      <td>RT @SenRonJohnson: 12-year old Maddie de Garay...</td>\n",
       "      <td>0.475000</td>\n",
       "      <td>0.237500</td>\n",
       "      <td>Positive</td>\n",
       "    </tr>\n",
       "    <tr>\n",
       "      <th>97</th>\n",
       "      <td>RT @newvisionwire: ▶️ Police, city dwellers in...</td>\n",
       "      <td>0.300000</td>\n",
       "      <td>0.200000</td>\n",
       "      <td>Positive</td>\n",
       "    </tr>\n",
       "    <tr>\n",
       "      <th>98</th>\n",
       "      <td>RT @sherinasinna: Now my tolerance for conspir...</td>\n",
       "      <td>0.142857</td>\n",
       "      <td>0.000000</td>\n",
       "      <td>Neutral</td>\n",
       "    </tr>\n",
       "    <tr>\n",
       "      <th>99</th>\n",
       "      <td>RT @halftwottered: With Ireland set to become ...</td>\n",
       "      <td>0.333333</td>\n",
       "      <td>0.250000</td>\n",
       "      <td>Positive</td>\n",
       "    </tr>\n",
       "  </tbody>\n",
       "</table>\n",
       "<p>100 rows × 4 columns</p>\n",
       "</div>"
      ],
      "text/plain": [
       "                                                Tweet  Subjectivity  Polarity  \\\n",
       "0   RT @AppgCoronavirus: @TheBMA: Chronic fatigue ...      0.500000  0.500000   \n",
       "1   RT @tburages: The CDC is investigating my neph...      0.000000  0.000000   \n",
       "2   @MarxistZA @MbalulaFikile Maybe. Or taxi/bus o...      0.450000 -0.200000   \n",
       "3   RT @DFisman: New York State requires MERV-13 f...      0.727273  0.068182   \n",
       "4   RT @_marching_Ents_: Some GPs refuse to give A...      0.400000  0.100000   \n",
       "..                                                ...           ...       ...   \n",
       "95  RT @phwalsall: Big game tonight as our hopes a...      0.250000 -0.200000   \n",
       "96  RT @SenRonJohnson: 12-year old Maddie de Garay...      0.475000  0.237500   \n",
       "97  RT @newvisionwire: ▶️ Police, city dwellers in...      0.300000  0.200000   \n",
       "98  RT @sherinasinna: Now my tolerance for conspir...      0.142857  0.000000   \n",
       "99  RT @halftwottered: With Ireland set to become ...      0.333333  0.250000   \n",
       "\n",
       "   Sentiment  \n",
       "0   Positive  \n",
       "1    Neutral  \n",
       "2   Negative  \n",
       "3   Positive  \n",
       "4   Positive  \n",
       "..       ...  \n",
       "95  Negative  \n",
       "96  Positive  \n",
       "97  Positive  \n",
       "98   Neutral  \n",
       "99  Positive  \n",
       "\n",
       "[100 rows x 4 columns]"
      ]
     },
     "execution_count": 14,
     "metadata": {},
     "output_type": "execute_result"
    }
   ],
   "source": [
    "df.head(100)"
   ]
  },
  {
   "cell_type": "code",
   "execution_count": 15,
   "id": "462974c9-3a2d-41eb-bdd2-6238960edddf",
   "metadata": {},
   "outputs": [],
   "source": [
    "df.to_csv(\"COVID_sentiment_textblob.csv\")"
   ]
  },
  {
   "cell_type": "code",
   "execution_count": 16,
   "id": "80f70f91-9e86-4078-bb68-8904b8e0611a",
   "metadata": {},
   "outputs": [
    {
     "name": "stdout",
     "output_type": "stream",
     "text": [
      "40.0 % of positive tweets\n",
      "40.0 % of neutral tweets\n",
      "20.0 % of negative tweets\n"
     ]
    }
   ],
   "source": [
    "positive = df[df['Sentiment'] == 'Positive']\n",
    "neutral = df[df['Sentiment'] == 'Neutral']\n",
    "negative = df[df['Sentiment'] == 'Negative']\n",
    "\n",
    "print(str(positive.shape[0]/(df.shape[0])*100) + \" % of positive tweets\")\n",
    "print(str(neutral.shape[0]/(df.shape[0])*100) + \" % of neutral tweets\")\n",
    "print(str(negative.shape[0]/(df.shape[0])*100) + \" % of negative tweets\")"
   ]
  },
  {
   "cell_type": "code",
   "execution_count": 17,
   "id": "487c5c17-bc5d-4994-a346-e5ec8331bc91",
   "metadata": {},
   "outputs": [
    {
     "data": {
      "text/plain": [
       "<BarContainer object of 3 artists>"
      ]
     },
     "execution_count": 17,
     "metadata": {},
     "output_type": "execute_result"
    },
    {
     "data": {
      "image/png": "[encoded data removed]",
      "text/plain": [
       "<Figure size 864x576 with 1 Axes>"
      ]
     },
     "metadata": {
      "needs_background": "light"
     },
     "output_type": "display_data"
    }
   ],
   "source": [
    "labels = df.groupby('Sentiment').count().index.values\n",
    "\n",
    "values = df.groupby('Sentiment').size().values\n",
    "\n",
    "plt.bar(labels, values)"
   ]
  },
  {
   "cell_type": "code",
   "execution_count": null,
   "id": "076ff0f0-99aa-4ccc-bd10-36fc0790783b",
   "metadata": {},
   "outputs": [],
   "source": []
  }
 ],
 "metadata": {
  "kernelspec": {
   "display_name": "Python 3",
   "language": "python",
   "name": "python3"
  },
  "language_info": {
   "codemirror_mode": {
    "name": "ipython",
    "version": 3
   },
   "file_extension": ".py",
   "mimetype": "text/x-python",
   "name": "python",
   "nbconvert_exporter": "python",
   "pygments_lexer": "ipython3",
   "version": "3.8.1"
  }
 },
 "nbformat": 4,
 "nbformat_minor": 5
}
